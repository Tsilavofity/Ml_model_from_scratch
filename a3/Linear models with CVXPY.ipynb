{
 "cells": [
  {
   "cell_type": "markdown",
   "id": "b3ea27df",
   "metadata": {},
   "source": [
    "# Linear regression"
   ]
  },
  {
   "cell_type": "code",
   "execution_count": 1,
   "id": "b73e7ab1",
   "metadata": {
    "deletable": false,
    "editable": false,
    "nbgrader": {
     "cell_type": "code",
     "checksum": "0b9d72bceca8c04b356ed9d623332eba",
     "grade": false,
     "grade_id": "cell-67a03213d3e48fca",
     "locked": true,
     "schema_version": 3,
     "solution": false,
     "task": false
    }
   },
   "outputs": [],
   "source": [
    "import numpy as np\n",
    "import scipy\n",
    "from sklearn.metrics import mean_squared_error\n",
    "from sklearn import datasets\n",
    "from sklearn.linear_model import LinearRegression as LR\n",
    "import cvxpy as cp\n",
    "from sklearn.linear_model import Ridge, Lasso\n",
    "\n",
    "def rel_error(x, y):\n",
    "    \"\"\" returns relative error \"\"\"\n",
    "    return np.max(np.abs(x - y) / (np.maximum(1e-8, np.abs(x) + np.abs(y))))\n",
    "\n",
    "def generate_data(N=100, d=20, sigma=5):\n",
    "    \"\"\" Data for Ridge \"\"\"\n",
    "    np.random.seed(1)\n",
    "    w_star = np.random.randn(d)\n",
    "    X = np.random.randn(N, d)\n",
    "    y = X.dot(w_star) + np.random.normal(0, sigma, size=N)\n",
    "    return X, y\n",
    "\n",
    "def generate_data_lasso(N=100, d=20, sigma=5, density=0.2):\n",
    "    \"\"\" Data for Lasso \"\"\"\n",
    "    np.random.seed(1)\n",
    "    w_star = np.random.randn(d)\n",
    "    idxs = np.random.choice(range(d), int((1-density)*d), replace=False)\n",
    "    for idx in idxs:\n",
    "        w_star[idx] = 0\n",
    "    X = np.random.randn(N,d)\n",
    "    y = X.dot(w_star) + np.random.normal(0, sigma, size=N)\n",
    "    return X, y\n",
    "\n",
    "def sigmoid(z):\n",
    "    return 1/(1 + np.exp(-z))\n",
    "\n",
    "def generate_data_log_reg(N=50, d=50):\n",
    "    np.random.seed(1)\n",
    "    w_star = np.array([1, 0.5, -0.5] + [0]*(d - 3))\n",
    "    X = (np.random.random((N, d)) - 0.5)*10\n",
    "    y = np.round(sigmoid(X @ w_star + np.random.randn(N)*0.5))\n",
    "    return X, y\n",
    "\n",
    "data = datasets.load_diabetes()\n",
    "X_train, y_train = data.data, data.target\n",
    "X_train2, y_train2 = generate_data()\n",
    "X_train3, y_train3 = generate_data_lasso()\n",
    "X_train4, y_train4 = generate_data_log_reg()"
   ]
  },
  {
   "cell_type": "code",
   "execution_count": 2,
   "id": "769e26a5",
   "metadata": {
    "deletable": false,
    "nbgrader": {
     "cell_type": "code",
     "checksum": "9f156a2c87e90511bf9b252872aa35b5",
     "grade": false,
     "grade_id": "cell-301cad8bf10a3781",
     "locked": false,
     "schema_version": 3,
     "solution": true,
     "task": false
    }
   },
   "outputs": [],
   "source": [
    "class LinearRegression():\n",
    "    def __init__(self, fit_intercept=True):\n",
    "        self.w = 0\n",
    "        self.fit_intercept = fit_intercept # bias\n",
    "    \n",
    "    def fit(self, X, y):\n",
    "        # YOUR CODE HERE\n",
    "        \n",
    "        if self.fit_intercept == True:\n",
    "            temp = np.ones((len(X), 1))\n",
    "            X = np.concatenate((temp, X), axis=1)\n",
    "        \n",
    "        # Using cvxpy from the official documentation (https://www.cvxpy.org/examples/basic/least_squares.html)\n",
    "        x = cp.Variable(X.shape[1])\n",
    "        cost = cp.sum_squares((X @ x) - y)\n",
    "        prob = cp.Problem(cp.Minimize(cost))\n",
    "        prob.solve()\n",
    "        \n",
    "        self.w = x.value\n",
    "        \n",
    "    def predict(self, X):\n",
    "        # YOUR CODE HERE\n",
    "        \n",
    "        if self.fit_intercept == True:\n",
    "            temp = np.ones((len(X), 1))\n",
    "            X = np.concatenate((temp, X), axis=1)\n",
    "            \n",
    "        return X @ self.w   "
   ]
  },
  {
   "cell_type": "code",
   "execution_count": 3,
   "id": "b0fa2686",
   "metadata": {
    "deletable": false,
    "editable": false,
    "nbgrader": {
     "cell_type": "code",
     "checksum": "224f4a8faa9e2670a8a6c87bd685804e",
     "grade": true,
     "grade_id": "cell-1114ed7ed3189a8a",
     "locked": true,
     "points": 1,
     "schema_version": 3,
     "solution": false,
     "task": false
    }
   },
   "outputs": [
    {
     "name": "stdout",
     "output_type": "stream",
     "text": [
      "prediction error:  2.244800692446481e-13\n"
     ]
    }
   ],
   "source": [
    "# Without bias\n",
    "sk_model = LR(fit_intercept=False)\n",
    "sk_model.fit(X_train, y_train)\n",
    "sk_pred = sk_model.predict(X_train)\n",
    "\n",
    "model = LinearRegression(fit_intercept=False)\n",
    "model.fit(X_train, y_train)\n",
    "pred = model.predict(X_train)\n",
    "\n",
    "error = rel_error(pred, sk_pred)\n",
    "assert error <= 1e-11\n",
    "print(\"prediction error: \", error)"
   ]
  },
  {
   "cell_type": "code",
   "execution_count": 4,
   "id": "af10c9b3",
   "metadata": {
    "deletable": false,
    "editable": false,
    "nbgrader": {
     "cell_type": "code",
     "checksum": "2a74e18b97f6d531ec672249fff1758a",
     "grade": true,
     "grade_id": "cell-b5419a5f7386ea58",
     "locked": true,
     "points": 1,
     "schema_version": 3,
     "solution": false,
     "task": false
    }
   },
   "outputs": [
    {
     "name": "stdout",
     "output_type": "stream",
     "text": [
      "prediction error:  9.114429317619975e-16\n"
     ]
    }
   ],
   "source": [
    "# With bias\n",
    "sk_model = LR(fit_intercept=True)\n",
    "sk_model.fit(X_train, y_train)\n",
    "sk_pred = sk_model.predict(X_train)\n",
    "\n",
    "model = LinearRegression(fit_intercept=True)\n",
    "model.fit(X_train, y_train)\n",
    "pred = model.predict(X_train)\n",
    "\n",
    "error = rel_error(pred, sk_pred)\n",
    "assert error <= 1e-11\n",
    "print(\"prediction error: \", error)"
   ]
  },
  {
   "cell_type": "markdown",
   "id": "46705a9d",
   "metadata": {},
   "source": [
    "# Ridge regression"
   ]
  },
  {
   "cell_type": "code",
   "execution_count": 5,
   "id": "87f22e57",
   "metadata": {
    "deletable": false,
    "nbgrader": {
     "cell_type": "code",
     "checksum": "319645fba85042054955254713e97f29",
     "grade": false,
     "grade_id": "cell-8bbf3f9bbd1d0a9e",
     "locked": false,
     "schema_version": 3,
     "solution": true,
     "task": false
    }
   },
   "outputs": [],
   "source": [
    "class RidgeRegression():\n",
    "    def __init__(self, fit_intercept=True, alpha=1.0):\n",
    "        self.w = 0\n",
    "        self.fit_intercept = fit_intercept # bias\n",
    "        self.alpha = alpha\n",
    "    \n",
    "    def fit(self, X, y):\n",
    "        if self.fit_intercept == True:\n",
    "            temp = np.ones((len(X), 1))\n",
    "            X = np.concatenate((temp, X), axis=1)\n",
    "            \n",
    "        # Using cvxpy from the official documentation (https://www.cvxpy.org/examples/machine_learning/ridge_regression.html)\n",
    "        beta = cp.Variable(X.shape[1])\n",
    "        lambd = cp.Parameter(nonneg=True)\n",
    "        obj = cp.Minimize(cp.pnorm(X @ beta - y, p=2)**2 + lambd * cp.pnorm(beta, p=2)**2)\n",
    "        problem = cp.Problem(obj)\n",
    "        lambd.value = self.alpha\n",
    "        problem.solve()\n",
    "        \n",
    "        self.w = beta.value\n",
    "        \n",
    "    def predict(self, X):\n",
    "        # YOUR CODE HERE\n",
    "        if self.fit_intercept == True:\n",
    "            temp = np.ones((len(X), 1))\n",
    "            X = np.concatenate((temp, X), axis=1)\n",
    "            \n",
    "        return X @ self.w   "
   ]
  },
  {
   "cell_type": "code",
   "execution_count": 6,
   "id": "b4db594c",
   "metadata": {
    "deletable": false,
    "editable": false,
    "nbgrader": {
     "cell_type": "code",
     "checksum": "5080772b462c959529ba841299f7f200",
     "grade": true,
     "grade_id": "cell-847dcef587d9fb84",
     "locked": true,
     "points": 1,
     "schema_version": 3,
     "solution": false,
     "task": false
    }
   },
   "outputs": [
    {
     "name": "stderr",
     "output_type": "stream",
     "text": [
      "/home/fy/anaconda3/lib/python3.8/site-packages/cvxpy/problems/problem.py:1294: UserWarning: Solution may be inaccurate. Try another solver, adjusting the solver settings, or solve with verbose=True for more information.\n",
      "  warnings.warn(\n"
     ]
    },
    {
     "ename": "AssertionError",
     "evalue": "",
     "output_type": "error",
     "traceback": [
      "\u001b[0;31m---------------------------------------------------------------------------\u001b[0m",
      "\u001b[0;31mAssertionError\u001b[0m                            Traceback (most recent call last)",
      "\u001b[0;32m/tmp/ipykernel_5611/1503733428.py\u001b[0m in \u001b[0;36m<module>\u001b[0;34m\u001b[0m\n\u001b[1;32m      5\u001b[0m \u001b[0mw_solution\u001b[0m \u001b[0;34m=\u001b[0m \u001b[0;34m[\u001b[0m\u001b[0;36m2.2741331962708733\u001b[0m\u001b[0;34m,\u001b[0m\u001b[0;34m-\u001b[0m\u001b[0;36m1.4638470967067754\u001b[0m\u001b[0;34m,\u001b[0m\u001b[0;34m-\u001b[0m\u001b[0;36m1.0248494680125682\u001b[0m\u001b[0;34m,\u001b[0m\u001b[0;34m-\u001b[0m\u001b[0;36m2.0920403465511344\u001b[0m\u001b[0;34m,\u001b[0m\u001b[0;36m0.19793283915844787\u001b[0m\u001b[0;34m,\u001b[0m\u001b[0;34m-\u001b[0m\u001b[0;36m1.5186692704860287\u001b[0m\u001b[0;34m,\u001b[0m\u001b[0;36m1.4772054728555917\u001b[0m\u001b[0;34m,\u001b[0m\u001b[0;34m-\u001b[0m\u001b[0;36m0.5873242037184364\u001b[0m\u001b[0;34m,\u001b[0m\u001b[0;36m0.9478891631775056\u001b[0m\u001b[0;34m,\u001b[0m\u001b[0;36m0.20512816292505345\u001b[0m\u001b[0;34m,\u001b[0m\u001b[0;36m1.251288772139991\u001b[0m\u001b[0;34m,\u001b[0m\u001b[0;34m-\u001b[0m\u001b[0;36m2.681990788073989\u001b[0m\u001b[0;34m,\u001b[0m\u001b[0;36m0.04476204682607866\u001b[0m\u001b[0;34m,\u001b[0m\u001b[0;34m-\u001b[0m\u001b[0;36m0.8659943546608414\u001b[0m\u001b[0;34m,\u001b[0m\u001b[0;36m0.6794151132231774\u001b[0m\u001b[0;34m,\u001b[0m\u001b[0;34m-\u001b[0m\u001b[0;36m0.45806886087608134\u001b[0m\u001b[0;34m,\u001b[0m\u001b[0;34m-\u001b[0m\u001b[0;36m0.11772977214105436\u001b[0m\u001b[0;34m,\u001b[0m\u001b[0;34m-\u001b[0m\u001b[0;36m1.5167038016358336\u001b[0m\u001b[0;34m,\u001b[0m\u001b[0;34m-\u001b[0m\u001b[0;36m0.7285498050097046\u001b[0m\u001b[0;34m,\u001b[0m\u001b[0;36m1.1970655855063765\u001b[0m\u001b[0;34m]\u001b[0m\u001b[0;34m\u001b[0m\u001b[0;34m\u001b[0m\u001b[0m\n\u001b[1;32m      6\u001b[0m \u001b[0merror\u001b[0m \u001b[0;34m=\u001b[0m \u001b[0mrel_error\u001b[0m\u001b[0;34m(\u001b[0m\u001b[0mmodel\u001b[0m\u001b[0;34m.\u001b[0m\u001b[0mw\u001b[0m\u001b[0;34m,\u001b[0m \u001b[0mw_solution\u001b[0m\u001b[0;34m)\u001b[0m\u001b[0;34m\u001b[0m\u001b[0;34m\u001b[0m\u001b[0m\n\u001b[0;32m----> 7\u001b[0;31m \u001b[0;32massert\u001b[0m \u001b[0merror\u001b[0m \u001b[0;34m<=\u001b[0m \u001b[0;36m1e-11\u001b[0m\u001b[0;34m\u001b[0m\u001b[0;34m\u001b[0m\u001b[0m\n\u001b[0m\u001b[1;32m      8\u001b[0m \u001b[0mprint\u001b[0m\u001b[0;34m(\u001b[0m\u001b[0;34m\"prediction error: \"\u001b[0m\u001b[0;34m,\u001b[0m \u001b[0merror\u001b[0m\u001b[0;34m)\u001b[0m\u001b[0;34m\u001b[0m\u001b[0;34m\u001b[0m\u001b[0m\n",
      "\u001b[0;31mAssertionError\u001b[0m: "
     ]
    }
   ],
   "source": [
    "# without bias\n",
    "model = RidgeRegression(fit_intercept=False, alpha=0.1)\n",
    "model.fit(X_train2, y_train2)\n",
    "\n",
    "w_solution = [2.2741331962708733,-1.4638470967067754,-1.0248494680125682,-2.0920403465511344,0.19793283915844787,-1.5186692704860287,1.4772054728555917,-0.5873242037184364,0.9478891631775056,0.20512816292505345,1.251288772139991,-2.681990788073989,0.04476204682607866,-0.8659943546608414,0.6794151132231774,-0.45806886087608134,-0.11772977214105436,-1.5167038016358336,-0.7285498050097046,1.1970655855063765]\n",
    "error = rel_error(model.w, w_solution)\n",
    "assert error <= 1e-11\n",
    "print(\"prediction error: \", error)"
   ]
  },
  {
   "cell_type": "code",
   "execution_count": 7,
   "id": "a8a52d45",
   "metadata": {
    "deletable": false,
    "editable": false,
    "nbgrader": {
     "cell_type": "code",
     "checksum": "7d93de5b96ace9bf9fe62f9172db0011",
     "grade": true,
     "grade_id": "cell-9fda3b9c88aba579",
     "locked": true,
     "points": 1,
     "schema_version": 3,
     "solution": false,
     "task": false
    }
   },
   "outputs": [
    {
     "ename": "AssertionError",
     "evalue": "",
     "output_type": "error",
     "traceback": [
      "\u001b[0;31m---------------------------------------------------------------------------\u001b[0m",
      "\u001b[0;31mAssertionError\u001b[0m                            Traceback (most recent call last)",
      "\u001b[0;32m/tmp/ipykernel_5611/2450607803.py\u001b[0m in \u001b[0;36m<module>\u001b[0;34m\u001b[0m\n\u001b[1;32m      5\u001b[0m \u001b[0mw_solution\u001b[0m \u001b[0;34m=\u001b[0m \u001b[0;34m[\u001b[0m\u001b[0;34m-\u001b[0m\u001b[0;36m0.12421153467148652\u001b[0m\u001b[0;34m,\u001b[0m \u001b[0;36m2.2885621086080183\u001b[0m\u001b[0;34m,\u001b[0m \u001b[0;34m-\u001b[0m\u001b[0;36m1.460016084362311\u001b[0m\u001b[0;34m,\u001b[0m \u001b[0;34m-\u001b[0m\u001b[0;36m1.0386230518778734\u001b[0m\u001b[0;34m,\u001b[0m \u001b[0;34m-\u001b[0m\u001b[0;36m2.0755554006911163\u001b[0m\u001b[0;34m,\u001b[0m \u001b[0;36m0.16722384639912463\u001b[0m\u001b[0;34m,\u001b[0m \u001b[0;34m-\u001b[0m\u001b[0;36m1.5196366460908797\u001b[0m\u001b[0;34m,\u001b[0m \u001b[0;36m1.490644600189988\u001b[0m\u001b[0;34m,\u001b[0m \u001b[0;34m-\u001b[0m\u001b[0;36m0.5506589908428944\u001b[0m\u001b[0;34m,\u001b[0m \u001b[0;36m0.953560073286487\u001b[0m\u001b[0;34m,\u001b[0m \u001b[0;36m0.20519345577354192\u001b[0m\u001b[0;34m,\u001b[0m \u001b[0;36m1.2565834667864626\u001b[0m\u001b[0;34m,\u001b[0m \u001b[0;34m-\u001b[0m\u001b[0;36m2.6559028064874886\u001b[0m\u001b[0;34m,\u001b[0m \u001b[0;36m0.05943949693736531\u001b[0m\u001b[0;34m,\u001b[0m \u001b[0;34m-\u001b[0m\u001b[0;36m0.8413627640000328\u001b[0m\u001b[0;34m,\u001b[0m \u001b[0;36m0.689138089040695\u001b[0m\u001b[0;34m,\u001b[0m \u001b[0;34m-\u001b[0m\u001b[0;36m0.4717409588520616\u001b[0m\u001b[0;34m,\u001b[0m \u001b[0;34m-\u001b[0m\u001b[0;36m0.11380803855096185\u001b[0m\u001b[0;34m,\u001b[0m \u001b[0;34m-\u001b[0m\u001b[0;36m1.5157445906226719\u001b[0m\u001b[0;34m,\u001b[0m \u001b[0;34m-\u001b[0m\u001b[0;36m0.7155151711254747\u001b[0m\u001b[0;34m,\u001b[0m \u001b[0;36m1.2094429722709097\u001b[0m\u001b[0;34m]\u001b[0m\u001b[0;34m\u001b[0m\u001b[0;34m\u001b[0m\u001b[0m\n\u001b[1;32m      6\u001b[0m \u001b[0merror\u001b[0m \u001b[0;34m=\u001b[0m \u001b[0mrel_error\u001b[0m\u001b[0;34m(\u001b[0m\u001b[0mmodel\u001b[0m\u001b[0;34m.\u001b[0m\u001b[0mw\u001b[0m\u001b[0;34m,\u001b[0m \u001b[0mw_solution\u001b[0m\u001b[0;34m)\u001b[0m\u001b[0;34m\u001b[0m\u001b[0;34m\u001b[0m\u001b[0m\n\u001b[0;32m----> 7\u001b[0;31m \u001b[0;32massert\u001b[0m \u001b[0merror\u001b[0m \u001b[0;34m<=\u001b[0m \u001b[0;36m1e-11\u001b[0m\u001b[0;34m\u001b[0m\u001b[0;34m\u001b[0m\u001b[0m\n\u001b[0m\u001b[1;32m      8\u001b[0m \u001b[0mprint\u001b[0m\u001b[0;34m(\u001b[0m\u001b[0;34m\"prediction error: \"\u001b[0m\u001b[0;34m,\u001b[0m \u001b[0merror\u001b[0m\u001b[0;34m)\u001b[0m\u001b[0;34m\u001b[0m\u001b[0;34m\u001b[0m\u001b[0m\n",
      "\u001b[0;31mAssertionError\u001b[0m: "
     ]
    }
   ],
   "source": [
    "# with bias\n",
    "model = RidgeRegression(fit_intercept=True, alpha=0.1)\n",
    "model.fit(X_train2, y_train2)\n",
    "\n",
    "w_solution = [-0.12421153467148652, 2.2885621086080183, -1.460016084362311, -1.0386230518778734, -2.0755554006911163, 0.16722384639912463, -1.5196366460908797, 1.490644600189988, -0.5506589908428944, 0.953560073286487, 0.20519345577354192, 1.2565834667864626, -2.6559028064874886, 0.05943949693736531, -0.8413627640000328, 0.689138089040695, -0.4717409588520616, -0.11380803855096185, -1.5157445906226719, -0.7155151711254747, 1.2094429722709097]\n",
    "error = rel_error(model.w, w_solution)\n",
    "assert error <= 1e-11\n",
    "print(\"prediction error: \", error)"
   ]
  },
  {
   "cell_type": "markdown",
   "id": "72bd5799",
   "metadata": {},
   "source": [
    "# Lasso"
   ]
  },
  {
   "cell_type": "code",
   "execution_count": 8,
   "id": "8251d5f9",
   "metadata": {
    "deletable": false,
    "nbgrader": {
     "cell_type": "code",
     "checksum": "1998f7b771d22f28216817d06bd97fc8",
     "grade": false,
     "grade_id": "cell-100266b2372c931e",
     "locked": false,
     "schema_version": 3,
     "solution": true,
     "task": false
    }
   },
   "outputs": [],
   "source": [
    "class LassoRegression():\n",
    "    def __init__(self, fit_intercept=True, alpha=1.0):\n",
    "        self.w = 0\n",
    "        self.fit_intercept = fit_intercept # bias\n",
    "        self.alpha = alpha\n",
    "    \n",
    "    def fit(self, X, y):\n",
    "        # YOUR CODE HERE\n",
    "        if self.fit_intercept == True:\n",
    "            temp = np.ones((len(X), 1))\n",
    "            X = np.concatenate((temp, X), axis=1)\n",
    "            \n",
    "        # Using cvxpy from the official documentation (https://www.cvxpy.org/examples/machine_learning/lasso_regression.html)            \n",
    "        beta = cp.Variable(X.shape[1])\n",
    "        lambd = cp.Parameter(nonneg=True)\n",
    "        obj = cp.norm2(X @ beta - y)**2 + lambd * cp.norm1(beta)\n",
    "        problem = cp.Problem(cp.Minimize(obj))\n",
    "        lambd.value = self.alpha\n",
    "        problem.solve()\n",
    "        \n",
    "        self.w = beta.value\n",
    "        \n",
    "    def predict(self, X):\n",
    "        # YOUR CODE HERE\n",
    "        if self.fit_intercept == True:\n",
    "            temp = np.ones((len(X), 1))\n",
    "            X = np.concatenate((temp, X), axis=1)\n",
    "        return X @ self.w    "
   ]
  },
  {
   "cell_type": "code",
   "execution_count": 9,
   "id": "9e4b9fdf",
   "metadata": {
    "deletable": false,
    "editable": false,
    "nbgrader": {
     "cell_type": "code",
     "checksum": "1303a2e57866218e002511d850f4dce5",
     "grade": true,
     "grade_id": "cell-cc7b2580fc56a71a",
     "locked": true,
     "points": 1,
     "schema_version": 3,
     "solution": false,
     "task": false
    }
   },
   "outputs": [
    {
     "ename": "AssertionError",
     "evalue": "",
     "output_type": "error",
     "traceback": [
      "\u001b[0;31m---------------------------------------------------------------------------\u001b[0m",
      "\u001b[0;31mAssertionError\u001b[0m                            Traceback (most recent call last)",
      "\u001b[0;32m/tmp/ipykernel_5611/2341035174.py\u001b[0m in \u001b[0;36m<module>\u001b[0;34m\u001b[0m\n\u001b[1;32m      5\u001b[0m \u001b[0mw_solution\u001b[0m \u001b[0;34m=\u001b[0m \u001b[0;34m[\u001b[0m\u001b[0;34m-\u001b[0m\u001b[0;36m0.8521262649671281\u001b[0m\u001b[0;34m,\u001b[0m \u001b[0;36m0.0254836890059677\u001b[0m\u001b[0;34m,\u001b[0m \u001b[0;36m0.7137682249492029\u001b[0m\u001b[0;34m,\u001b[0m \u001b[0;34m-\u001b[0m\u001b[0;36m0.8784736131759308\u001b[0m\u001b[0;34m,\u001b[0m \u001b[0;36m0.26239208158878835\u001b[0m\u001b[0;34m,\u001b[0m \u001b[0;36m0.6462086038227195\u001b[0m\u001b[0;34m,\u001b[0m \u001b[0;36m0.6430994649127592\u001b[0m\u001b[0;34m,\u001b[0m \u001b[0;34m-\u001b[0m\u001b[0;36m0.6427109854827273\u001b[0m\u001b[0;34m,\u001b[0m \u001b[0;36m0.8457229064959301\u001b[0m\u001b[0;34m,\u001b[0m \u001b[0;34m-\u001b[0m\u001b[0;36m0.3402411535357167\u001b[0m\u001b[0;34m,\u001b[0m \u001b[0;36m0.33481565380057277\u001b[0m\u001b[0;34m,\u001b[0m \u001b[0;34m-\u001b[0m\u001b[0;36m2.2109314288098636\u001b[0m\u001b[0;34m,\u001b[0m \u001b[0;36m0.22685158332884042\u001b[0m\u001b[0;34m,\u001b[0m \u001b[0;34m-\u001b[0m\u001b[0;36m0.9969899386988903\u001b[0m\u001b[0;34m,\u001b[0m \u001b[0;34m-\u001b[0m\u001b[0;36m0.486582184431374\u001b[0m\u001b[0;34m,\u001b[0m \u001b[0;34m-\u001b[0m\u001b[0;36m0.0654138939227482\u001b[0m\u001b[0;34m,\u001b[0m \u001b[0;36m0.5269406964201837\u001b[0m\u001b[0;34m,\u001b[0m \u001b[0;34m-\u001b[0m\u001b[0;36m1.2991221762643268\u001b[0m\u001b[0;34m,\u001b[0m \u001b[0;34m-\u001b[0m\u001b[0;36m0.1472881184306273\u001b[0m\u001b[0;34m,\u001b[0m \u001b[0;34m-\u001b[0m\u001b[0;36m0.749580456217885\u001b[0m\u001b[0;34m]\u001b[0m\u001b[0;34m\u001b[0m\u001b[0;34m\u001b[0m\u001b[0m\n\u001b[1;32m      6\u001b[0m \u001b[0merror\u001b[0m \u001b[0;34m=\u001b[0m \u001b[0mrel_error\u001b[0m\u001b[0;34m(\u001b[0m\u001b[0mmodel\u001b[0m\u001b[0;34m.\u001b[0m\u001b[0mw\u001b[0m\u001b[0;34m,\u001b[0m \u001b[0mw_solution\u001b[0m\u001b[0;34m)\u001b[0m\u001b[0;34m\u001b[0m\u001b[0;34m\u001b[0m\u001b[0m\n\u001b[0;32m----> 7\u001b[0;31m \u001b[0;32massert\u001b[0m \u001b[0merror\u001b[0m \u001b[0;34m<=\u001b[0m \u001b[0;36m1e-11\u001b[0m\u001b[0;34m\u001b[0m\u001b[0;34m\u001b[0m\u001b[0m\n\u001b[0m\u001b[1;32m      8\u001b[0m \u001b[0mprint\u001b[0m\u001b[0;34m(\u001b[0m\u001b[0;34m\"prediction error: \"\u001b[0m\u001b[0;34m,\u001b[0m \u001b[0merror\u001b[0m\u001b[0;34m)\u001b[0m\u001b[0;34m\u001b[0m\u001b[0;34m\u001b[0m\u001b[0m\n",
      "\u001b[0;31mAssertionError\u001b[0m: "
     ]
    }
   ],
   "source": [
    "# without bias\n",
    "model = LassoRegression(fit_intercept=False, alpha=0.1)\n",
    "model.fit(X_train3, y_train3)\n",
    "\n",
    "w_solution = [-0.8521262649671281, 0.0254836890059677, 0.7137682249492029, -0.8784736131759308, 0.26239208158878835, 0.6462086038227195, 0.6430994649127592, -0.6427109854827273, 0.8457229064959301, -0.3402411535357167, 0.33481565380057277, -2.2109314288098636, 0.22685158332884042, -0.9969899386988903, -0.486582184431374, -0.0654138939227482, 0.5269406964201837, -1.2991221762643268, -0.1472881184306273, -0.749580456217885]\n",
    "error = rel_error(model.w, w_solution)\n",
    "assert error <= 1e-11\n",
    "print(\"prediction error: \", error)"
   ]
  },
  {
   "cell_type": "code",
   "execution_count": 10,
   "id": "a07043fd",
   "metadata": {
    "deletable": false,
    "editable": false,
    "nbgrader": {
     "cell_type": "code",
     "checksum": "950ca5cc5173af1f598296c6ad145a40",
     "grade": true,
     "grade_id": "cell-96459e0bbe1885ba",
     "locked": true,
     "points": 1,
     "schema_version": 3,
     "solution": false,
     "task": false
    }
   },
   "outputs": [
    {
     "ename": "AssertionError",
     "evalue": "",
     "output_type": "error",
     "traceback": [
      "\u001b[0;31m---------------------------------------------------------------------------\u001b[0m",
      "\u001b[0;31mAssertionError\u001b[0m                            Traceback (most recent call last)",
      "\u001b[0;32m/tmp/ipykernel_5611/657179788.py\u001b[0m in \u001b[0;36m<module>\u001b[0;34m\u001b[0m\n\u001b[1;32m      5\u001b[0m \u001b[0mw_solution\u001b[0m \u001b[0;34m=\u001b[0m \u001b[0;34m[\u001b[0m\u001b[0;36m0.02773625477624174\u001b[0m\u001b[0;34m,\u001b[0m \u001b[0;34m-\u001b[0m\u001b[0;36m0.8487201678165991\u001b[0m\u001b[0;34m,\u001b[0m \u001b[0;36m0.025083418700813768\u001b[0m\u001b[0;34m,\u001b[0m \u001b[0;36m0.7190663030638081\u001b[0m\u001b[0;34m,\u001b[0m \u001b[0;34m-\u001b[0m\u001b[0;36m0.8749520697657432\u001b[0m\u001b[0;34m,\u001b[0m \u001b[0;36m0.26342660512442967\u001b[0m\u001b[0;34m,\u001b[0m \u001b[0;36m0.6431043993589891\u001b[0m\u001b[0;34m,\u001b[0m \u001b[0;36m0.6494385810352119\u001b[0m\u001b[0;34m,\u001b[0m \u001b[0;34m-\u001b[0m\u001b[0;36m0.6408605760028508\u001b[0m\u001b[0;34m,\u001b[0m \u001b[0;36m0.8380835575881868\u001b[0m\u001b[0;34m,\u001b[0m \u001b[0;34m-\u001b[0m\u001b[0;36m0.34441398162201164\u001b[0m\u001b[0;34m,\u001b[0m \u001b[0;36m0.3295390950817965\u001b[0m\u001b[0;34m,\u001b[0m \u001b[0;34m-\u001b[0m\u001b[0;36m2.2106797474729007\u001b[0m\u001b[0;34m,\u001b[0m \u001b[0;36m0.22549557495145922\u001b[0m\u001b[0;34m,\u001b[0m \u001b[0;34m-\u001b[0m\u001b[0;36m0.9948431209736727\u001b[0m\u001b[0;34m,\u001b[0m \u001b[0;34m-\u001b[0m\u001b[0;36m0.48738779274910293\u001b[0m\u001b[0;34m,\u001b[0m \u001b[0;34m-\u001b[0m\u001b[0;36m0.06222135539355891\u001b[0m\u001b[0;34m,\u001b[0m \u001b[0;36m0.52148327011433\u001b[0m\u001b[0;34m,\u001b[0m \u001b[0;34m-\u001b[0m\u001b[0;36m1.3019085858141572\u001b[0m\u001b[0;34m,\u001b[0m \u001b[0;34m-\u001b[0m\u001b[0;36m0.15286852250292499\u001b[0m\u001b[0;34m,\u001b[0m \u001b[0;34m-\u001b[0m\u001b[0;36m0.7487483354438857\u001b[0m\u001b[0;34m]\u001b[0m\u001b[0;34m\u001b[0m\u001b[0;34m\u001b[0m\u001b[0m\n\u001b[1;32m      6\u001b[0m \u001b[0merror\u001b[0m \u001b[0;34m=\u001b[0m \u001b[0mrel_error\u001b[0m\u001b[0;34m(\u001b[0m\u001b[0mmodel\u001b[0m\u001b[0;34m.\u001b[0m\u001b[0mw\u001b[0m\u001b[0;34m,\u001b[0m \u001b[0mw_solution\u001b[0m\u001b[0;34m)\u001b[0m\u001b[0;34m\u001b[0m\u001b[0;34m\u001b[0m\u001b[0m\n\u001b[0;32m----> 7\u001b[0;31m \u001b[0;32massert\u001b[0m \u001b[0merror\u001b[0m \u001b[0;34m<=\u001b[0m \u001b[0;36m1e-11\u001b[0m\u001b[0;34m\u001b[0m\u001b[0;34m\u001b[0m\u001b[0m\n\u001b[0m\u001b[1;32m      8\u001b[0m \u001b[0mprint\u001b[0m\u001b[0;34m(\u001b[0m\u001b[0;34m\"prediction error: \"\u001b[0m\u001b[0;34m,\u001b[0m \u001b[0merror\u001b[0m\u001b[0;34m)\u001b[0m\u001b[0;34m\u001b[0m\u001b[0;34m\u001b[0m\u001b[0m\n",
      "\u001b[0;31mAssertionError\u001b[0m: "
     ]
    }
   ],
   "source": [
    "# with bias\n",
    "model = LassoRegression(fit_intercept=True, alpha=0.1)\n",
    "model.fit(X_train3, y_train3)\n",
    "\n",
    "w_solution = [0.02773625477624174, -0.8487201678165991, 0.025083418700813768, 0.7190663030638081, -0.8749520697657432, 0.26342660512442967, 0.6431043993589891, 0.6494385810352119, -0.6408605760028508, 0.8380835575881868, -0.34441398162201164, 0.3295390950817965, -2.2106797474729007, 0.22549557495145922, -0.9948431209736727, -0.48738779274910293, -0.06222135539355891, 0.52148327011433, -1.3019085858141572, -0.15286852250292499, -0.7487483354438857]\n",
    "error = rel_error(model.w, w_solution)\n",
    "assert error <= 1e-11\n",
    "print(\"prediction error: \", error)"
   ]
  }
 ],
 "metadata": {
  "kernelspec": {
   "display_name": "Python 3 (ipykernel)",
   "language": "python",
   "name": "python3"
  },
  "language_info": {
   "codemirror_mode": {
    "name": "ipython",
    "version": 3
   },
   "file_extension": ".py",
   "mimetype": "text/x-python",
   "name": "python",
   "nbconvert_exporter": "python",
   "pygments_lexer": "ipython3",
   "version": "3.8.8"
  }
 },
 "nbformat": 4,
 "nbformat_minor": 5
}
