{
 "cells": [
  {
   "cell_type": "code",
   "execution_count": 1,
   "id": "ab42c33c",
   "metadata": {
    "deletable": false,
    "editable": false,
    "nbgrader": {
     "cell_type": "code",
     "checksum": "d3d3c2e2a84ff92fa02220ae689dc414",
     "grade": false,
     "grade_id": "cell-38b4529793385ad1",
     "locked": true,
     "schema_version": 3,
     "solution": false,
     "task": false
    }
   },
   "outputs": [],
   "source": [
    "from random import randrange\n",
    "import numpy as np\n",
    "from sklearn.metrics import mean_squared_error, log_loss\n",
    "from sklearn.datasets import load_breast_cancer, load_diabetes\n",
    "\n",
    "\n",
    "def grad_check_sparse(f, x, analytic_grad, num_checks=10, h=1e-5, error=1e-9):\n",
    "    \"\"\"\n",
    "    sample a few random elements and only return numerical\n",
    "    in this dimensions\n",
    "    \"\"\"\n",
    "\n",
    "    for i in range(num_checks):\n",
    "        ix = tuple([randrange(m) for m in x.shape])\n",
    "\n",
    "        oldval = x[ix]\n",
    "        x[ix] = oldval + h  # increment by h\n",
    "        fxph = f(x)  # evaluate f(x + h)\n",
    "        x[ix] = oldval - h  # increment by h\n",
    "        fxmh = f(x)  # evaluate f(x - h)\n",
    "        x[ix] = oldval  # reset\n",
    "\n",
    "        grad_numerical = (fxph - fxmh) / (2 * h)\n",
    "        grad_analytic = analytic_grad[ix]\n",
    "        rel_error = abs(grad_numerical - grad_analytic) / (\n",
    "            abs(grad_numerical) + abs(grad_analytic)\n",
    "        )\n",
    "        print(\n",
    "            \"numerical: %f analytic: %f, relative error: %e\"\n",
    "            % (grad_numerical, grad_analytic, rel_error)\n",
    "        )\n",
    "        assert rel_error < error\n",
    "\n",
    "def rel_error(x, y):\n",
    "    \"\"\" returns relative error \"\"\"\n",
    "    return np.max(np.abs(x - y) / (np.maximum(1e-8, np.abs(x) + np.abs(y))))"
   ]
  },
  {
   "cell_type": "markdown",
   "id": "cfec4298",
   "metadata": {},
   "source": [
    "# Linear regression"
   ]
  },
  {
   "cell_type": "code",
   "execution_count": 2,
   "id": "731a18bc",
   "metadata": {
    "deletable": false,
    "editable": false,
    "nbgrader": {
     "cell_type": "code",
     "checksum": "1159b5dc8c59570993ac39ae349c5037",
     "grade": false,
     "grade_id": "cell-3fb8ebd5eb97e246",
     "locked": true,
     "schema_version": 3,
     "solution": false,
     "task": false
    }
   },
   "outputs": [],
   "source": [
    "data = load_diabetes()\n",
    "X_train1, y_train1 = data.data, data.target\n",
    "w1 = np.random.randn(X_train1.shape[1]) * 0.0001\n",
    "b1 = np.random.randn(1) * 0.0001"
   ]
  },
  {
   "cell_type": "code",
   "execution_count": 3,
   "id": "f07dea71",
   "metadata": {
    "deletable": false,
    "nbgrader": {
     "cell_type": "code",
     "checksum": "baf9b75ec047c1cdb887ecb2bc2043a1",
     "grade": false,
     "grade_id": "cell-5ffdf99ad7cdfd69",
     "locked": false,
     "schema_version": 3,
     "solution": true,
     "task": false
    }
   },
   "outputs": [],
   "source": [
    "def mse_loss_naive(w, b, X, y, alpha=0):\n",
    "    \"\"\"\n",
    "    MSE loss function WITH FOR LOOPs\n",
    "    \n",
    "    Returns a tuple of:\n",
    "    - loss \n",
    "    - gradient with respect to weights w\n",
    "    - gradient with respect to bias b\n",
    "    \"\"\"\n",
    "    loss = 0.0\n",
    "    dw = np.zeros_like(w)\n",
    "    db = 0.0\n",
    "    \n",
    "    # YOUR CODE HERE\n",
    "    \n",
    "    y_predict = X @ w + b\n",
    "    n = len(y_predict)\n",
    "    \n",
    "    # Find the RSS(w) and delta(RSS(w)) respect to w and b\n",
    "    for i in range(n):\n",
    "        loss = loss + (y[i]-y_predict[i])**2\n",
    "        for j in range(len(dw)):\n",
    "            dw[j] = dw[j] + X[i][j] * (y[i]-y_predict[i])\n",
    "        db = db + (y[i]-y_predict[i])\n",
    "                \n",
    "    loss = (1/n) * loss \n",
    "    dw = (-2/n) * dw     \n",
    "    db = (-2/n) * db\n",
    "    \n",
    "    # Add alpha*(w**2) to the RSS(w) and delta(alpha*(w**2) to delya(RSS(w)))\n",
    "    for j in range(w.shape[0]):\n",
    "        loss = loss + alpha * (w[j]**2)\n",
    "        dw[j] = dw[j] + 2 * alpha * w[j]\n",
    "    \n",
    "    return loss, dw, np.array(db).reshape(1,)"
   ]
  },
  {
   "cell_type": "markdown",
   "id": "bddacc5d",
   "metadata": {},
   "source": [
    "## Naive Linear regression loss"
   ]
  },
  {
   "cell_type": "code",
   "execution_count": 4,
   "id": "86cdcedc",
   "metadata": {
    "deletable": false,
    "editable": false,
    "nbgrader": {
     "cell_type": "code",
     "checksum": "67581686e36845f8ef8aacd81c1a201b",
     "grade": true,
     "grade_id": "cell-079e42b153b67a60",
     "locked": true,
     "points": 1,
     "schema_version": 3,
     "solution": false,
     "task": false
    }
   },
   "outputs": [
    {
     "name": "stdout",
     "output_type": "stream",
     "text": [
      "Loss error :  4.379417134813782e-16\n",
      "Gradient check w\n",
      "numerical: -2.801915 analytic: -2.801913, relative error: 2.847517e-07\n",
      "numerical: -3.153319 analytic: -3.153317, relative error: 4.411338e-07\n",
      "numerical: -1.275043 analytic: -1.275043, relative error: 1.029752e-07\n",
      "numerical: -0.315455 analytic: -0.315454, relative error: 7.676075e-07\n",
      "numerical: -4.145423 analytic: -4.145424, relative error: 7.852995e-08\n",
      "numerical: -3.153319 analytic: -3.153317, relative error: 4.411338e-07\n",
      "numerical: -1.376394 analytic: -1.376393, relative error: 8.992743e-08\n",
      "numerical: -0.315455 analytic: -0.315454, relative error: 7.676075e-07\n",
      "numerical: -4.145423 analytic: -4.145424, relative error: 7.852995e-08\n",
      "numerical: -0.315455 analytic: -0.315454, relative error: 7.676075e-07\n",
      "numerical: -3.153319 analytic: -3.153317, relative error: 4.411338e-07\n",
      "numerical: -1.376394 analytic: -1.376393, relative error: 8.992743e-08\n",
      "numerical: 2.892060 analytic: 2.892060, relative error: 1.151508e-07\n",
      "numerical: -2.801915 analytic: -2.801913, relative error: 2.847517e-07\n",
      "numerical: -1.275043 analytic: -1.275043, relative error: 1.029752e-07\n",
      "Gradient check bias\n",
      "numerical: -304.266933 analytic: -304.266932, relative error: 1.251013e-09\n",
      "numerical: -304.266933 analytic: -304.266932, relative error: 1.251013e-09\n",
      "numerical: -304.266933 analytic: -304.266932, relative error: 1.251013e-09\n",
      "numerical: -304.266933 analytic: -304.266932, relative error: 1.251013e-09\n",
      "numerical: -304.266933 analytic: -304.266932, relative error: 1.251013e-09\n",
      "numerical: -304.266933 analytic: -304.266932, relative error: 1.251013e-09\n",
      "numerical: -304.266933 analytic: -304.266932, relative error: 1.251013e-09\n",
      "numerical: -304.266933 analytic: -304.266932, relative error: 1.251013e-09\n",
      "numerical: -304.266933 analytic: -304.266932, relative error: 1.251013e-09\n",
      "numerical: -304.266933 analytic: -304.266932, relative error: 1.251013e-09\n",
      "numerical: -304.266933 analytic: -304.266932, relative error: 1.251013e-09\n",
      "numerical: -304.266933 analytic: -304.266932, relative error: 1.251013e-09\n",
      "numerical: -304.266933 analytic: -304.266932, relative error: 1.251013e-09\n",
      "numerical: -304.266933 analytic: -304.266932, relative error: 1.251013e-09\n",
      "numerical: -304.266933 analytic: -304.266932, relative error: 1.251013e-09\n"
     ]
    }
   ],
   "source": [
    "loss, dw1, db1 = mse_loss_naive(w1, b1, X_train1, y_train1, alpha=0)\n",
    "\n",
    "sk_loss = mean_squared_error(X_train1 @ w1 + b1, y_train1)\n",
    "assert rel_error(loss, sk_loss) < 1e-9\n",
    "print(\"Loss error : \",rel_error(loss, sk_loss))\n",
    "\n",
    "print(\"Gradient check w\")\n",
    "# Check with numerical gradient w\n",
    "f = lambda w1: mse_loss_naive(w1, b1, X_train1, y_train1, alpha=0)[0]\n",
    "grad_numerical = grad_check_sparse(f, w1, dw1, 15,  error=1e-5)\n",
    "\n",
    "print(\"Gradient check bias\")\n",
    "# Check with numerical gradient b\n",
    "f2 = lambda b1: mse_loss_naive(w1, b1, X_train1, y_train1, alpha=0)[0]\n",
    "grad_numerical = grad_check_sparse(f2, b1, db1, 15,  error=1e-5)"
   ]
  },
  {
   "cell_type": "markdown",
   "id": "db438d3f",
   "metadata": {},
   "source": [
    "## Naive Ridge regression loss"
   ]
  },
  {
   "cell_type": "code",
   "execution_count": 5,
   "id": "36465817",
   "metadata": {
    "deletable": false,
    "editable": false,
    "nbgrader": {
     "cell_type": "code",
     "checksum": "9ca5790893e5950341f7370bb3be167c",
     "grade": true,
     "grade_id": "cell-14a64cb1cfe70b98",
     "locked": true,
     "points": 1,
     "schema_version": 3,
     "solution": false,
     "task": false
    }
   },
   "outputs": [
    {
     "name": "stdout",
     "output_type": "stream",
     "text": [
      "Gradient check w\n",
      "numerical: -4.145384 analytic: -4.145384, relative error: 8.443250e-08\n",
      "numerical: -2.801952 analytic: -2.801950, relative error: 3.049528e-07\n",
      "numerical: -3.233856 analytic: -3.233856, relative error: 6.752788e-09\n",
      "numerical: -3.233856 analytic: -3.233856, relative error: 6.752788e-09\n",
      "numerical: -4.145384 analytic: -4.145384, relative error: 8.443250e-08\n",
      "numerical: -1.275040 analytic: -1.275040, relative error: 6.858912e-08\n",
      "numerical: -1.275040 analytic: -1.275040, relative error: 6.858912e-08\n",
      "numerical: -3.233856 analytic: -3.233856, relative error: 6.752788e-09\n",
      "numerical: -3.233856 analytic: -3.233856, relative error: 6.752788e-09\n",
      "numerical: -1.376226 analytic: -1.376226, relative error: 1.000853e-07\n",
      "numerical: -4.145384 analytic: -4.145384, relative error: 8.443250e-08\n",
      "numerical: -3.153317 analytic: -3.153314, relative error: 4.563491e-07\n",
      "numerical: -4.296181 analytic: -4.296182, relative error: 5.325941e-08\n",
      "numerical: -0.315518 analytic: -0.315517, relative error: 7.635991e-07\n",
      "numerical: -4.296181 analytic: -4.296182, relative error: 5.325941e-08\n",
      "Gradient check bias\n",
      "numerical: -304.266933 analytic: -304.266932, relative error: 1.251013e-09\n",
      "numerical: -304.266933 analytic: -304.266932, relative error: 1.251013e-09\n",
      "numerical: -304.266933 analytic: -304.266932, relative error: 1.251013e-09\n",
      "numerical: -304.266933 analytic: -304.266932, relative error: 1.251013e-09\n",
      "numerical: -304.266933 analytic: -304.266932, relative error: 1.251013e-09\n",
      "numerical: -304.266933 analytic: -304.266932, relative error: 1.251013e-09\n",
      "numerical: -304.266933 analytic: -304.266932, relative error: 1.251013e-09\n",
      "numerical: -304.266933 analytic: -304.266932, relative error: 1.251013e-09\n",
      "numerical: -304.266933 analytic: -304.266932, relative error: 1.251013e-09\n",
      "numerical: -304.266933 analytic: -304.266932, relative error: 1.251013e-09\n",
      "numerical: -304.266933 analytic: -304.266932, relative error: 1.251013e-09\n",
      "numerical: -304.266933 analytic: -304.266932, relative error: 1.251013e-09\n",
      "numerical: -304.266933 analytic: -304.266932, relative error: 1.251013e-09\n",
      "numerical: -304.266933 analytic: -304.266932, relative error: 1.251013e-09\n",
      "numerical: -304.266933 analytic: -304.266932, relative error: 1.251013e-09\n"
     ]
    }
   ],
   "source": [
    "loss, dw1, db1 = mse_loss_naive(w1, b1, X_train1, y_train1, alpha=1)\n",
    "\n",
    "print(\"Gradient check w\")\n",
    "# Check with numerical gradient w\n",
    "f = lambda w1: mse_loss_naive(w1, b1, X_train1, y_train1, alpha=1)[0]\n",
    "grad_numerical = grad_check_sparse(f, w1, dw1, 15,  error=1e-5)\n",
    "\n",
    "print(\"Gradient check bias\")\n",
    "# Check with numerical gradient b\n",
    "f2 = lambda b1: mse_loss_naive(w1, b1, X_train1, y_train1, alpha=1)[0]\n",
    "grad_numerical = grad_check_sparse(f2, b1, db1, 15,  error=1e-5)"
   ]
  },
  {
   "cell_type": "code",
   "execution_count": 6,
   "id": "5c6b011f",
   "metadata": {
    "deletable": false,
    "nbgrader": {
     "cell_type": "code",
     "checksum": "21b3a09270262dbad9cb1c15c0fc69f8",
     "grade": false,
     "grade_id": "cell-1528a28f467d90c7",
     "locked": false,
     "schema_version": 3,
     "solution": true,
     "task": false
    }
   },
   "outputs": [],
   "source": [
    "def mse_loss_vectorized(w, b, X, y, alpha=0):\n",
    "    \"\"\"\n",
    "    MSE loss function WITHOUT FOR LOOPs\n",
    "    \n",
    "    Returns a tuple of:\n",
    "    - loss \n",
    "    - gradient with respect to weights w\n",
    "    - gradient with respect to bias b\n",
    "    \"\"\"\n",
    "    loss = 0.0\n",
    "    dw = np.zeros_like(w)\n",
    "    \n",
    "    # YOUR CODE HERE\n",
    "    y_predict = X @ w + b\n",
    "    n = len(y_predict)\n",
    "    \n",
    "    loss = (1/n) * sum((y - y_predict)**2) + alpha * w.T @ w\n",
    "    dw = (-2/n) * (X.T @ (y - y_predict)) + 2 * alpha * w\n",
    "    db = (-2/n) * sum(y - y_predict)\n",
    "    \n",
    "    return loss, dw, np.array(db).reshape(1,)"
   ]
  },
  {
   "cell_type": "markdown",
   "id": "1d9bff00",
   "metadata": {},
   "source": [
    "## Vectorised Linear regression loss"
   ]
  },
  {
   "cell_type": "code",
   "execution_count": 7,
   "id": "05dd3b4d",
   "metadata": {
    "deletable": false,
    "editable": false,
    "nbgrader": {
     "cell_type": "code",
     "checksum": "ffc6cc1a998e8ed785bea62c0208ce04",
     "grade": true,
     "grade_id": "cell-41637ca21c8f938d",
     "locked": true,
     "points": 1,
     "schema_version": 3,
     "solution": false,
     "task": false
    }
   },
   "outputs": [
    {
     "name": "stdout",
     "output_type": "stream",
     "text": [
      "Loss error :  4.379417134813782e-16\n",
      "Gradient check w\n",
      "numerical: -3.153319 analytic: -3.153317, relative error: 4.411338e-07\n",
      "numerical: -1.275043 analytic: -1.275043, relative error: 1.029752e-07\n",
      "numerical: -0.315455 analytic: -0.315454, relative error: 7.676075e-07\n",
      "numerical: -4.145423 analytic: -4.145424, relative error: 7.852995e-08\n",
      "numerical: -1.553189 analytic: -1.553187, relative error: 8.061988e-07\n",
      "numerical: 2.892060 analytic: 2.892060, relative error: 1.151508e-07\n",
      "numerical: -1.553189 analytic: -1.553187, relative error: 8.061988e-07\n",
      "numerical: -3.153319 analytic: -3.153317, relative error: 4.411338e-07\n",
      "numerical: -0.315455 analytic: -0.315454, relative error: 7.676075e-07\n",
      "numerical: -3.234124 analytic: -3.234124, relative error: 3.303391e-09\n",
      "numerical: -4.145423 analytic: -4.145424, relative error: 7.852995e-08\n",
      "numerical: -0.315455 analytic: -0.315454, relative error: 7.676075e-07\n",
      "numerical: -4.145423 analytic: -4.145424, relative error: 7.852995e-08\n",
      "numerical: -1.376394 analytic: -1.376393, relative error: 8.992743e-08\n",
      "numerical: -2.801915 analytic: -2.801913, relative error: 2.847517e-07\n",
      "Gradient check bias\n",
      "numerical: -304.266933 analytic: -304.266932, relative error: 1.251013e-09\n",
      "numerical: -304.266933 analytic: -304.266932, relative error: 1.251013e-09\n",
      "numerical: -304.266933 analytic: -304.266932, relative error: 1.251013e-09\n",
      "numerical: -304.266933 analytic: -304.266932, relative error: 1.251013e-09\n",
      "numerical: -304.266933 analytic: -304.266932, relative error: 1.251013e-09\n",
      "numerical: -304.266933 analytic: -304.266932, relative error: 1.251013e-09\n",
      "numerical: -304.266933 analytic: -304.266932, relative error: 1.251013e-09\n",
      "numerical: -304.266933 analytic: -304.266932, relative error: 1.251013e-09\n",
      "numerical: -304.266933 analytic: -304.266932, relative error: 1.251013e-09\n",
      "numerical: -304.266933 analytic: -304.266932, relative error: 1.251013e-09\n",
      "numerical: -304.266933 analytic: -304.266932, relative error: 1.251013e-09\n",
      "numerical: -304.266933 analytic: -304.266932, relative error: 1.251013e-09\n",
      "numerical: -304.266933 analytic: -304.266932, relative error: 1.251013e-09\n",
      "numerical: -304.266933 analytic: -304.266932, relative error: 1.251013e-09\n",
      "numerical: -304.266933 analytic: -304.266932, relative error: 1.251013e-09\n"
     ]
    }
   ],
   "source": [
    "loss, dw1, db1 = mse_loss_vectorized(w1, b1, X_train1, y_train1, alpha=0)\n",
    "\n",
    "sk_loss = mean_squared_error(X_train1 @ w1 + b1, y_train1)\n",
    "assert rel_error(loss, sk_loss) < 1e-9\n",
    "print(\"Loss error : \",rel_error(loss, sk_loss))\n",
    "\n",
    "print(\"Gradient check w\")\n",
    "# Check with numerical gradient w\n",
    "f = lambda w1: mse_loss_vectorized(w1, b1, X_train1, y_train1, alpha=0)[0]\n",
    "grad_numerical = grad_check_sparse(f, w1, dw1, 15,  error=1e-5)\n",
    "\n",
    "print(\"Gradient check bias\")\n",
    "# Check with numerical gradient b\n",
    "f2 = lambda b1: mse_loss_vectorized(w1, b1, X_train1, y_train1, alpha=0)[0]\n",
    "grad_numerical = grad_check_sparse(f2, b1, db1, 15,  error=1e-5)"
   ]
  },
  {
   "cell_type": "markdown",
   "id": "27c8575f",
   "metadata": {},
   "source": [
    "## Vectorized ridge regression loss"
   ]
  },
  {
   "cell_type": "code",
   "execution_count": 8,
   "id": "6aa107f7",
   "metadata": {
    "deletable": false,
    "editable": false,
    "nbgrader": {
     "cell_type": "code",
     "checksum": "89b351bee282f05c3f74c9541b3a825e",
     "grade": true,
     "grade_id": "cell-bb0ff99c19a85e0f",
     "locked": true,
     "points": 1,
     "schema_version": 3,
     "solution": false,
     "task": false
    }
   },
   "outputs": [
    {
     "name": "stdout",
     "output_type": "stream",
     "text": [
      "Gradient check w\n",
      "numerical: -4.145384 analytic: -4.145384, relative error: 8.443250e-08\n",
      "numerical: -3.233856 analytic: -3.233856, relative error: 2.137137e-08\n",
      "numerical: -4.145384 analytic: -4.145384, relative error: 8.443250e-08\n",
      "numerical: -3.153317 analytic: -3.153314, relative error: 4.275066e-07\n",
      "numerical: -1.275040 analytic: -1.275040, relative error: 1.399198e-07\n",
      "numerical: -1.275040 analytic: -1.275040, relative error: 1.399198e-07\n",
      "numerical: -3.233856 analytic: -3.233856, relative error: 2.137137e-08\n",
      "numerical: -4.145384 analytic: -4.145384, relative error: 8.443250e-08\n",
      "numerical: -4.296181 analytic: -4.296182, relative error: 3.208957e-08\n",
      "numerical: -4.145384 analytic: -4.145384, relative error: 8.443250e-08\n",
      "numerical: -3.153317 analytic: -3.153314, relative error: 4.275066e-07\n",
      "numerical: -4.296181 analytic: -4.296182, relative error: 3.208957e-08\n",
      "numerical: -1.275040 analytic: -1.275040, relative error: 1.399198e-07\n",
      "numerical: -3.153317 analytic: -3.153314, relative error: 4.275066e-07\n",
      "numerical: -4.145384 analytic: -4.145384, relative error: 8.443250e-08\n",
      "Gradient check bias\n",
      "numerical: -304.266933 analytic: -304.266932, relative error: 1.251013e-09\n",
      "numerical: -304.266933 analytic: -304.266932, relative error: 1.251013e-09\n",
      "numerical: -304.266933 analytic: -304.266932, relative error: 1.251013e-09\n",
      "numerical: -304.266933 analytic: -304.266932, relative error: 1.251013e-09\n",
      "numerical: -304.266933 analytic: -304.266932, relative error: 1.251013e-09\n",
      "numerical: -304.266933 analytic: -304.266932, relative error: 1.251013e-09\n",
      "numerical: -304.266933 analytic: -304.266932, relative error: 1.251013e-09\n",
      "numerical: -304.266933 analytic: -304.266932, relative error: 1.251013e-09\n",
      "numerical: -304.266933 analytic: -304.266932, relative error: 1.251013e-09\n",
      "numerical: -304.266933 analytic: -304.266932, relative error: 1.251013e-09\n",
      "numerical: -304.266933 analytic: -304.266932, relative error: 1.251013e-09\n",
      "numerical: -304.266933 analytic: -304.266932, relative error: 1.251013e-09\n",
      "numerical: -304.266933 analytic: -304.266932, relative error: 1.251013e-09\n",
      "numerical: -304.266933 analytic: -304.266932, relative error: 1.251013e-09\n",
      "numerical: -304.266933 analytic: -304.266932, relative error: 1.251013e-09\n"
     ]
    }
   ],
   "source": [
    "loss, dw1, db1 = mse_loss_vectorized(w1, b1, X_train1, y_train1, alpha=1)\n",
    "\n",
    "print(\"Gradient check w\")\n",
    "# Check with numerical gradient w\n",
    "f = lambda w1: mse_loss_vectorized(w1, b1, X_train1, y_train1, alpha=1)[0]\n",
    "grad_numerical = grad_check_sparse(f, w1, dw1, 15,  error=1e-5)\n",
    "\n",
    "print(\"Gradient check bias\")\n",
    "# Check with numerical gradient b\n",
    "f2 = lambda b1: mse_loss_vectorized(w1, b1, X_train1, y_train1, alpha=1)[0]\n",
    "grad_numerical = grad_check_sparse(f2, b1, db1, 15,  error=1e-5)"
   ]
  },
  {
   "cell_type": "markdown",
   "id": "c3c7ae33",
   "metadata": {},
   "source": [
    "# Logistic regression"
   ]
  },
  {
   "cell_type": "code",
   "execution_count": 9,
   "id": "bb6d1eb4",
   "metadata": {
    "deletable": false,
    "editable": false,
    "nbgrader": {
     "cell_type": "code",
     "checksum": "fd86b658f3ec113c00c2ee2e195f550f",
     "grade": false,
     "grade_id": "cell-434ec399cf8aeea7",
     "locked": true,
     "schema_version": 3,
     "solution": false,
     "task": false
    }
   },
   "outputs": [],
   "source": [
    "def sigmoid(z):\n",
    "    return 1 / (1 + np.exp(-z))\n",
    "\n",
    "data = load_breast_cancer()\n",
    "X_train2, y_train2 = data.data, data.target\n",
    "w2 = np.random.randn(X_train2.shape[1]) * 0.0001\n",
    "b2 = np.random.randn(1) * 0.0001"
   ]
  },
  {
   "cell_type": "markdown",
   "id": "d97e5d16",
   "metadata": {},
   "source": [
    "# Naive"
   ]
  },
  {
   "cell_type": "code",
   "execution_count": 10,
   "id": "4690c331",
   "metadata": {
    "deletable": false,
    "nbgrader": {
     "cell_type": "code",
     "checksum": "a4357b941a04e6dc51a2683b7f4d91ed",
     "grade": false,
     "grade_id": "cell-6ec156568b0c6e29",
     "locked": false,
     "schema_version": 3,
     "solution": true,
     "task": false
    }
   },
   "outputs": [],
   "source": [
    "def log_loss_naive(w, b, X, y, alpha=0):\n",
    "    \"\"\"\n",
    "    log loss function WITH FOR LOOPs\n",
    "    \n",
    "    Returns a tuple of:\n",
    "    - loss \n",
    "    - gradient with respect to weights w\n",
    "    \"\"\"\n",
    "    loss = 0.0\n",
    "    dw = np.zeros_like(w)\n",
    "    db = 0.0\n",
    "    \n",
    "    # YOUR CODE HERE\n",
    "    y_predict = X @ w + b\n",
    "    n = len(y_predict)\n",
    "    \n",
    "    # Find the RSS(w) and delta(RSS(w)) respect to w and b\n",
    "    for i in range(n):\n",
    "        loss = loss + (y[i] * np.log(sigmoid(y_predict[i])) + (1 - y[i]) * np.log(1 - sigmoid(y_predict[i])))\n",
    "        for j in range(len(dw)):    \n",
    "            dw[j] = dw[j] + (sigmoid(y_predict[i])-y[i]) * X[i][j]\n",
    "        db = db + (sigmoid(y_predict[i])-y[i])\n",
    "        \n",
    "    loss = loss * (-1/n) \n",
    "    dw = dw * (1/n)\n",
    "    db = db * (1/n)\n",
    "    \n",
    "    # Add alpha*(w**2) to the RSS(w) and delta(alpha*(w**2) to delya(RSS(w)))\n",
    "    for j in range(w.shape[0]):\n",
    "        loss = loss + alpha * (w[j]**2)\n",
    "        dw[j] = dw[j] + 2 * alpha * w[j]\n",
    "        \n",
    "    return loss, dw, np.array(db).reshape(1,)"
   ]
  },
  {
   "cell_type": "code",
   "execution_count": 11,
   "id": "f54b1bca",
   "metadata": {
    "deletable": false,
    "editable": false,
    "nbgrader": {
     "cell_type": "code",
     "checksum": "97d1606d0c00119f8956e4ef60ad346f",
     "grade": true,
     "grade_id": "cell-d3c078eb2449ee61",
     "locked": true,
     "points": 1,
     "schema_version": 3,
     "solution": false,
     "task": false
    }
   },
   "outputs": [
    {
     "name": "stdout",
     "output_type": "stream",
     "text": [
      "Loss error :  3.2352554521626505e-16\n",
      "Gradient check w\n",
      "numerical: -0.013925 analytic: -0.013925, relative error: 8.694020e-11\n",
      "numerical: -0.028284 analytic: -0.028284, relative error: 2.704030e-10\n",
      "numerical: 0.017364 analytic: 0.017364, relative error: 5.166635e-10\n",
      "numerical: -0.021008 analytic: -0.021008, relative error: 4.658865e-10\n",
      "numerical: -0.761824 analytic: -0.761824, relative error: 3.505071e-10\n",
      "numerical: -0.171752 analytic: -0.171752, relative error: 2.675045e-11\n",
      "numerical: -0.000430 analytic: -0.000430, relative error: 1.019890e-07\n",
      "numerical: -0.002887 analytic: -0.002887, relative error: 4.459941e-09\n",
      "numerical: -0.013925 analytic: -0.013925, relative error: 8.694020e-11\n",
      "numerical: -0.000807 analytic: -0.000807, relative error: 7.556200e-09\n",
      "numerical: -0.028284 analytic: -0.028284, relative error: 2.704030e-10\n",
      "numerical: 73.225406 analytic: 73.224859, relative error: 3.728982e-06\n",
      "numerical: 0.000370 analytic: 0.000370, relative error: 2.039183e-08\n",
      "numerical: -0.008814 analytic: -0.008814, relative error: 1.266264e-09\n",
      "numerical: -0.008940 analytic: -0.008940, relative error: 4.019173e-09\n",
      "Gradient check bias\n",
      "numerical: -0.139833 analytic: -0.139833, relative error: 6.585259e-11\n",
      "numerical: -0.139833 analytic: -0.139833, relative error: 6.585259e-11\n",
      "numerical: -0.139833 analytic: -0.139833, relative error: 6.585259e-11\n",
      "numerical: -0.139833 analytic: -0.139833, relative error: 6.585259e-11\n",
      "numerical: -0.139833 analytic: -0.139833, relative error: 6.585259e-11\n",
      "numerical: -0.139833 analytic: -0.139833, relative error: 6.585259e-11\n",
      "numerical: -0.139833 analytic: -0.139833, relative error: 6.585259e-11\n",
      "numerical: -0.139833 analytic: -0.139833, relative error: 6.585259e-11\n",
      "numerical: -0.139833 analytic: -0.139833, relative error: 6.585259e-11\n",
      "numerical: -0.139833 analytic: -0.139833, relative error: 6.585259e-11\n",
      "numerical: -0.139833 analytic: -0.139833, relative error: 6.585259e-11\n",
      "numerical: -0.139833 analytic: -0.139833, relative error: 6.585259e-11\n",
      "numerical: -0.139833 analytic: -0.139833, relative error: 6.585259e-11\n",
      "numerical: -0.139833 analytic: -0.139833, relative error: 6.585259e-11\n",
      "numerical: -0.139833 analytic: -0.139833, relative error: 6.585259e-11\n"
     ]
    }
   ],
   "source": [
    "y_pred_0 = sigmoid(X_train2 @ w2 + b2)\n",
    "y_pred = np.vstack([1-y_pred_0, y_pred_0]).T\n",
    "sk_loss = log_loss(y_train2, y_pred)\n",
    "\n",
    "loss, dw2, db2 = log_loss_naive(w2, b2, X_train2, y_train2, alpha=0)\n",
    "assert rel_error(loss, sk_loss) < 1e-9\n",
    "print(\"Loss error : \",rel_error(loss, sk_loss))\n",
    "\n",
    "print(\"Gradient check w\")\n",
    "# Check with numerical gradient w\n",
    "f = lambda w2: log_loss_naive(w2, b2, X_train2, y_train2, alpha=0)[0]\n",
    "grad_numerical = grad_check_sparse(f, w2, dw2, 15, error=1e-4)\n",
    "\n",
    "print(\"Gradient check bias\")\n",
    "# Check with numerical gradient b\n",
    "f2 = lambda b2: log_loss_naive(w2, b2, X_train2, y_train2, alpha=0)[0]\n",
    "grad_numerical = grad_check_sparse(f2, b2, db2, 15,  error=1e-5)"
   ]
  },
  {
   "cell_type": "markdown",
   "id": "5e1e8516",
   "metadata": {},
   "source": [
    "# Naive with regulariztion"
   ]
  },
  {
   "cell_type": "code",
   "execution_count": 12,
   "id": "79f6f9a6",
   "metadata": {
    "deletable": false,
    "editable": false,
    "nbgrader": {
     "cell_type": "code",
     "checksum": "cb3c9584e2ca3502e5068d5c1ee2df96",
     "grade": true,
     "grade_id": "cell-b91805308ad91ec5",
     "locked": true,
     "points": 1,
     "schema_version": 3,
     "solution": false,
     "task": false
    }
   },
   "outputs": [
    {
     "name": "stdout",
     "output_type": "stream",
     "text": [
      "Gradient check w\n",
      "numerical: -1.848433 analytic: -1.848433, relative error: 2.708021e-10\n",
      "numerical: -0.028415 analytic: -0.028415, relative error: 2.538717e-10\n",
      "numerical: -0.171341 analytic: -0.171341, relative error: 3.633622e-11\n",
      "numerical: -0.002601 analytic: -0.002601, relative error: 4.681675e-09\n",
      "numerical: 0.007668 analytic: 0.007668, relative error: 1.697253e-09\n",
      "numerical: -0.001316 analytic: -0.001316, relative error: 6.135629e-09\n",
      "numerical: -0.000302 analytic: -0.000302, relative error: 1.427347e-07\n",
      "numerical: 0.017320 analytic: 0.017320, relative error: 4.580030e-10\n",
      "numerical: 0.027264 analytic: 0.027264, relative error: 3.481917e-11\n",
      "numerical: -0.020962 analytic: -0.020962, relative error: 5.606820e-10\n",
      "numerical: -0.001177 analytic: -0.001177, relative error: 4.502759e-10\n",
      "numerical: 0.008908 analytic: 0.008908, relative error: 1.789511e-09\n",
      "numerical: -0.002601 analytic: -0.002601, relative error: 4.681675e-09\n",
      "numerical: -1.848433 analytic: -1.848433, relative error: 2.708021e-10\n",
      "numerical: -0.001177 analytic: -0.001177, relative error: 4.502759e-10\n",
      "Gradient check bias\n",
      "numerical: -0.139833 analytic: -0.139833, relative error: 6.585259e-11\n",
      "numerical: -0.139833 analytic: -0.139833, relative error: 6.585259e-11\n",
      "numerical: -0.139833 analytic: -0.139833, relative error: 6.585259e-11\n",
      "numerical: -0.139833 analytic: -0.139833, relative error: 6.585259e-11\n",
      "numerical: -0.139833 analytic: -0.139833, relative error: 6.585259e-11\n",
      "numerical: -0.139833 analytic: -0.139833, relative error: 6.585259e-11\n",
      "numerical: -0.139833 analytic: -0.139833, relative error: 6.585259e-11\n",
      "numerical: -0.139833 analytic: -0.139833, relative error: 6.585259e-11\n",
      "numerical: -0.139833 analytic: -0.139833, relative error: 6.585259e-11\n",
      "numerical: -0.139833 analytic: -0.139833, relative error: 6.585259e-11\n",
      "numerical: -0.139833 analytic: -0.139833, relative error: 6.585259e-11\n",
      "numerical: -0.139833 analytic: -0.139833, relative error: 6.585259e-11\n",
      "numerical: -0.139833 analytic: -0.139833, relative error: 6.585259e-11\n",
      "numerical: -0.139833 analytic: -0.139833, relative error: 6.585259e-11\n",
      "numerical: -0.139833 analytic: -0.139833, relative error: 6.585259e-11\n"
     ]
    }
   ],
   "source": [
    "loss, dw2, db2 = log_loss_naive(w2, b2, X_train2, y_train2, alpha=1)\n",
    "\n",
    "print(\"Gradient check w\")\n",
    "# Check with numerical gradient w\n",
    "f = lambda w2: log_loss_naive(w2, b2, X_train2, y_train2, alpha=1)[0]\n",
    "grad_numerical = grad_check_sparse(f, w2, dw2, 15, error=1e-4)\n",
    "\n",
    "print(\"Gradient check bias\")\n",
    "# Check with numerical gradient b\n",
    "f2 = lambda b2: log_loss_naive(w2, b2, X_train2, y_train2, alpha=1)[0]\n",
    "grad_numerical = grad_check_sparse(f2, b2, db2, 15,  error=1e-5)"
   ]
  },
  {
   "cell_type": "markdown",
   "id": "31564092",
   "metadata": {},
   "source": [
    "# Vectorized"
   ]
  },
  {
   "cell_type": "code",
   "execution_count": 13,
   "id": "fc5084e9",
   "metadata": {
    "deletable": false,
    "nbgrader": {
     "cell_type": "code",
     "checksum": "6f452aaa24d69e2257c0851d750fd4aa",
     "grade": false,
     "grade_id": "cell-a96e9a6d51919ffc",
     "locked": false,
     "schema_version": 3,
     "solution": true,
     "task": false
    }
   },
   "outputs": [],
   "source": [
    "def log_loss_vectorized(w, b,X, y, alpha=0):\n",
    "    \"\"\"\n",
    "    log loss function WITHOUT FOR LOOPs\n",
    "    \n",
    "    Returns a tuple of:\n",
    "    - loss \n",
    "    - gradient with respect to weights w\n",
    "    \"\"\"\n",
    "    loss = 0.0\n",
    "    dw = np.zeros_like(w)\n",
    "    \n",
    "    # YOUR CODE HERE\n",
    "    y_predict = X @ w + b\n",
    "    n = len(y_predict)\n",
    "    \n",
    "    loss = (-1/n) * sum(y * np.log(sigmoid(y_predict)) + (1 - y) * np.log(1 - sigmoid(y_predict))) + alpha * w.T @ w\n",
    "    dw = (1/n) * (X.T @ (sigmoid(y_predict)-y)) + 2 * alpha * w\n",
    "    db = (1/n) * sum(sigmoid(y_predict)-y)\n",
    "    \n",
    "    return loss, dw, np.array(db).reshape(1,)"
   ]
  },
  {
   "cell_type": "code",
   "execution_count": 14,
   "id": "c425e768",
   "metadata": {
    "deletable": false,
    "editable": false,
    "nbgrader": {
     "cell_type": "code",
     "checksum": "37c0df2fc2b67514a7bd11e120562fa1",
     "grade": true,
     "grade_id": "cell-ca14e49ada130789",
     "locked": true,
     "points": 1,
     "schema_version": 3,
     "solution": false,
     "task": false
    },
    "scrolled": true
   },
   "outputs": [
    {
     "name": "stdout",
     "output_type": "stream",
     "text": [
      "Loss error :  3.2352554521626505e-16\n",
      "Gradient check w\n",
      "numerical: 73.225406 analytic: 73.224859, relative error: 3.728982e-06\n",
      "numerical: 6.065611 analytic: 6.065611, relative error: 2.264986e-08\n",
      "numerical: 0.017364 analytic: 0.017364, relative error: 5.166634e-10\n",
      "numerical: -1.848525 analytic: -1.848525, relative error: 2.714801e-10\n",
      "numerical: 0.008697 analytic: 0.008697, relative error: 1.930499e-09\n",
      "numerical: 25.976313 analytic: 25.976176, relative error: 2.640913e-06\n",
      "numerical: 0.008697 analytic: 0.008697, relative error: 1.930499e-09\n",
      "numerical: -0.507111 analytic: -0.507111, relative error: 1.004690e-09\n",
      "numerical: -2.256053 analytic: -2.256053, relative error: 5.447106e-10\n",
      "numerical: 73.225406 analytic: 73.224859, relative error: 3.728982e-06\n",
      "numerical: 0.008639 analytic: 0.008639, relative error: 8.637811e-10\n",
      "numerical: -0.011070 analytic: -0.011070, relative error: 5.816425e-10\n",
      "numerical: -0.001059 analytic: -0.001059, relative error: 1.139599e-10\n",
      "numerical: 0.013907 analytic: 0.013907, relative error: 1.018081e-09\n",
      "numerical: -2.600440 analytic: -2.600440, relative error: 5.970370e-08\n",
      "Gradient check bias\n",
      "numerical: -0.139833 analytic: -0.139833, relative error: 6.585259e-11\n",
      "numerical: -0.139833 analytic: -0.139833, relative error: 6.585259e-11\n",
      "numerical: -0.139833 analytic: -0.139833, relative error: 6.585259e-11\n",
      "numerical: -0.139833 analytic: -0.139833, relative error: 6.585259e-11\n",
      "numerical: -0.139833 analytic: -0.139833, relative error: 6.585259e-11\n",
      "numerical: -0.139833 analytic: -0.139833, relative error: 6.585259e-11\n",
      "numerical: -0.139833 analytic: -0.139833, relative error: 6.585259e-11\n",
      "numerical: -0.139833 analytic: -0.139833, relative error: 6.585259e-11\n",
      "numerical: -0.139833 analytic: -0.139833, relative error: 6.585259e-11\n",
      "numerical: -0.139833 analytic: -0.139833, relative error: 6.585259e-11\n",
      "numerical: -0.139833 analytic: -0.139833, relative error: 6.585259e-11\n",
      "numerical: -0.139833 analytic: -0.139833, relative error: 6.585259e-11\n",
      "numerical: -0.139833 analytic: -0.139833, relative error: 6.585259e-11\n",
      "numerical: -0.139833 analytic: -0.139833, relative error: 6.585259e-11\n",
      "numerical: -0.139833 analytic: -0.139833, relative error: 6.585259e-11\n"
     ]
    }
   ],
   "source": [
    "y_pred_0 = sigmoid(X_train2 @ w2 + b2)\n",
    "y_pred = np.vstack([1-y_pred_0, y_pred_0]).T\n",
    "sk_loss = log_loss(y_train2, y_pred)\n",
    "\n",
    "loss, dw2, db2 = log_loss_vectorized(w2, b2, X_train2, y_train2, alpha=0)\n",
    "assert rel_error(loss, sk_loss) < 1e-9\n",
    "print(\"Loss error : \",rel_error(loss, sk_loss))\n",
    "\n",
    "print(\"Gradient check w\")\n",
    "# Check with numerical gradient w\n",
    "f = lambda w2: log_loss_vectorized(w2, b2, X_train2, y_train2, alpha=0)[0]\n",
    "grad_numerical = grad_check_sparse(f, w2, dw2, 15, error=1e-4)\n",
    "\n",
    "print(\"Gradient check bias\")\n",
    "# Check with numerical gradient b\n",
    "f2 = lambda b2: log_loss_vectorized(w2, b2, X_train2, y_train2, alpha=0)[0]\n",
    "grad_numerical = grad_check_sparse(f2, b2, db2, 15,  error=1e-5)"
   ]
  },
  {
   "cell_type": "markdown",
   "id": "dc7be5da",
   "metadata": {},
   "source": [
    "# Vectorized with regularization"
   ]
  },
  {
   "cell_type": "code",
   "execution_count": 15,
   "id": "a4e09127",
   "metadata": {
    "deletable": false,
    "editable": false,
    "nbgrader": {
     "cell_type": "code",
     "checksum": "53e97adc2666d529eff9ba1abcd3756a",
     "grade": true,
     "grade_id": "cell-bce082fccf8b7057",
     "locked": true,
     "points": 1,
     "schema_version": 3,
     "solution": false,
     "task": false
    }
   },
   "outputs": [
    {
     "name": "stdout",
     "output_type": "stream",
     "text": [
      "Gradient check w\n",
      "numerical: -0.171341 analytic: -0.171341, relative error: 3.633630e-11\n",
      "numerical: 0.008908 analytic: 0.008908, relative error: 1.789511e-09\n",
      "numerical: -0.008832 analytic: -0.008832, relative error: 4.085841e-09\n",
      "numerical: -0.761932 analytic: -0.761932, relative error: 3.506969e-10\n",
      "numerical: 0.013671 analytic: 0.013671, relative error: 1.115234e-09\n",
      "numerical: 6.065615 analytic: 6.065615, relative error: 2.264991e-08\n",
      "numerical: 73.225149 analytic: 73.224603, relative error: 3.728995e-06\n",
      "numerical: -0.001316 analytic: -0.001316, relative error: 4.025832e-09\n",
      "numerical: -0.014209 analytic: -0.014209, relative error: 6.719683e-11\n",
      "numerical: -0.001316 analytic: -0.001316, relative error: 4.025832e-09\n",
      "numerical: -0.014209 analytic: -0.014209, relative error: 6.719683e-11\n",
      "numerical: 0.017320 analytic: 0.017320, relative error: 4.580029e-10\n",
      "numerical: 25.976543 analytic: 25.976406, relative error: 2.640890e-06\n",
      "numerical: -0.008548 analytic: -0.008548, relative error: 1.220327e-09\n",
      "numerical: -2.600749 analytic: -2.600750, relative error: 5.969647e-08\n",
      "Gradient check bias\n",
      "numerical: -0.139833 analytic: -0.139833, relative error: 6.585259e-11\n",
      "numerical: -0.139833 analytic: -0.139833, relative error: 6.585259e-11\n",
      "numerical: -0.139833 analytic: -0.139833, relative error: 6.585259e-11\n",
      "numerical: -0.139833 analytic: -0.139833, relative error: 6.585259e-11\n",
      "numerical: -0.139833 analytic: -0.139833, relative error: 6.585259e-11\n",
      "numerical: -0.139833 analytic: -0.139833, relative error: 6.585259e-11\n",
      "numerical: -0.139833 analytic: -0.139833, relative error: 6.585259e-11\n",
      "numerical: -0.139833 analytic: -0.139833, relative error: 6.585259e-11\n",
      "numerical: -0.139833 analytic: -0.139833, relative error: 6.585259e-11\n",
      "numerical: -0.139833 analytic: -0.139833, relative error: 6.585259e-11\n",
      "numerical: -0.139833 analytic: -0.139833, relative error: 6.585259e-11\n",
      "numerical: -0.139833 analytic: -0.139833, relative error: 6.585259e-11\n",
      "numerical: -0.139833 analytic: -0.139833, relative error: 6.585259e-11\n",
      "numerical: -0.139833 analytic: -0.139833, relative error: 6.585259e-11\n",
      "numerical: -0.139833 analytic: -0.139833, relative error: 6.585259e-11\n"
     ]
    }
   ],
   "source": [
    "loss, dw2, db2 = log_loss_vectorized(w2, b2, X_train2, y_train2, alpha=1)\n",
    "\n",
    "print(\"Gradient check w\")\n",
    "# Check with numerical gradient w\n",
    "f = lambda w2: log_loss_vectorized(w2, b2, X_train2, y_train2, alpha=1)[0]\n",
    "grad_numerical = grad_check_sparse(f, w2, dw2, 15, error=1e-4)\n",
    "\n",
    "print(\"Gradient check bias\")\n",
    "# Check with numerical gradient b\n",
    "f2 = lambda b2: log_loss_vectorized(w2, b2, X_train2, y_train2, alpha=1)[0]\n",
    "grad_numerical = grad_check_sparse(f2, b2, db2, 15,  error=1e-5)"
   ]
  },
  {
   "cell_type": "markdown",
   "id": "06403ea0",
   "metadata": {},
   "source": [
    "# Gradient descent for Linear models"
   ]
  },
  {
   "cell_type": "code",
   "execution_count": 16,
   "id": "5039af1c",
   "metadata": {
    "deletable": false,
    "nbgrader": {
     "cell_type": "code",
     "checksum": "9a1783db1a1f1898028260238567bed7",
     "grade": false,
     "grade_id": "cell-485e52c0efd4f4a9",
     "locked": false,
     "schema_version": 3,
     "solution": true,
     "task": false
    }
   },
   "outputs": [],
   "source": [
    "class LinearModel():\n",
    "    def __init__(self):\n",
    "        self.w = None\n",
    "        self.b = None\n",
    "\n",
    "    def train(self, X, y, learning_rate=1e-3, alpha=0, num_iters=100, batch_size=200, verbose=False):\n",
    "        N, d = X.shape\n",
    "        \n",
    "        if self.w is None: # Initialization\n",
    "            self.w = 0.001 * np.random.randn(d)\n",
    "            self.b = 0.0\n",
    "\n",
    "        # Run stochastic gradient descent to optimize w\n",
    "        \n",
    "        loss_history = []\n",
    "        for it in range(num_iters):\n",
    "            X_batch = None\n",
    "            y_batch = None\n",
    "                                                               \n",
    "            # Sample batch_size elements in X_batch and y_batch\n",
    "            # X_batch shape is  (batch_size, d) and y_batch shape is (batch_size,)                                                                                          \n",
    "            # Hint: Use np.random.choice to generate indices\n",
    "            # YOUR CODE HERE\n",
    "            choice = np.random.choice(N, batch_size, replace=False)\n",
    "\n",
    "            X_batch = X[choice, :]\n",
    "            y_batch = y[choice ]\n",
    "            \n",
    "            # evaluate loss and gradient\n",
    "            loss, dw, db = self.loss(X_batch, y_batch, alpha)\n",
    "            loss_history.append(loss)\n",
    "\n",
    "            # perform parameter update                                                                \n",
    "            # Update the weights w and bias b using the gradient and the learning rate.          \n",
    "            # YOUR CODE HERE\n",
    "            self.w = self.w - learning_rate * dw\n",
    "            self.b = self.b - learning_rate * db\n",
    "            \n",
    "            if verbose and it % 10000 == 0:\n",
    "                print(\"iteration %d / %d: loss %f\" % (it, num_iters, loss))\n",
    "                \n",
    "        return loss_history\n",
    "\n",
    "    def predict(self, X):\n",
    "        pass\n",
    "\n",
    "    def loss(self, X_batch, y_batch, reg):\n",
    "        pass\n",
    "\n",
    "class LinearRegressor(LinearModel):\n",
    "    \"\"\" Linear regression \"\"\"\n",
    "\n",
    "    def loss(self, X_batch, y_batch, alpha):\n",
    "        return mse_loss_vectorized(self.w, self.b, X_batch, y_batch, alpha)\n",
    "    \n",
    "    def predict(self, X):\n",
    "        # YOUR CODE HERE   \n",
    "        return (X @ self.w + self.b)\n",
    "\n",
    "class LogisticRegressor(LinearModel):\n",
    "    \"\"\" Linear regression \"\"\"\n",
    "\n",
    "    def loss(self, X_batch, y_batch, alpha):\n",
    "        return log_loss_vectorized(self.w, self.b, X_batch, y_batch, alpha)\n",
    "    \n",
    "    def predict(self, X):\n",
    "        \"\"\" Return prediction labels vector of 0 or 1 \"\"\"\n",
    "        # YOUR CODE HERE\n",
    "        \n",
    "        test = X @ self.w + self.b\n",
    "        test[test<=0] = 0\n",
    "        test[test>0] = 1\n",
    "        \n",
    "        return test"
   ]
  },
  {
   "cell_type": "markdown",
   "id": "7fa0aa79",
   "metadata": {},
   "source": [
    "## Linear regression with gradient descent"
   ]
  },
  {
   "cell_type": "code",
   "execution_count": 17,
   "id": "86925e00",
   "metadata": {
    "deletable": false,
    "editable": false,
    "nbgrader": {
     "cell_type": "code",
     "checksum": "30f1c271b16efe670214663c10743937",
     "grade": true,
     "grade_id": "cell-92f36a3b387a4277",
     "locked": true,
     "points": 2,
     "schema_version": 3,
     "solution": false,
     "task": false
    }
   },
   "outputs": [
    {
     "name": "stdout",
     "output_type": "stream",
     "text": [
      "iteration 0 / 75000: loss 27786.886826\n",
      "iteration 10000 / 75000: loss 2794.975652\n",
      "iteration 20000 / 75000: loss 2842.583590\n",
      "iteration 30000 / 75000: loss 3835.044532\n",
      "iteration 40000 / 75000: loss 2157.041870\n",
      "iteration 50000 / 75000: loss 3507.744987\n",
      "iteration 60000 / 75000: loss 2515.952461\n",
      "iteration 70000 / 75000: loss 2756.357055\n",
      "MSE scikit-learn: 2859.6903987680657\n",
      "MSE gradient descent model : 2884.3785411892104\n"
     ]
    }
   ],
   "source": [
    "from sklearn.linear_model import LinearRegression\n",
    "\n",
    "sk_model = LinearRegression(fit_intercept=True)\n",
    "sk_model.fit(X_train1, y_train1)\n",
    "sk_pred = sk_model.predict(X_train1)\n",
    "sk_mse = mean_squared_error(sk_pred, y_train1)\n",
    "\n",
    "model = LinearRegressor()\n",
    "model.train(X_train1, y_train1, num_iters=75000, batch_size=64, learning_rate=1e-2, verbose=True)\n",
    "pred = model.predict(X_train1)\n",
    "mse = mean_squared_error(pred, y_train1)\n",
    "\n",
    "print(\"MSE scikit-learn:\", sk_mse)\n",
    "print(\"MSE gradient descent model :\", mse)\n",
    "assert mse - sk_mse < 100"
   ]
  },
  {
   "cell_type": "markdown",
   "id": "d17c54d8",
   "metadata": {},
   "source": [
    "## Logistc regression with gradient descent"
   ]
  },
  {
   "cell_type": "code",
   "execution_count": 18,
   "id": "9219f422",
   "metadata": {
    "deletable": false,
    "editable": false,
    "nbgrader": {
     "cell_type": "code",
     "checksum": "c6196155f76f4eded31fefce67a76d60",
     "grade": true,
     "grade_id": "cell-925a2ddb5c1ba7ff",
     "locked": true,
     "points": 2,
     "schema_version": 3,
     "solution": false,
     "task": false
    }
   },
   "outputs": [
    {
     "name": "stdout",
     "output_type": "stream",
     "text": [
      "iteration 0 / 75000: loss 0.692497\n",
      "iteration 10000 / 75000: loss 0.090786\n",
      "iteration 20000 / 75000: loss 0.105522\n",
      "iteration 30000 / 75000: loss 0.064147\n",
      "iteration 40000 / 75000: loss 0.043165\n",
      "iteration 50000 / 75000: loss 0.150380\n",
      "iteration 60000 / 75000: loss 0.116199\n",
      "iteration 70000 / 75000: loss 0.087316\n",
      "Log-loss scikit-learn: 0.4249086712816093\n",
      "Log-loss gradiet descent model : 0.4249086712816093\n",
      "Error : 0.0\n"
     ]
    }
   ],
   "source": [
    "from sklearn.linear_model import LogisticRegression\n",
    "from sklearn.preprocessing import StandardScaler\n",
    "\n",
    "scaler = StandardScaler()\n",
    "X_train2 = scaler.fit_transform(X_train2)\n",
    "\n",
    "sk_model = LogisticRegression(fit_intercept=True)\n",
    "sk_model.fit(X_train2, y_train2)\n",
    "sk_pred = sk_model.predict(X_train2)\n",
    "sk_log_loss = log_loss(sk_pred, y_train2)\n",
    "\n",
    "model = LogisticRegressor()\n",
    "model.train(X_train2, y_train2, num_iters=75000, batch_size=64, learning_rate=1e-3, verbose=True)\n",
    "pred = model.predict(X_train2)\n",
    "model_log_loss = log_loss(pred, y_train2)\n",
    "\n",
    "print(\"Log-loss scikit-learn:\", sk_log_loss)\n",
    "print(\"Log-loss gradiet descent model :\", model_log_loss)\n",
    "print(\"Error :\", rel_error(sk_log_loss, model_log_loss))\n",
    "assert rel_error(sk_log_loss, model_log_loss) < 1e-7"
   ]
  },
  {
   "cell_type": "code",
   "execution_count": null,
   "id": "396f7431",
   "metadata": {},
   "outputs": [],
   "source": []
  }
 ],
 "metadata": {
  "kernelspec": {
   "display_name": "Python 3 (ipykernel)",
   "language": "python",
   "name": "python3"
  },
  "language_info": {
   "codemirror_mode": {
    "name": "ipython",
    "version": 3
   },
   "file_extension": ".py",
   "mimetype": "text/x-python",
   "name": "python",
   "nbconvert_exporter": "python",
   "pygments_lexer": "ipython3",
   "version": "3.8.8"
  }
 },
 "nbformat": 4,
 "nbformat_minor": 5
}
