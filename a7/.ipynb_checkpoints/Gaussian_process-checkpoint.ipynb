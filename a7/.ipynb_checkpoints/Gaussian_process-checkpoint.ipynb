{
 "cells": [
  {
   "cell_type": "code",
   "execution_count": 1,
   "id": "182225b2",
   "metadata": {},
   "outputs": [],
   "source": [
    "import numpy as np\n",
    "from sklearn.datasets import make_friedman2\n",
    "from sklearn.gaussian_process.kernels import RBF\n",
    "from sklearn.gaussian_process import GaussianProcessRegressor\n",
    "from sklearn.model_selection import train_test_split\n",
    "from sklearn.preprocessing import StandardScaler"
   ]
  },
  {
   "cell_type": "code",
   "execution_count": 2,
   "id": "ccb471cd",
   "metadata": {},
   "outputs": [],
   "source": [
    "def rel_error(x, y):\n",
    "    \"\"\" returns relative error \"\"\"\n",
    "    return np.max(np.abs(x - y) / (np.maximum(1e-8, np.abs(x) + np.abs(y))))"
   ]
  },
  {
   "cell_type": "code",
   "execution_count": 3,
   "id": "d1071d91",
   "metadata": {},
   "outputs": [],
   "source": [
    "X, y = make_friedman2(n_samples=500, noise=0, random_state=0)\n",
    "scaler = StandardScaler()\n",
    "scaler.fit_transform(X, y)\n",
    "X_train, X_test, y_train, y_test = train_test_split(X, y, test_size = 0.2)"
   ]
  },
  {
   "cell_type": "code",
   "execution_count": 4,
   "id": "74b42153",
   "metadata": {},
   "outputs": [],
   "source": [
    "def gaussian_kernel(x1, x2, sigma=1.0):\n",
    "    K = np.zeros((x1.shape[0], x2.shape[0]))\n",
    "    for i in range (x1.shape[0]):\n",
    "        for j in range(x2.shape[0]):\n",
    "            K[i][j] = np.exp(-np.linalg.norm(x1[i]-x2[j])**2/(2*sigma**2))\n",
    "    return K"
   ]
  },
  {
   "cell_type": "code",
   "execution_count": 5,
   "id": "e224ec2d",
   "metadata": {},
   "outputs": [],
   "source": [
    "class GaussProcess():\n",
    "    \n",
    "    def __init__(self,X_train,y_train, kernel, sigma):\n",
    "        self.sigma = sigma\n",
    "        self.kernel = kernel\n",
    "        self.X_train = X_train\n",
    "        self.y_train = y_train\n",
    "        self.mu = None\n",
    "        self.K = None\n",
    "        \n",
    "    \n",
    "    def fit(self):\n",
    "        self.mu = np.mean(self.X_train, axis=1)\n",
    "        self.K = self.kernel(self.X_train,self.X_train,sigma=self.sigma)\n",
    "    \n",
    "    def predict(self, X_test):\n",
    "        K_test = self.kernel(X_test,X_test,sigma=self.sigma)\n",
    "        K_train_test = self.kernel(self.X_train, X_test, sigma=self.sigma)\n",
    "        \n",
    "        # Mu\n",
    "        mu = K_train_test.T@np.linalg.inv(self.K)@(self.y_train)\n",
    "        \n",
    "        #cov\n",
    "        cov = K_test - K_train_test.T@np.linalg.inv(self.K)@K_train_test\n",
    "        \n",
    "        return mu, cov"
   ]
  },
  {
   "cell_type": "code",
   "execution_count": 6,
   "id": "d129e505",
   "metadata": {},
   "outputs": [
    {
     "name": "stdout",
     "output_type": "stream",
     "text": [
      "mu relative error : 5.000355656822503e-11\n",
      "cov relative error : 4.609208987986458e-12\n"
     ]
    }
   ],
   "source": [
    "gaussProcess = GaussProcess(X_train,y_train,gaussian_kernel,1.0)\n",
    "gaussProcess.fit()\n",
    "mu, cov = gaussProcess.predict(X_test)\n",
    "\n",
    "kernel = 1.0*RBF(1.0)\n",
    "gpr = GaussianProcessRegressor(kernel=kernel,random_state=0).fit(X_train, y_train)\n",
    "gpr_mu, gpr_cov = gpr.predict(X_test, return_cov=True)\n",
    "\n",
    "mu_error = rel_error(mu, gpr_mu)\n",
    "print(f'mu relative error : {mu_error}')\n",
    "cov_error = rel_error(cov, gpr_cov)\n",
    "print(f'cov relative error : {cov_error}')"
   ]
  }
 ],
 "metadata": {
  "kernelspec": {
   "display_name": "Python 3 (ipykernel)",
   "language": "python",
   "name": "python3"
  },
  "language_info": {
   "codemirror_mode": {
    "name": "ipython",
    "version": 3
   },
   "file_extension": ".py",
   "mimetype": "text/x-python",
   "name": "python",
   "nbconvert_exporter": "python",
   "pygments_lexer": "ipython3",
   "version": "3.8.8"
  }
 },
 "nbformat": 4,
 "nbformat_minor": 5
}
