{
 "cells": [
  {
   "cell_type": "markdown",
   "id": "6cd6c980",
   "metadata": {},
   "source": [
    "Before you turn this problem in, make sure everything runs as expected. First, **restart the kernel** (in the menubar, select Kernel$\\rightarrow$Restart) and then **run all cells** (in the menubar, select Cell$\\rightarrow$Run All).\n",
    "\n",
    "Make sure you fill in any place that says `YOUR CODE HERE` or \"YOUR ANSWER HERE\", as well as your name and collaborators below:"
   ]
  },
  {
   "cell_type": "markdown",
   "id": "6f1ef985",
   "metadata": {},
   "source": [
    "---"
   ]
  },
  {
   "cell_type": "code",
   "execution_count": 1,
   "id": "a168402f",
   "metadata": {
    "deletable": false,
    "editable": false,
    "nbgrader": {
     "cell_type": "code",
     "checksum": "6f1bb38b8804b40f1f328f3741874f3f",
     "grade": false,
     "grade_id": "cell-b289fcb888d3f6bd",
     "locked": true,
     "schema_version": 3,
     "solution": false,
     "task": false
    }
   },
   "outputs": [],
   "source": [
    "from sklearn.datasets import load_diabetes\n",
    "import numpy as np\n",
    "from sklearn.kernel_ridge import KernelRidge\n",
    "\n",
    "def rel_error(x, y):\n",
    "  \"\"\" returns relative error \"\"\"\n",
    "  return np.max(np.abs(x - y) / (np.maximum(1e-8, np.abs(x) + np.abs(y))))\n",
    "\n",
    "data = load_diabetes()\n",
    "X_train, y_train = data.data, data.target"
   ]
  },
  {
   "cell_type": "code",
   "execution_count": 2,
   "id": "f3efc9a0",
   "metadata": {
    "deletable": false,
    "nbgrader": {
     "cell_type": "code",
     "checksum": "72d710f13b316dae944616a03c487431",
     "grade": false,
     "grade_id": "cell-d36cbb79389907e8",
     "locked": false,
     "schema_version": 3,
     "solution": true,
     "task": false
    }
   },
   "outputs": [],
   "source": [
    "def gaussian_kernel(x1, x2, sigma=1.0):\n",
    "    # YOUR CODE HERE\n",
    "    return np.exp(-np.linalg.norm(x1-x2)**2/(2*sigma**2))\n",
    "\n",
    "class KernelRidgeRegression():\n",
    "    def __init__(self, kernel, lambd=1.0):\n",
    "        self.lambd = lambd # regularization coefficient\n",
    "        self.alpha = None # dual variable\n",
    "        self.kernel = kernel # kernel function\n",
    "    \n",
    "    def fit(self, X, y):\n",
    "        # YOUR CODE HERE\n",
    "        N = X.shape[0]\n",
    "        I = np.eye(N)\n",
    "        \n",
    "        #Kernel function\n",
    "        k = np.zeros((N,N))\n",
    "        for i in range(N):\n",
    "            for j in range(N):\n",
    "                k[i][j] = self.kernel(X[i,:],X[j,:])\n",
    "        \n",
    "        temp = np.linalg.inv(k+self.lambd*I)\n",
    "        self.alpha = y@temp     \n",
    "    \n",
    "    def predict(self, X):\n",
    "        # YOUR CODE HERE\n",
    "        N = X.shape[0]\n",
    "        y_pred = np.zeros(N)\n",
    "        for i in range(N):\n",
    "            k = np.zeros(N)\n",
    "            for j in range(N):\n",
    "                k[j] = self.kernel(X[i,:],X[j,:])\n",
    "            y_pred[i] = self.alpha@k\n",
    "        return y_pred    "
   ]
  },
  {
   "cell_type": "code",
   "execution_count": 3,
   "id": "fedf3a66",
   "metadata": {
    "deletable": false,
    "editable": false,
    "nbgrader": {
     "cell_type": "code",
     "checksum": "15200c6466ca6ae2f4960881722f387e",
     "grade": true,
     "grade_id": "cell-ec40f17b949370cd",
     "locked": true,
     "points": 5,
     "schema_version": 3,
     "solution": false,
     "task": false
    }
   },
   "outputs": [
    {
     "name": "stdout",
     "output_type": "stream",
     "text": [
      "error:  7.175796734076663e-13\n",
      "prediction error:  0.0\n"
     ]
    }
   ],
   "source": [
    "kr = KernelRidgeRegression(kernel=gaussian_kernel)\n",
    "kr.fit(X_train,y_train)\n",
    "y_pred = kr.predict(X_train)\n",
    "\n",
    "sklearn_kr = KernelRidge(kernel=gaussian_kernel)\n",
    "sklearn_kr.fit(X_train,y_train)\n",
    "sklearn_y_pred = kr.predict(X_train)\n",
    "\n",
    "error = rel_error(kr.alpha, sklearn_kr.dual_coef_)\n",
    "print(\"error: \", error)\n",
    "assert error <= 1e-11\n",
    "\n",
    "error_pred = rel_error(y_pred, sklearn_y_pred)\n",
    "print(\"prediction error: \", error_pred)\n",
    "assert error <= 1e-11"
   ]
  },
  {
   "cell_type": "code",
   "execution_count": 4,
   "id": "b240cc82",
   "metadata": {},
   "outputs": [
    {
     "name": "stdout",
     "output_type": "stream",
     "text": [
      "error:  7.175796734076663e-13\n",
      "prediction error:  8.821735134558615e-15\n"
     ]
    }
   ],
   "source": [
    "kr = KernelRidgeRegression(kernel=gaussian_kernel)\n",
    "kr.fit(X_train,y_train)\n",
    "y_pred = kr.predict(X_train)\n",
    "\n",
    "sklearn_kr = KernelRidge(kernel=gaussian_kernel)\n",
    "sklearn_kr.fit(X_train,y_train)\n",
    "sklearn_y_pred = sklearn_kr.predict(X_train)\n",
    "\n",
    "error = rel_error(kr.alpha, sklearn_kr.dual_coef_)\n",
    "print(\"error: \", error)\n",
    "assert error <= 1e-11\n",
    "\n",
    "error_pred = rel_error(y_pred, sklearn_y_pred)\n",
    "print(\"prediction error: \", error_pred)\n",
    "assert error <= 1e-11"
   ]
  },
  {
   "cell_type": "code",
   "execution_count": null,
   "id": "96a053f4",
   "metadata": {},
   "outputs": [],
   "source": []
  }
 ],
 "metadata": {
  "kernelspec": {
   "display_name": "Python 3 (ipykernel)",
   "language": "python",
   "name": "python3"
  },
  "language_info": {
   "codemirror_mode": {
    "name": "ipython",
    "version": 3
   },
   "file_extension": ".py",
   "mimetype": "text/x-python",
   "name": "python",
   "nbconvert_exporter": "python",
   "pygments_lexer": "ipython3",
   "version": "3.8.8"
  }
 },
 "nbformat": 4,
 "nbformat_minor": 5
}
