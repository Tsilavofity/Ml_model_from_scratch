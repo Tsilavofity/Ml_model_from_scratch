{
 "cells": [
  {
   "cell_type": "markdown",
   "id": "c904fa90",
   "metadata": {},
   "source": [
    "# Ridge regression"
   ]
  },
  {
   "cell_type": "code",
   "execution_count": 1,
   "id": "d330606a",
   "metadata": {
    "deletable": false,
    "editable": false,
    "nbgrader": {
     "cell_type": "code",
     "checksum": "147b2f9e33e05a5043e655678f8b276f",
     "grade": false,
     "grade_id": "cell-b5e53c9e7911bdda",
     "locked": true,
     "schema_version": 3,
     "solution": false,
     "task": false
    }
   },
   "outputs": [],
   "source": [
    "import numpy as np\n",
    "import scipy\n",
    "from sklearn.metrics import mean_squared_error\n",
    "from sklearn import datasets\n",
    "from sklearn.linear_model import Ridge \n",
    "\n",
    "def rel_error(x, y):\n",
    "  \"\"\" returns relative error \"\"\"\n",
    "  return np.max(np.abs(x - y) / (np.maximum(1e-8, np.abs(x) + np.abs(y))))\n",
    "\n",
    "data = datasets.load_diabetes()\n",
    "X_train, y_train = data.data, data.target"
   ]
  },
  {
   "cell_type": "code",
   "execution_count": 2,
   "id": "2104c92a",
   "metadata": {
    "deletable": false,
    "nbgrader": {
     "cell_type": "code",
     "checksum": "711205bfd22df2c4563fc1d89d67c874",
     "grade": false,
     "grade_id": "cell-9eff7cc96678f670",
     "locked": false,
     "schema_version": 3,
     "solution": true,
     "task": false
    }
   },
   "outputs": [],
   "source": [
    "def fit_inverse(X, y, alpha=1.0, fit_intercept=False):\n",
    "    \"\"\"Direct method using the inverse\"\"\"\n",
    "    # YOUR CODE HERE\n",
    "    \n",
    "    # With Bias\n",
    "    \n",
    "    # Identity matrix\n",
    "    I = np.eye(X.shape[1])\n",
    "    \n",
    "    if fit_intercept == True:\n",
    "            temp = np.ones((X.shape[0], 1))\n",
    "            X = np.concatenate((temp, X), axis=1)\n",
    "            I = np.eye(X.shape[1])\n",
    "            I[0][0] = 0\n",
    "            \n",
    "    return scipy.linalg.inv(X.T @ X + alpha * I) @ (X.T @ y)"
   ]
  },
  {
   "cell_type": "code",
   "execution_count": 3,
   "id": "3d283e47",
   "metadata": {
    "deletable": false,
    "editable": false,
    "nbgrader": {
     "cell_type": "code",
     "checksum": "849dc109770bd7180133ab390a066763",
     "grade": true,
     "grade_id": "cell-f846a8aee918f7c9",
     "locked": true,
     "points": 1,
     "schema_version": 3,
     "solution": false,
     "task": false
    }
   },
   "outputs": [
    {
     "name": "stdout",
     "output_type": "stream",
     "text": [
      "prediction error:  8.322327155333951e-15\n"
     ]
    }
   ],
   "source": [
    "w = fit_inverse(X_train, y_train, alpha=0.1)\n",
    "\n",
    "sk_model = Ridge(fit_intercept=False, alpha=0.1)\n",
    "sk_model.fit(X_train, y_train)\n",
    "\n",
    "error = rel_error(sk_model.coef_, w)\n",
    "assert error <= 1e-11\n",
    "print(\"prediction error: \", error)"
   ]
  },
  {
   "cell_type": "code",
   "execution_count": 4,
   "id": "9a5d6c61",
   "metadata": {
    "deletable": false,
    "nbgrader": {
     "cell_type": "code",
     "checksum": "c758a1ca053c5170fc9e732bfc173dda",
     "grade": false,
     "grade_id": "cell-8b24702cdef3e721",
     "locked": false,
     "schema_version": 3,
     "solution": true,
     "task": false
    }
   },
   "outputs": [],
   "source": [
    "def fit_qr_linear_regression(X, y):\n",
    "    \"\"\" QR approach for linear regression from previous assignement\"\"\"\n",
    "    # YOUR CODE HERE\n",
    "    \n",
    "    # Using (XT.X) = q.r\n",
    "    q , r = np.linalg.qr(X.T @ X)\n",
    "    \n",
    "    # q.r.w = XT.y\n",
    "    y1 = X.T @ y\n",
    "    \n",
    "    # z1 = r.w and we solve q.z1 = y1\n",
    "    z1 = np.linalg.solve(q , y1)\n",
    "    \n",
    "    # We solve r.w = z1 \n",
    "    return np.linalg.solve(r , z1)\n",
    "\n",
    "def fit_qr(X, y, alpha=1.0, fit_intercept=False):\n",
    "    \"\"\"QR approach\"\"\"\n",
    "    \n",
    "    # Identity matrix\n",
    "    I = np.eye(X.shape[1])\n",
    "    \n",
    "    # with bias\n",
    "    if fit_intercept == True:\n",
    "            temp = np.ones((X.shape[0], 1))\n",
    "            X = np.concatenate((temp, X), axis=1)\n",
    "            I = np.eye(X.shape[1])\n",
    "            I[0][0] = 0\n",
    "            \n",
    "    X1 = np.sqrt(alpha * I)\n",
    "    y1 = np.zeros(X.shape[1])\n",
    "    \n",
    "    X = np.vstack((X , X1))\n",
    "    y = np.hstack((y , y1))\n",
    "    \n",
    "    return fit_qr_linear_regression(X, y)\n",
    "    "
   ]
  },
  {
   "cell_type": "code",
   "execution_count": 5,
   "id": "12ab2a82",
   "metadata": {
    "deletable": false,
    "editable": false,
    "nbgrader": {
     "cell_type": "code",
     "checksum": "d6add1fd7d491b1b208b17c668d81906",
     "grade": true,
     "grade_id": "cell-4e2cc2ac2352d713",
     "locked": true,
     "points": 1,
     "schema_version": 3,
     "solution": false,
     "task": false
    }
   },
   "outputs": [
    {
     "name": "stdout",
     "output_type": "stream",
     "text": [
      "prediction error:  1.0173620338866472e-13\n"
     ]
    }
   ],
   "source": [
    "w = fit_qr(X_train, y_train, alpha=0.1)\n",
    "\n",
    "sk_model = Ridge(fit_intercept=False, alpha=0.1)\n",
    "sk_model.fit(X_train, y_train)\n",
    "\n",
    "error = rel_error(sk_model.coef_, w)\n",
    "#assert error <= 1e-11\n",
    "print(\"prediction error: \", error)"
   ]
  },
  {
   "cell_type": "code",
   "execution_count": 6,
   "id": "50e7b263",
   "metadata": {
    "deletable": false,
    "nbgrader": {
     "cell_type": "code",
     "checksum": "6db4323ffb148fc7995bf0904fffe1a5",
     "grade": false,
     "grade_id": "cell-9d32a83af0dcd96f",
     "locked": false,
     "schema_version": 3,
     "solution": true,
     "task": false
    }
   },
   "outputs": [],
   "source": [
    "def fit_svd(X, y, alpha=1.0, fit_intercept=False):\n",
    "    \"\"\"SVD approach\"\"\"\n",
    "    # YOUR CODE HERE\n",
    "    \n",
    "    # Identity matrix\n",
    "    I = np.eye(X.shape[1])\n",
    "    \n",
    "    # with bias\n",
    "    if fit_intercept == True:\n",
    "            temp = np.ones((X.shape[0], 1))\n",
    "            X = np.concatenate((temp, X), axis=1)\n",
    "            I = np.eye(X.shape[1])\n",
    "            I[0][0] = 0\n",
    "    \n",
    "    # Using (XT.X) = U.S.VT\n",
    "    U , S , Vt = np.linalg.svd(X)\n",
    "    \n",
    "    m = (X.shape[0]-X.shape[1],X.shape[1])\n",
    "    \n",
    "    S = np.vstack((np.diag(S),np.zeros(m)))\n",
    "    A = S.T @ S + alpha * I\n",
    "    \n",
    "    return Vt.T @ np.diag(1/np.diag(A)) @ S.T @ U.T @ y"
   ]
  },
  {
   "cell_type": "code",
   "execution_count": 7,
   "id": "4338933c",
   "metadata": {
    "deletable": false,
    "editable": false,
    "nbgrader": {
     "cell_type": "code",
     "checksum": "57021201e5df07643a123e9e0d48a42f",
     "grade": true,
     "grade_id": "cell-0c38ee185ed99567",
     "locked": true,
     "points": 1,
     "schema_version": 3,
     "solution": false,
     "task": false
    }
   },
   "outputs": [
    {
     "name": "stdout",
     "output_type": "stream",
     "text": [
      "prediction error:  2.1748448821230398e-13\n"
     ]
    }
   ],
   "source": [
    "w = fit_svd(X_train, y_train, alpha=0.1)\n",
    "\n",
    "sk_model = Ridge(fit_intercept=False, alpha=0.1)\n",
    "sk_model.fit(X_train, y_train)\n",
    "\n",
    "error = rel_error(sk_model.coef_, w)\n",
    "#assert error <= 1e-11\n",
    "print(\"prediction error: \", error)"
   ]
  },
  {
   "cell_type": "markdown",
   "id": "17c2ef1a",
   "metadata": {},
   "source": [
    "# Everything in a class"
   ]
  },
  {
   "cell_type": "code",
   "execution_count": 8,
   "id": "f956c776",
   "metadata": {
    "deletable": false,
    "nbgrader": {
     "cell_type": "code",
     "checksum": "1bf9b4a90202871073ea8637bf407683",
     "grade": false,
     "grade_id": "cell-3a5e87709754f3c4",
     "locked": false,
     "schema_version": 3,
     "solution": true,
     "task": false
    }
   },
   "outputs": [],
   "source": [
    "class RidgeRegression():\n",
    "    def __init__(self, fit_intercept=True, method=\"inverse\", alpha=1.0):\n",
    "        self.w = 0\n",
    "        self.fit_intercept = fit_intercept # bias\n",
    "        self.method = method\n",
    "        self.alpha = alpha\n",
    "    \n",
    "    def fit(self, X, y):\n",
    "        # YOUR CODE HERE\n",
    "            \n",
    "        if self.method == 'qr':\n",
    "            self.w = fit_qr(X, y, self.alpha, self.fit_intercept)\n",
    "            \n",
    "        elif self.method == 'svd':\n",
    "            self.w = fit_svd(X, y, self.alpha, self.fit_intercept)\n",
    "        \n",
    "        else:\n",
    "            self.w = fit_inverse(X, y, self.alpha, self.fit_intercept)\n",
    "        \n",
    "    def predict(self, X):\n",
    "        # YOUR CODE HERE\n",
    "        \n",
    "        # with bias\n",
    "        if self.fit_intercept == True:\n",
    "            temp = np.ones((len(X), 1))\n",
    "            X = np.concatenate((temp, X), axis=1)\n",
    "            \n",
    "        return (X @ self.w)   "
   ]
  },
  {
   "cell_type": "markdown",
   "id": "0c699edf",
   "metadata": {},
   "source": [
    "## without bias"
   ]
  },
  {
   "cell_type": "code",
   "execution_count": 9,
   "id": "fd492a72",
   "metadata": {
    "deletable": false,
    "editable": false,
    "nbgrader": {
     "cell_type": "code",
     "checksum": "5b5da426b71c63230038418c79c0982a",
     "grade": true,
     "grade_id": "cell-1ae8a916f308fe2e",
     "locked": true,
     "points": 1,
     "schema_version": 3,
     "solution": false,
     "task": false
    }
   },
   "outputs": [
    {
     "name": "stdout",
     "output_type": "stream",
     "text": [
      "prediction error inverse:  3.093735390874951e-14\n",
      "prediction error qr:  1.051870032897405e-13\n",
      "prediction error svd:  8.171669488412137e-14\n"
     ]
    }
   ],
   "source": [
    "# OTHER APPROACHES\n",
    "sk_model = Ridge(fit_intercept=False, alpha=0.1)\n",
    "sk_model.fit(X_train, y_train)\n",
    "sk_pred = sk_model.predict(X_train)\n",
    "\n",
    "model = RidgeRegression(fit_intercept=False, method=\"inverse\", alpha=0.1)\n",
    "model.fit(X_train, y_train)\n",
    "pred = model.predict(X_train)\n",
    "\n",
    "error = rel_error(pred, sk_pred)\n",
    "assert error <= 1e-11\n",
    "print(\"prediction error inverse: \", error)\n",
    "\n",
    "model_qr = RidgeRegression(fit_intercept=False, method=\"qr\", alpha=0.1)\n",
    "model_qr.fit(X_train, y_train)\n",
    "pred_qr = model_qr.predict(X_train)\n",
    "\n",
    "error_qr = rel_error(pred_qr, sk_pred)\n",
    "assert error_qr <= 1e-11\n",
    "print(\"prediction error qr: \", error_qr)\n",
    "\n",
    "model_svd = RidgeRegression(fit_intercept=False, method=\"svd\", alpha=0.1)\n",
    "model_svd.fit(X_train, y_train)\n",
    "pred_svd = model_svd.predict(X_train)\n",
    "\n",
    "error_svd = rel_error(pred_svd, sk_pred)\n",
    "assert error_svd <= 1e-11\n",
    "print(\"prediction error svd: \", error_svd)"
   ]
  },
  {
   "cell_type": "markdown",
   "id": "2c05c12a",
   "metadata": {},
   "source": [
    "## with bias"
   ]
  },
  {
   "cell_type": "code",
   "execution_count": 10,
   "id": "301e55a4",
   "metadata": {
    "deletable": false,
    "editable": false,
    "nbgrader": {
     "cell_type": "code",
     "checksum": "5d4bbb2ebfdf1ee4c285401d0effdfec",
     "grade": true,
     "grade_id": "cell-6cc5255a96b1b63e",
     "locked": true,
     "points": 1,
     "schema_version": 3,
     "solution": false,
     "task": false
    }
   },
   "outputs": [
    {
     "name": "stdout",
     "output_type": "stream",
     "text": [
      "prediction error inverse:  1.1875191470499493e-15\n",
      "prediction error qr:  1.4250229764599388e-15\n",
      "prediction error svd:  4.600019296831778e-15\n"
     ]
    }
   ],
   "source": [
    "# OTHER APPROACHES\n",
    "sk_model = Ridge(fit_intercept=True, alpha=0.1)\n",
    "sk_model.fit(X_train, y_train)\n",
    "sk_pred = sk_model.predict(X_train)\n",
    "\n",
    "model = RidgeRegression(fit_intercept=True, method=\"inverse\", alpha=0.1)\n",
    "model.fit(X_train, y_train)\n",
    "pred = model.predict(X_train)\n",
    "\n",
    "error = rel_error(pred, sk_pred)\n",
    "assert error <= 1e-11\n",
    "print(\"prediction error inverse: \", error)\n",
    "\n",
    "model_qr = RidgeRegression(fit_intercept=True, method=\"qr\", alpha=0.1)\n",
    "model_qr.fit(X_train, y_train)\n",
    "pred_qr = model_qr.predict(X_train)\n",
    "\n",
    "error_qr = rel_error(pred_qr, sk_pred)\n",
    "#assert error_qr <= 1e-11\n",
    "print(\"prediction error qr: \", error_qr)\n",
    "\n",
    "model_svd = RidgeRegression(fit_intercept=True, method=\"svd\", alpha=0.1)\n",
    "model_svd.fit(X_train, y_train)\n",
    "pred_svd = model_svd.predict(X_train)\n",
    "\n",
    "error_svd = rel_error(pred_svd, sk_pred)\n",
    "assert error_svd <= 1e-11\n",
    "print(\"prediction error svd: \", error_svd)"
   ]
  },
  {
   "cell_type": "code",
   "execution_count": null,
   "id": "342d3603",
   "metadata": {},
   "outputs": [],
   "source": []
  }
 ],
 "metadata": {
  "kernelspec": {
   "display_name": "Python 3 (ipykernel)",
   "language": "python",
   "name": "python3"
  },
  "language_info": {
   "codemirror_mode": {
    "name": "ipython",
    "version": 3
   },
   "file_extension": ".py",
   "mimetype": "text/x-python",
   "name": "python",
   "nbconvert_exporter": "python",
   "pygments_lexer": "ipython3",
   "version": "3.8.8"
  }
 },
 "nbformat": 4,
 "nbformat_minor": 5
}
