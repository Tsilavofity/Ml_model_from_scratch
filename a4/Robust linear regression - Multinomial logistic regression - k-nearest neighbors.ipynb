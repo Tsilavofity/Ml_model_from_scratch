{
 "cells": [
  {
   "cell_type": "markdown",
   "id": "83174cc5",
   "metadata": {},
   "source": [
    "Before you turn this problem in, make sure everything runs as expected. First, **restart the kernel** (in the menubar, select Kernel$\\rightarrow$Restart) and then **run all cells** (in the menubar, select Cell$\\rightarrow$Run All).\n",
    "\n",
    "Make sure you fill in any place that says `YOUR CODE HERE` or \"YOUR ANSWER HERE\", as well as your name and collaborators below:"
   ]
  },
  {
   "cell_type": "markdown",
   "id": "ad8c49f5",
   "metadata": {},
   "source": [
    "---"
   ]
  },
  {
   "cell_type": "code",
   "execution_count": 1,
   "id": "aebdce2a",
   "metadata": {
    "deletable": false,
    "editable": false,
    "nbgrader": {
     "cell_type": "code",
     "checksum": "a003bb8fd03260393cb0121b2dcaf283",
     "grade": false,
     "grade_id": "cell-bb34820fb5daebb2",
     "locked": true,
     "schema_version": 3,
     "solution": false,
     "task": false
    }
   },
   "outputs": [],
   "source": [
    "# AZA MANAMPY CODE ATO FA MNAOVA CELLULE VAOVAO\n",
    "\n",
    "from random import randrange\n",
    "import numpy as np\n",
    "from sklearn.metrics import mean_squared_error, log_loss\n",
    "from sklearn.linear_model import HuberRegressor\n",
    "from sklearn.datasets import load_boston, load_diabetes, load_iris, load_digits\n",
    "from scipy.special import huber\n",
    "from sklearn.metrics import accuracy_score\n",
    "from sklearn.model_selection import train_test_split\n",
    "from sklearn.neighbors import KNeighborsClassifier\n",
    "\n",
    "def grad_check_sparse(f, x, analytic_grad, num_checks=12, h=1e-5, error=1e-9):\n",
    "    \"\"\"\n",
    "    sample a few random elements and only return numerical\n",
    "    in this dimensions\n",
    "    \"\"\"\n",
    "\n",
    "    for i in range(num_checks):\n",
    "        ix = tuple([randrange(m) for m in x.shape])\n",
    "\n",
    "        oldval = x[ix]\n",
    "        x[ix] = oldval + h  # increment by h\n",
    "        fxph = f(x)  # evaluate f(x + h)\n",
    "        x[ix] = oldval - h  # increment by h\n",
    "        fxmh = f(x)  # evaluate f(x - h)\n",
    "        x[ix] = oldval  # reset\n",
    "\n",
    "        grad_numerical = (fxph - fxmh) / (2 * h)\n",
    "        grad_analytic = analytic_grad[ix]\n",
    "        rel_error = abs(grad_numerical - grad_analytic) / (\n",
    "            abs(grad_numerical) + abs(grad_analytic)\n",
    "        )\n",
    "        print(\n",
    "            \"numerical: %f analytic: %f, relative error: %e\"\n",
    "            % (grad_numerical, grad_analytic, rel_error)\n",
    "        )\n",
    "        assert rel_error < error\n",
    "\n",
    "def rel_error(x, y):\n",
    "    \"\"\" returns relative error \"\"\"\n",
    "    return np.max(np.abs(x - y) / (np.maximum(1e-8, np.abs(x) + np.abs(y))))"
   ]
  },
  {
   "cell_type": "markdown",
   "id": "b72ea596",
   "metadata": {},
   "source": [
    "# Robust linear regression - Huber loss"
   ]
  },
  {
   "cell_type": "code",
   "execution_count": 2,
   "id": "9405baa1",
   "metadata": {
    "deletable": false,
    "editable": false,
    "nbgrader": {
     "cell_type": "code",
     "checksum": "c1ef69a259cc98ed9c1a4b75d4675c8d",
     "grade": false,
     "grade_id": "cell-050726493bce8a41",
     "locked": true,
     "schema_version": 3,
     "solution": false,
     "task": false
    }
   },
   "outputs": [],
   "source": [
    "data = load_boston()\n",
    "X_train1, y_train1 = data.data, data.target\n",
    "w1 = np.random.randn(X_train1.shape[1]) * 0.0001\n",
    "b1 = np.random.randn(1) * 0.0001"
   ]
  },
  {
   "cell_type": "code",
   "execution_count": 3,
   "id": "b79b3750",
   "metadata": {
    "deletable": false,
    "nbgrader": {
     "cell_type": "code",
     "checksum": "095fe70b6ce7c4be3afef42fd9756ac5",
     "grade": false,
     "grade_id": "cell-773a9a9798718bb2",
     "locked": false,
     "schema_version": 3,
     "solution": true,
     "task": false
    }
   },
   "outputs": [],
   "source": [
    "def huber_loss_naive(w, b, X, y, epsilon=1.35, alpha=0.0001):\n",
    "    \"\"\"\n",
    "    Huber loss for all observations\n",
    "    \n",
    "    Inputs:\n",
    "    - w: array of shape (D,) containing weights\n",
    "    - b: float bias \n",
    "    - X: array of shape (N, D) containing a minibatch of data\n",
    "    - y: array of shape (N,) containing training labels \n",
    "    - epsilon: float\n",
    "    - alpha: regularization\n",
    "    \"\"\"\n",
    "    loss = 0.0\n",
    "    dw = np.zeros_like(w)\n",
    "    db = 0.0\n",
    "    \n",
    "    # YOUR CODE HERE\n",
    "    \n",
    "    for i in range(len(y)):\n",
    "        r = 0\n",
    "        for j in range(len(w)):\n",
    "            r = r + w[j] * X[i][j]\n",
    "        r = r + b - y[i]    \n",
    "        dwhr = np.zeros_like(w)\n",
    "        if abs(r) <= epsilon:\n",
    "            hr = (r**2)/2\n",
    "            for j in range(len(w)):\n",
    "                dwhr[j] = dwhr[j] + X[i][j] * r\n",
    "            dbhr = r\n",
    "        else:\n",
    "            hr = epsilon * np.abs(r) - (epsilon**2)/2\n",
    "            for j in range(len(w)):\n",
    "                dwhr[j] = np.sign(r) * epsilon * X[i][j]\n",
    "            dbhr = np.sign(r) * epsilon\n",
    "        loss = loss + hr\n",
    "        for j in range(len(w)):\n",
    "            dw[j] = dw[j] + dwhr[j]\n",
    "        db = db + dbhr\n",
    "     \n",
    "    loss = loss/len(y)\n",
    "    db = db/len(y)\n",
    "    \n",
    "    for k in range(len(w)):\n",
    "        loss = loss + alpha * w[k]**2\n",
    "        dw[k] = (dw[k]/len(y)) + 2 * alpha * w[k]\n",
    "        \n",
    "    return loss, dw, np.array(db).reshape(1,)"
   ]
  },
  {
   "cell_type": "markdown",
   "id": "92ca4921",
   "metadata": {},
   "source": [
    "## without regularization"
   ]
  },
  {
   "cell_type": "code",
   "execution_count": 6,
   "id": "7ae434b9",
   "metadata": {
    "deletable": false,
    "editable": false,
    "nbgrader": {
     "cell_type": "code",
     "checksum": "2e49c0c5b9c763c872c9eccf3c34e14f",
     "grade": true,
     "grade_id": "cell-88996bb95da97f10",
     "locked": true,
     "points": 1,
     "schema_version": 3,
     "solution": false,
     "task": false
    }
   },
   "outputs": [
    {
     "name": "stdout",
     "output_type": "stream",
     "text": [
      "Gradient check w\n",
      "numerical: -12.891700 analytic: -12.891700, relative error: 5.591879e-11\n",
      "numerical: -12.891700 analytic: -12.891700, relative error: 5.591879e-11\n",
      "numerical: -5.123308 analytic: -5.123308, relative error: 2.086853e-10\n",
      "numerical: -17.081635 analytic: -17.081635, relative error: 3.609663e-11\n",
      "numerical: -0.748838 analytic: -0.748838, relative error: 6.928524e-10\n",
      "numerical: -12.891700 analytic: -12.891700, relative error: 5.591879e-11\n",
      "numerical: -24.914970 analytic: -24.914970, relative error: 2.665323e-11\n",
      "numerical: -24.914970 analytic: -24.914970, relative error: 2.665323e-11\n",
      "numerical: -481.509943 analytic: -481.509943, relative error: 2.335195e-12\n",
      "numerical: -92.576117 analytic: -92.576117, relative error: 1.524991e-12\n",
      "numerical: -0.748838 analytic: -0.748838, relative error: 6.928524e-10\n",
      "numerical: -12.891700 analytic: -12.891700, relative error: 5.591879e-11\n",
      "numerical: -5.123308 analytic: -5.123308, relative error: 2.086853e-10\n",
      "numerical: -481.509943 analytic: -481.509943, relative error: 2.335195e-12\n",
      "numerical: -481.509943 analytic: -481.509943, relative error: 2.335195e-12\n",
      "Gradient check bias\n",
      "numerical: -1.350000 analytic: -1.350000, relative error: 1.235440e-11\n",
      "numerical: -1.350000 analytic: -1.350000, relative error: 1.235440e-11\n",
      "numerical: -1.350000 analytic: -1.350000, relative error: 1.235440e-11\n",
      "numerical: -1.350000 analytic: -1.350000, relative error: 1.235440e-11\n",
      "numerical: -1.350000 analytic: -1.350000, relative error: 1.235440e-11\n",
      "numerical: -1.350000 analytic: -1.350000, relative error: 1.235440e-11\n",
      "numerical: -1.350000 analytic: -1.350000, relative error: 1.235440e-11\n",
      "numerical: -1.350000 analytic: -1.350000, relative error: 1.235440e-11\n",
      "numerical: -1.350000 analytic: -1.350000, relative error: 1.235440e-11\n",
      "numerical: -1.350000 analytic: -1.350000, relative error: 1.235440e-11\n",
      "numerical: -1.350000 analytic: -1.350000, relative error: 1.235440e-11\n",
      "numerical: -1.350000 analytic: -1.350000, relative error: 1.235440e-11\n",
      "numerical: -1.350000 analytic: -1.350000, relative error: 1.235440e-11\n",
      "numerical: -1.350000 analytic: -1.350000, relative error: 1.235440e-11\n",
      "numerical: -1.350000 analytic: -1.350000, relative error: 1.235440e-11\n",
      "Gradient check w large epsilon\n",
      "numerical: -146.085437 analytic: -146.085437, relative error: 6.255822e-11\n",
      "numerical: -8470.953908 analytic: -8470.953908, relative error: 2.007749e-13\n",
      "numerical: -146.085437 analytic: -146.085437, relative error: 6.255822e-11\n",
      "numerical: -146.085437 analytic: -146.085437, relative error: 6.255822e-11\n",
      "numerical: -184.555246 analytic: -184.555246, relative error: 3.072037e-11\n",
      "numerical: -146.085437 analytic: -146.085437, relative error: 6.255822e-11\n",
      "numerical: -220.377874 analytic: -220.377874, relative error: 3.116797e-11\n",
      "numerical: -236.657042 analytic: -236.657042, relative error: 2.861374e-11\n",
      "numerical: -90.358185 analytic: -90.358185, relative error: 6.553858e-12\n",
      "numerical: -1447.335607 analytic: -1447.335607, relative error: 1.182085e-12\n",
      "numerical: -8470.953908 analytic: -8470.953908, relative error: 2.007749e-13\n",
      "numerical: -1447.335607 analytic: -1447.335607, relative error: 1.182085e-12\n",
      "numerical: -1447.335607 analytic: -1447.335607, relative error: 1.182085e-12\n",
      "numerical: -90.358185 analytic: -90.358185, relative error: 6.553858e-12\n",
      "numerical: -146.085437 analytic: -146.085437, relative error: 6.255822e-11\n",
      "Gradient check bias large epsilon\n",
      "numerical: -22.530668 analytic: -22.530668, relative error: 5.604550e-10\n",
      "numerical: -22.530668 analytic: -22.530668, relative error: 5.604550e-10\n",
      "numerical: -22.530668 analytic: -22.530668, relative error: 5.604550e-10\n",
      "numerical: -22.530668 analytic: -22.530668, relative error: 5.604550e-10\n",
      "numerical: -22.530668 analytic: -22.530668, relative error: 5.604550e-10\n",
      "numerical: -22.530668 analytic: -22.530668, relative error: 5.604550e-10\n",
      "numerical: -22.530668 analytic: -22.530668, relative error: 5.604550e-10\n",
      "numerical: -22.530668 analytic: -22.530668, relative error: 5.604550e-10\n",
      "numerical: -22.530668 analytic: -22.530668, relative error: 5.604550e-10\n",
      "numerical: -22.530668 analytic: -22.530668, relative error: 5.604550e-10\n",
      "numerical: -22.530668 analytic: -22.530668, relative error: 5.604550e-10\n",
      "numerical: -22.530668 analytic: -22.530668, relative error: 5.604550e-10\n",
      "numerical: -22.530668 analytic: -22.530668, relative error: 5.604550e-10\n",
      "numerical: -22.530668 analytic: -22.530668, relative error: 5.604550e-10\n",
      "numerical: -22.530668 analytic: -22.530668, relative error: 5.604550e-10\n"
     ]
    }
   ],
   "source": [
    "loss, dw1, db1 = huber_loss_naive(w1, b1, X_train1, y_train1, epsilon=1.35, alpha=0)\n",
    "\n",
    "print(\"Gradient check w\")\n",
    "# Check with numerical gradient w\n",
    "f = lambda w1: huber_loss_naive(w1, b1, X_train1, y_train1, epsilon=1.35, alpha=0)[0]\n",
    "grad_numerical = grad_check_sparse(f, w1, dw1, 15, error=1e-9)\n",
    "\n",
    "print(\"Gradient check bias\")\n",
    "# Check with numerical gradient b\n",
    "f2 = lambda b1: huber_loss_naive(w1, b1, X_train1, y_train1, epsilon=1.35, alpha=0)[0]\n",
    "grad_numerical = grad_check_sparse(f2, b1, db1, 15, error=1e-9)\n",
    "\n",
    "\n",
    "# Large epsilon\n",
    "large_eps_loss, large_eps_dw1, large_eps_db1 = huber_loss_naive(w1, b1, X_train1, y_train1, epsilon=135, alpha=0)\n",
    "\n",
    "print(\"Gradient check w large epsilon\")\n",
    "# Check with numerical gradient w\n",
    "f = lambda w1: huber_loss_naive(w1, b1, X_train1, y_train1, epsilon=135, alpha=0)[0]\n",
    "grad_numerical = grad_check_sparse(f, w1, large_eps_dw1, 15, error=1e-9)\n",
    "\n",
    "print(\"Gradient check bias large epsilon\")\n",
    "# Check with numerical gradient b\n",
    "f2 = lambda b1: huber_loss_naive(w1, b1, X_train1, y_train1, epsilon=135, alpha=0)[0]\n",
    "grad_numerical = grad_check_sparse(f2, b1, large_eps_db1, 15, error=1e-9)"
   ]
  },
  {
   "cell_type": "markdown",
   "id": "9f2b3314",
   "metadata": {},
   "source": [
    " ## with regularization"
   ]
  },
  {
   "cell_type": "code",
   "execution_count": 11,
   "id": "20ed0b8d",
   "metadata": {
    "deletable": false,
    "editable": false,
    "nbgrader": {
     "cell_type": "code",
     "checksum": "42c6c09b6a3764a91aa10791fd05545e",
     "grade": true,
     "grade_id": "cell-6cfedcc6f02a9770",
     "locked": true,
     "points": 1,
     "schema_version": 3,
     "solution": false,
     "task": false
    }
   },
   "outputs": [
    {
     "name": "stdout",
     "output_type": "stream",
     "text": [
      "Gradient check w\n",
      "numerical: -24.915057 analytic: -24.915057, relative error: 2.462076e-11\n",
      "numerical: -17.081273 analytic: -17.081273, relative error: 3.929678e-11\n",
      "numerical: -92.575924 analytic: -92.575924, relative error: 1.322828e-12\n",
      "numerical: -17.081273 analytic: -17.081273, relative error: 3.929678e-11\n",
      "numerical: -551.120067 analytic: -551.120067, relative error: 6.506174e-13\n",
      "numerical: -15.034579 analytic: -15.034579, relative error: 4.748505e-12\n",
      "numerical: -92.575924 analytic: -92.575924, relative error: 1.322828e-12\n",
      "numerical: -24.915057 analytic: -24.915057, relative error: 2.462076e-11\n",
      "numerical: -92.575924 analytic: -92.575924, relative error: 1.322828e-12\n",
      "numerical: -15.341323 analytic: -15.341323, relative error: 4.011395e-12\n",
      "numerical: -24.915057 analytic: -24.915057, relative error: 2.462076e-11\n",
      "numerical: -0.749049 analytic: -0.749049, relative error: 7.191264e-10\n",
      "numerical: -15.034579 analytic: -15.034579, relative error: 4.748505e-12\n",
      "numerical: -5.123189 analytic: -5.123189, relative error: 2.073799e-10\n",
      "numerical: -8.484183 analytic: -8.484183, relative error: 9.829214e-12\n",
      "Gradient check bias\n",
      "numerical: -1.350000 analytic: -1.350000, relative error: 1.235440e-11\n",
      "numerical: -1.350000 analytic: -1.350000, relative error: 1.235440e-11\n",
      "numerical: -1.350000 analytic: -1.350000, relative error: 1.235440e-11\n",
      "numerical: -1.350000 analytic: -1.350000, relative error: 1.235440e-11\n",
      "numerical: -1.350000 analytic: -1.350000, relative error: 1.235440e-11\n",
      "numerical: -1.350000 analytic: -1.350000, relative error: 1.235440e-11\n",
      "numerical: -1.350000 analytic: -1.350000, relative error: 1.235440e-11\n",
      "numerical: -1.350000 analytic: -1.350000, relative error: 1.235440e-11\n",
      "numerical: -1.350000 analytic: -1.350000, relative error: 1.235440e-11\n",
      "numerical: -1.350000 analytic: -1.350000, relative error: 1.235440e-11\n",
      "numerical: -1.350000 analytic: -1.350000, relative error: 1.235440e-11\n",
      "numerical: -1.350000 analytic: -1.350000, relative error: 1.235440e-11\n",
      "numerical: -1.350000 analytic: -1.350000, relative error: 1.235440e-11\n",
      "numerical: -1.350000 analytic: -1.350000, relative error: 1.235440e-11\n",
      "numerical: -1.350000 analytic: -1.350000, relative error: 1.235440e-11\n",
      "Gradient check w large epsilon\n",
      "numerical: -12.042011 analytic: -12.042011, relative error: 7.712522e-10\n",
      "numerical: -1447.335414 analytic: -1447.335414, relative error: 1.992790e-12\n",
      "numerical: -146.085363 analytic: -146.085363, relative error: 5.583353e-11\n",
      "numerical: -8316.472821 analytic: -8316.472821, relative error: 9.391891e-13\n",
      "numerical: -50.692486 analytic: -50.692486, relative error: 2.716442e-13\n",
      "numerical: -184.555458 analytic: -184.555458, relative error: 3.472775e-11\n",
      "numerical: -50.692486 analytic: -50.692486, relative error: 2.716442e-13\n",
      "numerical: -50.692486 analytic: -50.692486, relative error: 2.716442e-13\n",
      "numerical: -8470.953817 analytic: -8470.953817, relative error: 2.631547e-13\n",
      "numerical: -12.042011 analytic: -12.042011, relative error: 7.712522e-10\n",
      "numerical: -220.377802 analytic: -220.377802, relative error: 3.405261e-11\n",
      "numerical: -8316.472821 analytic: -8316.472821, relative error: 9.391891e-13\n",
      "numerical: -8316.472821 analytic: -8316.472821, relative error: 9.391891e-13\n",
      "numerical: -50.692486 analytic: -50.692486, relative error: 2.716442e-13\n",
      "numerical: -1447.335414 analytic: -1447.335414, relative error: 1.992790e-12\n",
      "Gradient check bias large epsilon\n",
      "numerical: -22.530668 analytic: -22.530668, relative error: 5.604550e-10\n",
      "numerical: -22.530668 analytic: -22.530668, relative error: 5.604550e-10\n",
      "numerical: -22.530668 analytic: -22.530668, relative error: 5.604550e-10\n",
      "numerical: -22.530668 analytic: -22.530668, relative error: 5.604550e-10\n",
      "numerical: -22.530668 analytic: -22.530668, relative error: 5.604550e-10\n",
      "numerical: -22.530668 analytic: -22.530668, relative error: 5.604550e-10\n",
      "numerical: -22.530668 analytic: -22.530668, relative error: 5.604550e-10\n",
      "numerical: -22.530668 analytic: -22.530668, relative error: 5.604550e-10\n",
      "numerical: -22.530668 analytic: -22.530668, relative error: 5.604550e-10\n",
      "numerical: -22.530668 analytic: -22.530668, relative error: 5.604550e-10\n",
      "numerical: -22.530668 analytic: -22.530668, relative error: 5.604550e-10\n",
      "numerical: -22.530668 analytic: -22.530668, relative error: 5.604550e-10\n",
      "numerical: -22.530668 analytic: -22.530668, relative error: 5.604550e-10\n",
      "numerical: -22.530668 analytic: -22.530668, relative error: 5.604550e-10\n",
      "numerical: -22.530668 analytic: -22.530668, relative error: 5.604550e-10\n"
     ]
    }
   ],
   "source": [
    "loss, dw1, db1 = huber_loss_naive(w1, b1, X_train1, y_train1, epsilon=1.35, alpha=1)\n",
    "\n",
    "print(\"Gradient check w\")\n",
    "# Check with numerical gradient w\n",
    "f = lambda w1: huber_loss_naive(w1, b1, X_train1, y_train1, epsilon=1.35, alpha=1)[0]\n",
    "grad_numerical = grad_check_sparse(f, w1, dw1, 15, error=1e-9)\n",
    "\n",
    "print(\"Gradient check bias\")\n",
    "# Check with numerical gradient b\n",
    "f2 = lambda b1: huber_loss_naive(w1, b1, X_train1, y_train1, epsilon=1.35, alpha=1)[0]\n",
    "grad_numerical = grad_check_sparse(f2, b1, db1, 15, error=1e-9)\n",
    "\n",
    "\n",
    "# Large epsilon\n",
    "large_eps_loss, large_eps_dw1, large_eps_db1 = huber_loss_naive(w1, b1, X_train1, y_train1, epsilon=135, alpha=1)\n",
    "\n",
    "print(\"Gradient check w large epsilon\")\n",
    "# Check with numerical gradient w\n",
    "f = lambda w1: huber_loss_naive(w1, b1, X_train1, y_train1, epsilon=135, alpha=1)[0]\n",
    "grad_numerical = grad_check_sparse(f, w1, large_eps_dw1, 15, error=1e-9)\n",
    "\n",
    "print(\"Gradient check bias large epsilon\")\n",
    "# Check with numerical gradient b\n",
    "f2 = lambda b1: huber_loss_naive(w1, b1, X_train1, y_train1, epsilon=135, alpha=1)[0]\n",
    "grad_numerical = grad_check_sparse(f2, b1, large_eps_db1, 15, error=1e-9)"
   ]
  },
  {
   "cell_type": "code",
   "execution_count": 12,
   "id": "3d58c6f2",
   "metadata": {},
   "outputs": [],
   "source": [
    "def check_inegality(r, epsilon):\n",
    "    if np.abs(r) <= epsilon:\n",
    "        return r\n",
    "    else:\n",
    "        return epsilon * np.sign(r)\n",
    "check_inegality_vector = np.vectorize(check_inegality)"
   ]
  },
  {
   "cell_type": "code",
   "execution_count": 13,
   "id": "038cf336",
   "metadata": {
    "deletable": false,
    "nbgrader": {
     "cell_type": "code",
     "checksum": "6809cf643812e18004a8e019e8648ee7",
     "grade": false,
     "grade_id": "cell-2f0ecc6405bdde00",
     "locked": false,
     "schema_version": 3,
     "solution": true,
     "task": false
    }
   },
   "outputs": [],
   "source": [
    "def huber_loss_vectorized(w, b, X, y, epsilon=1.35, alpha=0.0001):\n",
    "    \"\"\"\n",
    "    Huber loss for all observations\n",
    "    \n",
    "    Inputs:\n",
    "    - w: array of shape (D,) containing weights\n",
    "    - b: float bias \n",
    "    - X: array of shape (N, D) containing a minibatch of data\n",
    "    - y: array of shape (N,) containing training labels \n",
    "    - epsilon: float\n",
    "    - alpha: regularization\n",
    "    \"\"\"\n",
    "    loss = 0.0\n",
    "    dw = np.zeros_like(w)\n",
    "    db = 0\n",
    "    \n",
    "    # YOUR CODE HERE\n",
    "    N = X.shape[0]\n",
    "    r = (X @ w + b) - y\n",
    "    \n",
    "    # Loss\n",
    "    loss = np.sum(huber(epsilon, r)) / N + alpha * (w.T @ w)    \n",
    "    \n",
    "    # Dw\n",
    "    dw_vector = check_inegality_vector(r, epsilon)\n",
    "    dw = (1/N) * (X.T @ dw_vector) + 2 * alpha * w\n",
    "\n",
    "    # Db\n",
    "    db_elements = np.zeros_like(y)\n",
    "    db_element_inf = r\n",
    "    db_element_sup = epsilon * np.sign(r)\n",
    "    db_elements[np.abs(r) <= epsilon] = db_element_inf[np.abs(r) <= epsilon]\n",
    "    db_elements[np.abs(r) > epsilon] = db_element_sup[np.abs(r) > epsilon]\n",
    "    db = (1/N) * sum(db_elements)\n",
    "        \n",
    "    return loss, dw, np.array(db).reshape(1,) "
   ]
  },
  {
   "cell_type": "markdown",
   "id": "292f866a",
   "metadata": {},
   "source": [
    "## without regularization"
   ]
  },
  {
   "cell_type": "code",
   "execution_count": 14,
   "id": "ff23bae6",
   "metadata": {
    "deletable": false,
    "editable": false,
    "nbgrader": {
     "cell_type": "code",
     "checksum": "cadca09dc4ee08cf4c73480cfdc14e13",
     "grade": true,
     "grade_id": "cell-cecbe864e0fa149c",
     "locked": true,
     "points": 1.5,
     "schema_version": 3,
     "solution": false,
     "task": false
    }
   },
   "outputs": [
    {
     "name": "stdout",
     "output_type": "stream",
     "text": [
      "Gradient check w\n",
      "numerical: -5.123308 analytic: -5.123308, relative error: 1.798882e-11\n",
      "numerical: -12.891700 analytic: -12.891700, relative error: 6.085666e-12\n",
      "numerical: -92.576117 analytic: -92.576117, relative error: 5.658178e-13\n",
      "numerical: -24.914970 analytic: -24.914970, relative error: 1.864054e-12\n",
      "numerical: -17.081635 analytic: -17.081635, relative error: 3.005375e-13\n",
      "numerical: -8.484256 analytic: -8.484256, relative error: 4.292105e-15\n",
      "numerical: -0.748838 analytic: -0.748838, relative error: 9.981585e-11\n",
      "numerical: -551.120158 analytic: -551.120158, relative error: 1.622417e-13\n",
      "numerical: -4.878257 analytic: -4.878257, relative error: 1.315611e-11\n",
      "numerical: -8.484256 analytic: -8.484256, relative error: 4.292105e-15\n",
      "numerical: -15.340909 analytic: -15.340909, relative error: 7.650677e-12\n",
      "numerical: -92.576117 analytic: -92.576117, relative error: 5.658178e-13\n",
      "numerical: -481.509943 analytic: -481.509943, relative error: 6.274487e-14\n",
      "numerical: -15.340909 analytic: -15.340909, relative error: 7.650677e-12\n",
      "numerical: -0.748838 analytic: -0.748838, relative error: 9.981585e-11\n",
      "Gradient check bias\n",
      "numerical: -1.350000 analytic: -1.350000, relative error: 5.343660e-11\n",
      "numerical: -1.350000 analytic: -1.350000, relative error: 5.343660e-11\n",
      "numerical: -1.350000 analytic: -1.350000, relative error: 5.343660e-11\n",
      "numerical: -1.350000 analytic: -1.350000, relative error: 5.343660e-11\n",
      "numerical: -1.350000 analytic: -1.350000, relative error: 5.343660e-11\n",
      "numerical: -1.350000 analytic: -1.350000, relative error: 5.343660e-11\n",
      "numerical: -1.350000 analytic: -1.350000, relative error: 5.343660e-11\n",
      "numerical: -1.350000 analytic: -1.350000, relative error: 5.343660e-11\n",
      "numerical: -1.350000 analytic: -1.350000, relative error: 5.343660e-11\n",
      "numerical: -1.350000 analytic: -1.350000, relative error: 5.343660e-11\n",
      "numerical: -1.350000 analytic: -1.350000, relative error: 5.343660e-11\n",
      "numerical: -1.350000 analytic: -1.350000, relative error: 5.343660e-11\n",
      "numerical: -1.350000 analytic: -1.350000, relative error: 5.343660e-11\n",
      "numerical: -1.350000 analytic: -1.350000, relative error: 5.343660e-11\n",
      "numerical: -1.350000 analytic: -1.350000, relative error: 5.343660e-11\n",
      "Gradient check w large epsilon\n",
      "numerical: -8470.953908 analytic: -8470.953908, relative error: 1.347447e-13\n",
      "numerical: -8470.953908 analytic: -8470.953908, relative error: 1.347447e-13\n",
      "numerical: -12.041800 analytic: -12.041800, relative error: 2.696657e-11\n",
      "numerical: -8470.953908 analytic: -8470.953908, relative error: 1.347447e-13\n",
      "numerical: -405.710013 analytic: -405.710013, relative error: 4.643896e-13\n",
      "numerical: -1.967065 analytic: -1.967065, relative error: 4.183433e-11\n",
      "numerical: -12.041800 analytic: -12.041800, relative error: 2.696657e-11\n",
      "numerical: -1447.335607 analytic: -1447.335607, relative error: 2.002215e-13\n",
      "numerical: -90.358185 analytic: -90.358185, relative error: 9.173388e-12\n",
      "numerical: -405.710013 analytic: -405.710013, relative error: 4.643896e-13\n",
      "numerical: -405.710013 analytic: -405.710013, relative error: 4.643896e-13\n",
      "numerical: -333.421072 analytic: -333.421072, relative error: 3.023984e-12\n",
      "numerical: -405.710013 analytic: -405.710013, relative error: 4.643896e-13\n",
      "numerical: -333.421072 analytic: -333.421072, relative error: 3.023984e-12\n",
      "numerical: -90.358185 analytic: -90.358185, relative error: 9.173388e-12\n",
      "Gradient check bias large epsilon\n",
      "numerical: -22.530668 analytic: -22.530668, relative error: 7.027881e-11\n",
      "numerical: -22.530668 analytic: -22.530668, relative error: 7.027881e-11\n",
      "numerical: -22.530668 analytic: -22.530668, relative error: 7.027881e-11\n",
      "numerical: -22.530668 analytic: -22.530668, relative error: 7.027881e-11\n",
      "numerical: -22.530668 analytic: -22.530668, relative error: 7.027881e-11\n",
      "numerical: -22.530668 analytic: -22.530668, relative error: 7.027881e-11\n",
      "numerical: -22.530668 analytic: -22.530668, relative error: 7.027881e-11\n",
      "numerical: -22.530668 analytic: -22.530668, relative error: 7.027881e-11\n",
      "numerical: -22.530668 analytic: -22.530668, relative error: 7.027881e-11\n",
      "numerical: -22.530668 analytic: -22.530668, relative error: 7.027881e-11\n",
      "numerical: -22.530668 analytic: -22.530668, relative error: 7.027881e-11\n",
      "numerical: -22.530668 analytic: -22.530668, relative error: 7.027881e-11\n",
      "numerical: -22.530668 analytic: -22.530668, relative error: 7.027881e-11\n",
      "numerical: -22.530668 analytic: -22.530668, relative error: 7.027881e-11\n",
      "numerical: -22.530668 analytic: -22.530668, relative error: 7.027881e-11\n"
     ]
    }
   ],
   "source": [
    "loss, dw1, db1 = huber_loss_vectorized(w1, b1, X_train1, y_train1, epsilon=1.35, alpha=0)\n",
    "\n",
    "print(\"Gradient check w\")\n",
    "# Check with numerical gradient w\n",
    "f = lambda w1: huber_loss_vectorized(w1, b1, X_train1, y_train1, epsilon=1.35, alpha=0)[0]\n",
    "grad_numerical = grad_check_sparse(f, w1, dw1, 15, error=1e-9)\n",
    "\n",
    "print(\"Gradient check bias\")\n",
    "# Check with numerical gradient b\n",
    "f2 = lambda b1: huber_loss_vectorized(w1, b1, X_train1, y_train1, epsilon=1.35, alpha=0)[0]\n",
    "grad_numerical = grad_check_sparse(f2, b1, db1, 15, error=1e-9)\n",
    "\n",
    "\n",
    "# Large epsilon\n",
    "large_eps_loss, large_eps_dw1, large_eps_db1 = huber_loss_naive(w1, b1, X_train1, y_train1, epsilon=135, alpha=0)\n",
    "\n",
    "print(\"Gradient check w large epsilon\")\n",
    "# Check with numerical gradient w\n",
    "f = lambda w1: huber_loss_vectorized(w1, b1, X_train1, y_train1, epsilon=135, alpha=0)[0]\n",
    "grad_numerical = grad_check_sparse(f, w1, large_eps_dw1, 15, error=1e-9)\n",
    "\n",
    "print(\"Gradient check bias large epsilon\")\n",
    "# Check with numerical gradient b\n",
    "f2 = lambda b1: huber_loss_vectorized(w1, b1, X_train1, y_train1, epsilon=135, alpha=0)[0]\n",
    "grad_numerical = grad_check_sparse(f2, b1, large_eps_db1, 15, error=1e-9)"
   ]
  },
  {
   "cell_type": "markdown",
   "id": "5d367b1c",
   "metadata": {},
   "source": [
    "## with regularization"
   ]
  },
  {
   "cell_type": "code",
   "execution_count": 15,
   "id": "ee9c47a5",
   "metadata": {
    "deletable": false,
    "editable": false,
    "nbgrader": {
     "cell_type": "code",
     "checksum": "353c4a3ff31d5ae93f310db8aada6b16",
     "grade": true,
     "grade_id": "cell-fc0f22937553dd38",
     "locked": true,
     "points": 1.5,
     "schema_version": 3,
     "solution": false,
     "task": false
    }
   },
   "outputs": [
    {
     "name": "stdout",
     "output_type": "stream",
     "text": [
      "Gradient check w\n",
      "numerical: -12.891911 analytic: -12.891911, relative error: 3.832724e-12\n",
      "numerical: -12.891911 analytic: -12.891911, relative error: 3.832724e-12\n",
      "numerical: -8.484183 analytic: -8.484183, relative error: 6.397385e-13\n",
      "numerical: -0.093220 analytic: -0.093220, relative error: 9.129167e-11\n",
      "numerical: -24.915057 analytic: -24.915057, relative error: 3.896426e-12\n",
      "numerical: -15.034579 analytic: -15.034579, relative error: 4.752286e-12\n",
      "numerical: -551.120067 analytic: -551.120067, relative error: 1.545062e-13\n",
      "numerical: -12.891911 analytic: -12.891911, relative error: 3.832724e-12\n",
      "numerical: -4.878487 analytic: -4.878487, relative error: 1.777363e-11\n",
      "numerical: -0.093220 analytic: -0.093220, relative error: 9.129167e-11\n",
      "numerical: -551.120067 analytic: -551.120067, relative error: 1.545062e-13\n",
      "numerical: -24.915057 analytic: -24.915057, relative error: 3.896426e-12\n",
      "numerical: -481.510064 analytic: -481.510064, relative error: 1.648012e-13\n",
      "numerical: -4.878487 analytic: -4.878487, relative error: 1.777363e-11\n",
      "numerical: -551.120067 analytic: -551.120067, relative error: 1.545062e-13\n",
      "Gradient check bias\n",
      "numerical: -1.350000 analytic: -1.350000, relative error: 5.343660e-11\n",
      "numerical: -1.350000 analytic: -1.350000, relative error: 5.343660e-11\n",
      "numerical: -1.350000 analytic: -1.350000, relative error: 5.343660e-11\n",
      "numerical: -1.350000 analytic: -1.350000, relative error: 5.343660e-11\n",
      "numerical: -1.350000 analytic: -1.350000, relative error: 5.343660e-11\n",
      "numerical: -1.350000 analytic: -1.350000, relative error: 5.343660e-11\n",
      "numerical: -1.350000 analytic: -1.350000, relative error: 5.343660e-11\n",
      "numerical: -1.350000 analytic: -1.350000, relative error: 5.343660e-11\n",
      "numerical: -1.350000 analytic: -1.350000, relative error: 5.343660e-11\n",
      "numerical: -1.350000 analytic: -1.350000, relative error: 5.343660e-11\n",
      "numerical: -1.350000 analytic: -1.350000, relative error: 5.343660e-11\n",
      "numerical: -1.350000 analytic: -1.350000, relative error: 5.343660e-11\n",
      "numerical: -1.350000 analytic: -1.350000, relative error: 5.343660e-11\n",
      "numerical: -1.350000 analytic: -1.350000, relative error: 5.343660e-11\n",
      "numerical: -1.350000 analytic: -1.350000, relative error: 5.343660e-11\n",
      "Gradient check w large epsilon\n",
      "numerical: -90.358067 analytic: -90.358067, relative error: 6.298849e-12\n",
      "numerical: -236.656679 analytic: -236.656679, relative error: 5.200672e-12\n",
      "numerical: -12.042011 analytic: -12.042011, relative error: 5.482229e-11\n",
      "numerical: -1.966905 analytic: -1.966905, relative error: 1.961768e-10\n",
      "numerical: -146.085363 analytic: -146.085363, relative error: 2.533112e-12\n",
      "numerical: -220.377802 analytic: -220.377802, relative error: 8.258989e-12\n",
      "numerical: -8316.472821 analytic: -8316.472821, relative error: 2.568881e-13\n",
      "numerical: -50.692486 analytic: -50.692486, relative error: 2.716442e-13\n",
      "numerical: -50.692486 analytic: -50.692486, relative error: 2.716442e-13\n",
      "numerical: -1.966905 analytic: -1.966905, relative error: 1.961768e-10\n",
      "numerical: -405.710099 analytic: -405.710099, relative error: 7.242907e-13\n",
      "numerical: -236.656679 analytic: -236.656679, relative error: 5.200672e-12\n",
      "numerical: -8316.472821 analytic: -8316.472821, relative error: 2.568881e-13\n",
      "numerical: -333.421485 analytic: -333.421485, relative error: 4.256929e-12\n",
      "numerical: -184.555458 analytic: -184.555458, relative error: 1.162761e-11\n",
      "Gradient check bias large epsilon\n",
      "numerical: -22.530668 analytic: -22.530668, relative error: 7.027881e-11\n",
      "numerical: -22.530668 analytic: -22.530668, relative error: 7.027881e-11\n",
      "numerical: -22.530668 analytic: -22.530668, relative error: 7.027881e-11\n",
      "numerical: -22.530668 analytic: -22.530668, relative error: 7.027881e-11\n",
      "numerical: -22.530668 analytic: -22.530668, relative error: 7.027881e-11\n",
      "numerical: -22.530668 analytic: -22.530668, relative error: 7.027881e-11\n",
      "numerical: -22.530668 analytic: -22.530668, relative error: 7.027881e-11\n",
      "numerical: -22.530668 analytic: -22.530668, relative error: 7.027881e-11\n",
      "numerical: -22.530668 analytic: -22.530668, relative error: 7.027881e-11\n",
      "numerical: -22.530668 analytic: -22.530668, relative error: 7.027881e-11\n",
      "numerical: -22.530668 analytic: -22.530668, relative error: 7.027881e-11\n",
      "numerical: -22.530668 analytic: -22.530668, relative error: 7.027881e-11\n",
      "numerical: -22.530668 analytic: -22.530668, relative error: 7.027881e-11\n",
      "numerical: -22.530668 analytic: -22.530668, relative error: 7.027881e-11\n",
      "numerical: -22.530668 analytic: -22.530668, relative error: 7.027881e-11\n"
     ]
    }
   ],
   "source": [
    "loss, dw1, db1 = huber_loss_vectorized(w1, b1, X_train1, y_train1, epsilon=1.35, alpha=1)\n",
    "\n",
    "print(\"Gradient check w\")\n",
    "# Check with numerical gradient w\n",
    "f = lambda w1: huber_loss_vectorized(w1, b1, X_train1, y_train1, epsilon=1.35, alpha=1)[0]\n",
    "grad_numerical = grad_check_sparse(f, w1, dw1, 15, error=1e-9)\n",
    "\n",
    "print(\"Gradient check bias\")\n",
    "# Check with numerical gradient b\n",
    "f2 = lambda b1: huber_loss_vectorized(w1, b1, X_train1, y_train1, epsilon=1.35, alpha=1)[0]\n",
    "grad_numerical = grad_check_sparse(f2, b1, db1, 15, error=1e-9)\n",
    "\n",
    "\n",
    "# Large epsilon\n",
    "large_eps_loss, large_eps_dw1, large_eps_db1 = huber_loss_naive(w1, b1, X_train1, y_train1, epsilon=135, alpha=1)\n",
    "\n",
    "print(\"Gradient check w large epsilon\")\n",
    "# Check with numerical gradient w\n",
    "f = lambda w1: huber_loss_vectorized(w1, b1, X_train1, y_train1, epsilon=135, alpha=1)[0]\n",
    "grad_numerical = grad_check_sparse(f, w1, large_eps_dw1, 15, error=1e-9)\n",
    "\n",
    "print(\"Gradient check bias large epsilon\")\n",
    "# Check with numerical gradient b\n",
    "f2 = lambda b1: huber_loss_vectorized(w1, b1, X_train1, y_train1, epsilon=135, alpha=1)[0]\n",
    "grad_numerical = grad_check_sparse(f2, b1, large_eps_db1, 15, error=1e-9)"
   ]
  },
  {
   "cell_type": "code",
   "execution_count": 16,
   "id": "ed260f95",
   "metadata": {
    "deletable": false,
    "nbgrader": {
     "cell_type": "code",
     "checksum": "51a2209d0893d2b94c64bc684159f81c",
     "grade": false,
     "grade_id": "cell-9bc0bf420f2797ba",
     "locked": false,
     "schema_version": 3,
     "solution": true,
     "task": false
    }
   },
   "outputs": [],
   "source": [
    "class LinearModel():\n",
    "    def __init__(self):\n",
    "        self.w = None\n",
    "        self.b = None\n",
    "\n",
    "    def train(self, X, y, learning_rate=1e-3, alpha=0.0001, num_iters=100, batch_size=200, verbose=False):\n",
    "        N, d = X.shape\n",
    "        \n",
    "        if self.w is None: # Initialization\n",
    "            self.w = 0.001 * np.random.randn(d)\n",
    "            self.b = 0.0\n",
    "\n",
    "        # Run stochastic gradient descent to optimize w\n",
    "        \n",
    "        loss_history = []\n",
    "        for it in range(num_iters):\n",
    "            X_batch = None\n",
    "            y_batch = None\n",
    "                                                               \n",
    "            # Sample batch_size elements in X_batch and y_batch\n",
    "            # X_batch shape is  (batch_size, d) and y_batch shape is (batch_size,)                                                                                          \n",
    "            # Hint: Use np.random.choice to generate indices\n",
    "            # YOUR CODE HERE\n",
    "            choice = np.random.choice(N, batch_size, replace=False)\n",
    "\n",
    "            X_batch = X[choice, :]\n",
    "            y_batch = y[choice ]\n",
    "            \n",
    "            # evaluate loss and gradient\n",
    "            loss, dw, db = self.loss(X_batch, y_batch, alpha)\n",
    "            loss_history.append(loss)\n",
    "\n",
    "            # perform parameter update                                                                \n",
    "            # Update the weights w and bias b using the gradient and the learning rate.          \n",
    "            # YOUR CODE HERE\n",
    "            self.w = self.w - learning_rate * dw\n",
    "            self.b = self.b - learning_rate * db\n",
    "            \n",
    "            if verbose and it % 10000 == 0:\n",
    "                print(\"iteration %d / %d: loss %f\" % (it, num_iters, loss))\n",
    "                \n",
    "        return loss_history\n",
    "\n",
    "    def predict(self, X):\n",
    "        pass\n",
    "\n",
    "    def loss(self, X_batch, y_batch, reg):\n",
    "        pass\n",
    "\n",
    "class HuberRegression(LinearModel):\n",
    "    \"\"\" Linear regression \"\"\"\n",
    "\n",
    "    def loss(self, X_batch, y_batch, alpha):\n",
    "        return huber_loss_vectorized(self.w, self.b, X_batch, y_batch, alpha=alpha)\n",
    "    \n",
    "    def predict(self, X):\n",
    "        # YOUR CODE HERE\n",
    "        return (X @ self.w + self.b)"
   ]
  },
  {
   "cell_type": "code",
   "execution_count": 17,
   "id": "766c7c05",
   "metadata": {
    "deletable": false,
    "editable": false,
    "nbgrader": {
     "cell_type": "code",
     "checksum": "f0baa5b2cf387331bd0a892f09b68ffc",
     "grade": true,
     "grade_id": "cell-43a5575eb3552466",
     "locked": true,
     "points": 1,
     "schema_version": 3,
     "solution": false,
     "task": false
    }
   },
   "outputs": [
    {
     "name": "stdout",
     "output_type": "stream",
     "text": [
      "iteration 0 / 75000: loss 27.499980\n",
      "iteration 10000 / 75000: loss 2.888160\n",
      "iteration 20000 / 75000: loss 4.148812\n",
      "iteration 30000 / 75000: loss 4.325756\n",
      "iteration 40000 / 75000: loss 3.159001\n",
      "iteration 50000 / 75000: loss 3.082888\n",
      "iteration 60000 / 75000: loss 3.121949\n",
      "iteration 70000 / 75000: loss 3.574847\n",
      "MSE scikit-learn: 24.04102301055777\n",
      "MSE gradient descent model : 24.399431867035325\n"
     ]
    }
   ],
   "source": [
    "from sklearn.preprocessing import StandardScaler\n",
    "\n",
    "scaler = StandardScaler()\n",
    "X_train1 = scaler.fit_transform(X_train1)\n",
    "\n",
    "sk_model = HuberRegressor(fit_intercept=True)\n",
    "sk_model.fit(X_train1, y_train1)\n",
    "sk_pred = sk_model.predict(X_train1)\n",
    "sk_mse = mean_squared_error(sk_pred, y_train1)\n",
    "\n",
    "model = HuberRegression()\n",
    "model.train(X_train1, y_train1, num_iters=75000, batch_size=64, learning_rate=1e-2, verbose=True)\n",
    "pred = model.predict(X_train1)\n",
    "mse = mean_squared_error(pred, y_train1)\n",
    "\n",
    "print(\"MSE scikit-learn:\", sk_mse)\n",
    "print(\"MSE gradient descent model :\", mse)\n",
    "assert mse - sk_mse < 1"
   ]
  },
  {
   "cell_type": "markdown",
   "id": "d4f24bf4",
   "metadata": {},
   "source": [
    "# Multinomial logistic regression"
   ]
  },
  {
   "cell_type": "code",
   "execution_count": 18,
   "id": "b194affb",
   "metadata": {
    "deletable": false,
    "editable": false,
    "nbgrader": {
     "cell_type": "code",
     "checksum": "fcf6c9bab4975732f03ce6c8215e72be",
     "grade": false,
     "grade_id": "cell-27c3352e3785ecdb",
     "locked": true,
     "schema_version": 3,
     "solution": false,
     "task": false
    }
   },
   "outputs": [],
   "source": [
    "data = load_iris()\n",
    "X_train2, y_train2 = data.data, data.target\n",
    "\n",
    "W = np.random.randn(X_train2.shape[1], 3) * 0.0001"
   ]
  },
  {
   "cell_type": "code",
   "execution_count": 19,
   "id": "d8405c63",
   "metadata": {
    "deletable": false,
    "nbgrader": {
     "cell_type": "code",
     "checksum": "af6fecc0ab19bd2c392db4255a946d03",
     "grade": false,
     "grade_id": "cell-9049b2a8d3edaeaf",
     "locked": false,
     "schema_version": 3,
     "solution": true,
     "task": false
    }
   },
   "outputs": [],
   "source": [
    "from scipy.special import logsumexp, softmax\n",
    "\n",
    "def softmax_loss_naive(W, X, y, alpha):\n",
    "    \"\"\"\n",
    "    Softmax loss function WITH FOR LOOPS\n",
    "\n",
    "    Inputs:\n",
    "    - W: array of shape (D, C) containing weights\n",
    "    - X: array of shape (N, D) containing a minibatch of data\n",
    "    - y: array of shape (N,) containing training labels\n",
    "    - alpha: (float) regularization \n",
    "\n",
    "    Returns a tuple of:\n",
    "    - loss as single float\n",
    "    - gradient with respect to weights W;  same shape as W\n",
    "    \"\"\"\n",
    "    \n",
    "    # Initialization\n",
    "    loss = 0.0\n",
    "    dW = np.zeros_like(W)\n",
    "    \n",
    "    # Tandremo ny numeric instability\n",
    "    # YOUR CODE HERE\n",
    "    N = y.shape[0]\n",
    "    D = W.shape[0]\n",
    "    C = W.shape[1]\n",
    "    \n",
    "    # Loss\n",
    "    \n",
    "     # The term without alpha\n",
    "    for i in range(N):\n",
    "        z = X[i] @ W\n",
    "        loss = loss + z[y[i]] - logsumexp(z)\n",
    "    \n",
    "     # The term with alpha\n",
    "    alpha_term = 0\n",
    "    for j in range(D):\n",
    "        for k in range(C):\n",
    "            alpha_term = alpha_term + W[j][k]**2\n",
    "    loss = (-1/N) * loss + alpha * alpha_term\n",
    "    \n",
    "    # Dw\n",
    "    \n",
    "    # Softmax derivative (https://towardsdatascience.com/derivative-of-the-softmax-function-and-the-categorical-cross-entropy-loss-ffceefc081d1)\n",
    "    \n",
    "    # The matrix where 1 if (y[i] = C), else 0\n",
    "    matrix = np.zeros((N, C))\n",
    "    for i in range(N):\n",
    "        matrix[i][y[i]] = 1\n",
    "    \n",
    "    # The DW adding the term with alpha\n",
    "    softmax_derivative = matrix - softmax(X @ W, axis=1)\n",
    "    for j in range(D):\n",
    "        dW[j] = (-1/N) * X.T[j] @ softmax_derivative + 2 * alpha * W[j]    \n",
    "    \n",
    "    return loss, dW"
   ]
  },
  {
   "cell_type": "markdown",
   "id": "8b9aa529",
   "metadata": {},
   "source": [
    "## Without regularization"
   ]
  },
  {
   "cell_type": "code",
   "execution_count": 20,
   "id": "0eea225f",
   "metadata": {
    "deletable": false,
    "editable": false,
    "nbgrader": {
     "cell_type": "code",
     "checksum": "ac16981288c3c2f604ad8bab7defad33",
     "grade": true,
     "grade_id": "cell-878cebbdfa4e3f9b",
     "locked": true,
     "points": 1,
     "schema_version": 3,
     "solution": false,
     "task": false
    }
   },
   "outputs": [
    {
     "name": "stdout",
     "output_type": "stream",
     "text": [
      "numerical: 0.028050 analytic: 0.028050, relative error: 8.881253e-10\n",
      "numerical: 0.278359 analytic: 0.278359, relative error: 5.247049e-10\n",
      "numerical: 0.095894 analytic: 0.095894, relative error: 8.713755e-11\n",
      "numerical: 0.028050 analytic: 0.028050, relative error: 8.881253e-10\n",
      "numerical: -0.597786 analytic: -0.597786, relative error: 7.687603e-11\n",
      "numerical: 0.095894 analytic: 0.095894, relative error: 8.713755e-11\n",
      "numerical: 0.095894 analytic: 0.095894, relative error: 8.713755e-11\n",
      "numerical: 0.278359 analytic: 0.278359, relative error: 5.247049e-10\n",
      "numerical: 0.028050 analytic: 0.028050, relative error: 8.881253e-10\n",
      "numerical: 0.095894 analytic: 0.095894, relative error: 8.713755e-11\n",
      "numerical: 0.028050 analytic: 0.028050, relative error: 8.881253e-10\n",
      "numerical: 0.278359 analytic: 0.278359, relative error: 5.247049e-10\n"
     ]
    }
   ],
   "source": [
    "loss, dW = softmax_loss_naive(W, X_train2, y_train2, 0.0)\n",
    "\n",
    "f = lambda W: softmax_loss_naive(W, X_train2, y_train2, 0.0)[0]\n",
    "grad_numerical = grad_check_sparse(f, W, dW, error=1e-7)"
   ]
  },
  {
   "cell_type": "markdown",
   "id": "7edea2f2",
   "metadata": {},
   "source": [
    "## With regularization"
   ]
  },
  {
   "cell_type": "code",
   "execution_count": 21,
   "id": "533001ff",
   "metadata": {
    "deletable": false,
    "editable": false,
    "nbgrader": {
     "cell_type": "code",
     "checksum": "bd9a1e462d23666f55369d6b9d152117",
     "grade": true,
     "grade_id": "cell-ead29b6569263a0f",
     "locked": true,
     "points": 1,
     "schema_version": 3,
     "solution": false,
     "task": false
    }
   },
   "outputs": [
    {
     "name": "stdout",
     "output_type": "stream",
     "text": [
      "numerical: -0.275405 analytic: -0.275405, relative error: 2.706203e-11\n",
      "numerical: -0.598313 analytic: -0.598313, relative error: 7.832539e-11\n",
      "numerical: -0.030454 analytic: -0.030454, relative error: 4.948893e-09\n",
      "numerical: -0.030454 analytic: -0.030454, relative error: 4.948893e-09\n",
      "numerical: -0.166792 analytic: -0.166792, relative error: 2.617687e-10\n",
      "numerical: 0.317685 analytic: 0.317685, relative error: 1.071850e-10\n",
      "numerical: 0.317685 analytic: 0.317685, relative error: 1.071850e-10\n",
      "numerical: 0.095479 analytic: 0.095479, relative error: 9.149837e-11\n",
      "numerical: -0.247387 analytic: -0.247387, relative error: 5.402637e-10\n",
      "numerical: 0.095479 analytic: 0.095479, relative error: 9.149837e-11\n",
      "numerical: 0.028362 analytic: 0.028362, relative error: 7.105147e-10\n",
      "numerical: -0.030454 analytic: -0.030454, relative error: 4.948893e-09\n"
     ]
    }
   ],
   "source": [
    "loss, dW = softmax_loss_naive(W, X_train2, y_train2, 2)\n",
    "\n",
    "f = lambda W: softmax_loss_naive(W, X_train2, y_train2, 2)[0]\n",
    "grad_numerical = grad_check_sparse(f, W, dW, error=1e-7)"
   ]
  },
  {
   "cell_type": "code",
   "execution_count": 22,
   "id": "c2593d82",
   "metadata": {
    "deletable": false,
    "nbgrader": {
     "cell_type": "code",
     "checksum": "48f52a4942e2b468f5775c5c7fbd2617",
     "grade": false,
     "grade_id": "cell-11e6980597b20334",
     "locked": false,
     "schema_version": 3,
     "solution": true,
     "task": false
    }
   },
   "outputs": [],
   "source": [
    "def softmax_loss_vectorized(W, X, y, alpha, fit_intercept=False):\n",
    "    \"\"\"\n",
    "    Softmax loss function WITHOUT FOR LOOPS\n",
    "\n",
    "    Inputs:\n",
    "    - W: array of shape (D, C) containing weights\n",
    "    - X: array of shape (N, D) containing a minibatch of data\n",
    "    - y: array of shape (N,) containing training labels\n",
    "    - alpha: (float) regularization \n",
    "\n",
    "    Returns a tuple of:\n",
    "    - loss as single float\n",
    "    - gradient with respect to weights W;  same shape as W\n",
    "    \"\"\"\n",
    "    # Initialize the loss and gradient to zero.\n",
    "    loss = 0.0\n",
    "    dW = np.zeros_like(W)\n",
    "\n",
    "    # YOUR CODE HERE\n",
    "    N = X.shape[1]\n",
    "    D = X.shape[0]\n",
    "    \n",
    "    # https://madalinabuzau.github.io/2016/11/29/gradient-descent-on-a-softmax-cross-entropy-cost-function.html\n",
    "    \n",
    "    # Loss\n",
    "    z = X @ W\n",
    "    exp_scores = np.exp(z - np.max(z, axis=1, keepdims=True))\n",
    "        # Softmax activation\n",
    "    probs = exp_scores/np.sum(exp_scores, axis=1, keepdims=True)\n",
    "        # Log loss of the correct class of each of our samples\n",
    "    correct_logprobs = -np.log(probs[np.arange(D), y])\n",
    "        # Compute the average loss\n",
    "    loss = np.sum(correct_logprobs)/D\n",
    "        # Add regularization using the L2 norm\n",
    "    reg_loss = alpha*np.sum(W*W)\n",
    "    loss = loss + reg_loss\n",
    "\n",
    "    # DW\n",
    "        # Gradient of the loss with respect to scores\n",
    "    dscores = probs.copy()\n",
    "        # Substract 1 from the scores of the correct class\n",
    "    dscores[np.arange(D),y] -= 1\n",
    "        # samples it's easier to divide dscores beforehand\n",
    "    dscores /= D\n",
    "    dW = X.T.dot(dscores)\n",
    "    # Add gradient regularization \n",
    "    dW = dW + 2*alpha*W\n",
    "\n",
    "    return loss, dW"
   ]
  },
  {
   "cell_type": "markdown",
   "id": "ddea508b",
   "metadata": {},
   "source": [
    "## Without regularization"
   ]
  },
  {
   "cell_type": "code",
   "execution_count": 23,
   "id": "78f759e2",
   "metadata": {
    "deletable": false,
    "editable": false,
    "nbgrader": {
     "cell_type": "code",
     "checksum": "441d40ba642d3a505582eaeb87981127",
     "grade": true,
     "grade_id": "cell-0bc0fcf0bd3d3f13",
     "locked": true,
     "points": 1,
     "schema_version": 3,
     "solution": false,
     "task": false
    }
   },
   "outputs": [
    {
     "name": "stdout",
     "output_type": "stream",
     "text": [
      "numerical: -0.042121 analytic: -0.042121, relative error: 2.257001e-11\n",
      "numerical: 0.028050 analytic: 0.028050, relative error: 8.881257e-10\n",
      "numerical: 0.317618 analytic: 0.317618, relative error: 2.482308e-12\n",
      "numerical: 0.278359 analytic: 0.278359, relative error: 4.648795e-10\n",
      "numerical: 0.095894 analytic: 0.095894, relative error: 3.180781e-10\n",
      "numerical: 0.317618 analytic: 0.317618, relative error: 2.482308e-12\n",
      "numerical: 0.278359 analytic: 0.278359, relative error: 4.648795e-10\n",
      "numerical: -0.247769 analytic: -0.247769, relative error: 5.248354e-10\n",
      "numerical: -0.597786 analytic: -0.597786, relative error: 7.687613e-11\n",
      "numerical: -0.030589 analytic: -0.030589, relative error: 4.584582e-09\n",
      "numerical: 0.028050 analytic: 0.028050, relative error: 8.881257e-10\n",
      "numerical: -0.597786 analytic: -0.597786, relative error: 7.687613e-11\n"
     ]
    }
   ],
   "source": [
    "loss, dW = softmax_loss_vectorized(W, X_train2, y_train2, 0.0)\n",
    "\n",
    "f = lambda W: softmax_loss_vectorized(W, X_train2, y_train2, 0.0)[0]\n",
    "grad_numerical = grad_check_sparse(f, W, dW, error=1e-7)"
   ]
  },
  {
   "cell_type": "markdown",
   "id": "27c84f53",
   "metadata": {},
   "source": [
    "## With regularization"
   ]
  },
  {
   "cell_type": "code",
   "execution_count": 24,
   "id": "8bddf43a",
   "metadata": {
    "deletable": false,
    "editable": false,
    "nbgrader": {
     "cell_type": "code",
     "checksum": "6475ed3a14441d5488ecb46ec2522bbb",
     "grade": true,
     "grade_id": "cell-1fe0149d053dade0",
     "locked": true,
     "points": 1,
     "schema_version": 3,
     "solution": false,
     "task": false
    }
   },
   "outputs": [
    {
     "name": "stdout",
     "output_type": "stream",
     "text": [
      "numerical: -0.041842 analytic: -0.041842, relative error: 9.646235e-11\n",
      "numerical: -0.041842 analytic: -0.041842, relative error: 9.646235e-11\n",
      "numerical: -0.124118 analytic: -0.124118, relative error: 1.348327e-10\n",
      "numerical: -0.598313 analytic: -0.598313, relative error: 7.832549e-11\n",
      "numerical: -0.124118 analytic: -0.124118, relative error: 1.348327e-10\n",
      "numerical: -0.041842 analytic: -0.041842, relative error: 9.646235e-11\n",
      "numerical: -0.598313 analytic: -0.598313, relative error: 7.832549e-11\n",
      "numerical: 0.028362 analytic: 0.028362, relative error: 7.105151e-10\n",
      "numerical: -0.030454 analytic: -0.030454, relative error: 4.766613e-09\n",
      "numerical: -0.247387 analytic: -0.247387, relative error: 5.402642e-10\n",
      "numerical: -0.166792 analytic: -0.166792, relative error: 3.283318e-10\n",
      "numerical: -0.247387 analytic: -0.247387, relative error: 5.402642e-10\n"
     ]
    }
   ],
   "source": [
    "loss, dW = softmax_loss_vectorized(W, X_train2, y_train2, 2)\n",
    "\n",
    "f = lambda W: softmax_loss_vectorized(W, X_train2, y_train2, 2)[0]\n",
    "grad_numerical = grad_check_sparse(f, W, dW, error=1e-7)"
   ]
  },
  {
   "cell_type": "markdown",
   "id": "ab7e247a",
   "metadata": {},
   "source": [
    "## Gradient descent"
   ]
  },
  {
   "cell_type": "code",
   "execution_count": 25,
   "id": "9dff0bbc",
   "metadata": {
    "deletable": false,
    "nbgrader": {
     "cell_type": "code",
     "checksum": "a0cedf5c70f5cf04cdd8b74702815dba",
     "grade": false,
     "grade_id": "cell-0f69bb891603b665",
     "locked": false,
     "schema_version": 3,
     "solution": true,
     "task": false
    }
   },
   "outputs": [],
   "source": [
    "class LinearModel():\n",
    "    def __init__(self, fit_intercept=True):\n",
    "        self.W = None\n",
    "        self.fit_intercept = fit_intercept\n",
    "\n",
    "    def train(self, X, y, learning_rate=1e-3, alpha=0, num_iters=100, batch_size=200, verbose=False):\n",
    "        if self.fit_intercept:\n",
    "            # YOUR CODE HERE\n",
    "            temp = np.ones((X.shape[0], 1))\n",
    "            X = np.concatenate((temp, X), axis=1)\n",
    "           \n",
    "        N = X.shape[0] \n",
    "        D = X.shape[1]\n",
    "        \n",
    "        C = np.max(y) + 1\n",
    "        self.W = 0.001 * np.random.randn(D, C)\n",
    "\n",
    "        # Run stochastic gradient descent to optimize W\n",
    "        \n",
    "        loss_history = []\n",
    "        for it in range(num_iters):\n",
    "            X_batch = None\n",
    "            y_batch = None\n",
    "                                                               \n",
    "            # Sample batch_size elements in X_batch and y_batch\n",
    "            # X_batch shape is  (batch_size, d) and y_batch shape is (batch_size,)                                                                                          \n",
    "            # Hint: Use np.random.choice to generate indices\n",
    "            # YOUR CODE HERE\n",
    "            choice = np.random.choice(N, batch_size, replace=False)\n",
    "\n",
    "            X_batch = X[choice, :]\n",
    "            y_batch = y[choice]\n",
    "            \n",
    "            # evaluate loss and gradient\n",
    "            loss, dW = self.loss(X_batch, y_batch, alpha)\n",
    "            loss_history.append(loss)\n",
    "\n",
    "            # perform parameter update                                                                \n",
    "            # Update the weights w using the gradient and the learning rate.          \n",
    "            # YOUR CODE HERE\n",
    "            self.W = self.W - learning_rate * dW\n",
    "            \n",
    "            if verbose and it % 10000 == 0:\n",
    "                print(\"iteration %d / %d: loss %f\" % (it, num_iters, loss))\n",
    "                \n",
    "        return loss_history\n",
    "\n",
    "    def predict(self, X):\n",
    "        pass\n",
    "\n",
    "    def loss(self, X_batch, y_batch, reg):\n",
    "        pass\n",
    "\n",
    "class MultinomialLogisticRegressor(LinearModel):\n",
    "    \"\"\" Softmax regression \"\"\"\n",
    "\n",
    "    def loss(self, X_batch, y_batch, alpha):\n",
    "        return softmax_loss_vectorized(self.W, X_batch, y_batch, alpha)\n",
    "    \n",
    "    def predict(self, X):\n",
    "        \"\"\" \n",
    "        Inputs:\n",
    "        - X: array of shape (N, D) \n",
    "\n",
    "        Returns:\n",
    "        - y_pred: 1-dimensional array of length N, each element is an integer giving the predicted class \n",
    "        \"\"\"\n",
    "        # YOUR CODE HERE\n",
    "        if self.fit_intercept:\n",
    "            # YOUR CODE HERE\n",
    "            temp = np.ones((X.shape[0], 1))\n",
    "            X = np.concatenate((temp, X), axis=1)\n",
    "        \n",
    "        y_pred = []\n",
    "        \n",
    "        # Softmax\n",
    "        for i in range(X.shape[0]):\n",
    "            z = X[i] @ self.W\n",
    "            expo_scores = np.exp(z - np.max(z))\n",
    "            \n",
    "            # exp(z - z(max))/sum(exp(z - z(max)))\n",
    "            results = expo_scores / np.sum(np.exp(z - np.max(z)))\n",
    "            k = np.argmax(results)\n",
    "            y_pred.append(k)\n",
    "        return y_pred"
   ]
  },
  {
   "cell_type": "code",
   "execution_count": 26,
   "id": "ce21aaa4",
   "metadata": {
    "deletable": false,
    "editable": false,
    "nbgrader": {
     "cell_type": "code",
     "checksum": "56aacc6a9e4ede50cd934a81dfd9915f",
     "grade": true,
     "grade_id": "cell-8569aecb5759a819",
     "locked": true,
     "points": 1,
     "schema_version": 3,
     "solution": false,
     "task": false
    }
   },
   "outputs": [
    {
     "name": "stdout",
     "output_type": "stream",
     "text": [
      "iteration 0 / 75000: loss 1.096879\n",
      "iteration 10000 / 75000: loss 0.392187\n",
      "iteration 20000 / 75000: loss 0.316024\n",
      "iteration 30000 / 75000: loss 0.380803\n",
      "iteration 40000 / 75000: loss 0.326009\n",
      "iteration 50000 / 75000: loss 0.333975\n",
      "iteration 60000 / 75000: loss 0.265954\n",
      "iteration 70000 / 75000: loss 0.258352\n",
      "Accuracy scikit-learn: 0.86\n",
      "Accuracy gradient descent model : 0.8666666666666667\n"
     ]
    }
   ],
   "source": [
    "from sklearn.linear_model import LogisticRegression\n",
    "from sklearn.preprocessing import StandardScaler\n",
    "\n",
    "scaler = StandardScaler()\n",
    "X_train2 = scaler.fit_transform(X_train2)\n",
    "\n",
    "sk_model = LogisticRegression(fit_intercept=False)\n",
    "sk_model.fit(X_train2, y_train2)\n",
    "sk_pred = sk_model.predict(X_train2)\n",
    "sk_accuracy = accuracy_score(y_train2, sk_pred)\n",
    "\n",
    "model = MultinomialLogisticRegressor(fit_intercept=False)\n",
    "model.train(X_train2, y_train2, num_iters=75000, batch_size=64, learning_rate=1e-3, verbose=True)\n",
    "pred = model.predict(X_train2)\n",
    "model_accuracy = accuracy_score(y_train2, pred)\n",
    "\n",
    "print(\"Accuracy scikit-learn:\", sk_accuracy)\n",
    "print(\"Accuracy gradient descent model :\", model_accuracy)\n",
    "assert sk_accuracy - model_accuracy < 0.01"
   ]
  },
  {
   "cell_type": "code",
   "execution_count": 27,
   "id": "b2c6a8ad",
   "metadata": {
    "deletable": false,
    "editable": false,
    "nbgrader": {
     "cell_type": "code",
     "checksum": "40a4732103eaf77860c941e0897de01c",
     "grade": true,
     "grade_id": "cell-30e12569fdfb269c",
     "locked": true,
     "points": 1,
     "schema_version": 3,
     "solution": false,
     "task": false
    }
   },
   "outputs": [
    {
     "name": "stdout",
     "output_type": "stream",
     "text": [
      "iteration 0 / 75000: loss 1.098294\n",
      "iteration 10000 / 75000: loss 0.334847\n",
      "iteration 20000 / 75000: loss 0.267632\n",
      "iteration 30000 / 75000: loss 0.236719\n",
      "iteration 40000 / 75000: loss 0.213925\n",
      "iteration 50000 / 75000: loss 0.147083\n",
      "iteration 60000 / 75000: loss 0.192649\n",
      "iteration 70000 / 75000: loss 0.134629\n",
      "Accuracy scikit-learn: 0.9733333333333334\n",
      "Accuracy gradient descent model : 0.96\n"
     ]
    }
   ],
   "source": [
    "sk_model = LogisticRegression(fit_intercept=True)\n",
    "sk_model.fit(X_train2, y_train2)\n",
    "sk_pred = sk_model.predict(X_train2)\n",
    "sk_accuracy = accuracy_score(y_train2, sk_pred)\n",
    "\n",
    "model = MultinomialLogisticRegressor(fit_intercept=True)\n",
    "model.train(X_train2, y_train2, num_iters=75000, batch_size=64, learning_rate=1e-3, verbose=True)\n",
    "pred = model.predict(X_train2)\n",
    "model_accuracy = accuracy_score(y_train2, pred)\n",
    "\n",
    "print(\"Accuracy scikit-learn:\", sk_accuracy)\n",
    "print(\"Accuracy gradient descent model :\", model_accuracy)\n",
    "assert sk_accuracy - model_accuracy < 0.02"
   ]
  },
  {
   "cell_type": "markdown",
   "id": "62032646",
   "metadata": {},
   "source": [
    "# K-Nearest Neighbor"
   ]
  },
  {
   "cell_type": "markdown",
   "id": "a3c81034",
   "metadata": {},
   "source": [
    "## Computing distances"
   ]
  },
  {
   "cell_type": "code",
   "execution_count": 28,
   "id": "8a97c549",
   "metadata": {
    "deletable": false,
    "editable": false,
    "nbgrader": {
     "cell_type": "code",
     "checksum": "858935a2455a3ca0e416b3084b730e7f",
     "grade": false,
     "grade_id": "cell-9738d380318b956f",
     "locked": true,
     "schema_version": 3,
     "solution": false,
     "task": false
    }
   },
   "outputs": [],
   "source": [
    "data = load_digits()\n",
    "X_train3, y_train3 = data.data, data.target\n",
    "X_train3, X_test3, y_train3, y_test3 = train_test_split(X_train3, y_train3, test_size=0.33, random_state=2)\n",
    "\n",
    "def get_distances_two_loops_with_norm(X_train, X_test):\n",
    "    num_test = X_test.shape[0]\n",
    "    num_train = X_train.shape[0]\n",
    "    distances = np.zeros((num_test, num_train))\n",
    "    for i in range(num_test):\n",
    "        for j in range(num_train):\n",
    "            distances[i, j] = np.linalg.norm(X_test[i] - X_train[j])\n",
    "    return distances"
   ]
  },
  {
   "cell_type": "code",
   "execution_count": 29,
   "id": "d1b01336",
   "metadata": {
    "deletable": false,
    "nbgrader": {
     "cell_type": "code",
     "checksum": "6cfd476a7819d38b3c8ef47443365f64",
     "grade": false,
     "grade_id": "cell-4756294c792f6985",
     "locked": false,
     "schema_version": 3,
     "solution": true,
     "task": false
    }
   },
   "outputs": [],
   "source": [
    "def get_distances_two_loops(X_train, X_test):\n",
    "    \"\"\"\n",
    "    Compute the distance between each test point in X_test and each training point\n",
    "    in X_train \n",
    "\n",
    "    Inputs:\n",
    "    - X_test: array of shape (num_test, D) \n",
    "\n",
    "    Returns:\n",
    "    - distances: array of shape (num_test, num_train), dists[i, j] is Euclidean distance between \n",
    "    the ith test point and the jth training point.\n",
    "    \"\"\"\n",
    "    num_test = X_test.shape[0]\n",
    "    num_train = X_train.shape[0]\n",
    "    distances = np.zeros((num_test, num_train))\n",
    "    for i in range(num_test):\n",
    "        for j in range(num_train):\n",
    "            # Ataovy ao anaty distances[i, j] ny distance entre ith test point sy th training point\n",
    "            # Aza manao boucle instony ato anatiny\n",
    "            # TSY MAHAZO MAMPIASA np.linalg.norm() :D\n",
    "            # YOUR CODE HERE\n",
    "            distances[i, j] = np.sqrt((X_test[i] - X_train[j]).T @ (X_test[i] - X_train[j]))\n",
    "    return distances"
   ]
  },
  {
   "cell_type": "code",
   "execution_count": 30,
   "id": "da674674",
   "metadata": {
    "deletable": false,
    "editable": false,
    "nbgrader": {
     "cell_type": "code",
     "checksum": "78d07191456013c3a22619c2d26e2503",
     "grade": true,
     "grade_id": "cell-76b63cae5d6a5977",
     "locked": true,
     "points": 1,
     "schema_version": 3,
     "solution": false,
     "task": false
    }
   },
   "outputs": [
    {
     "name": "stdout",
     "output_type": "stream",
     "text": [
      "0.0\n"
     ]
    }
   ],
   "source": [
    "distances = get_distances_two_loops(X_train3, X_test3)\n",
    "true_distances = get_distances_two_loops_with_norm(X_train3, X_test3)\n",
    "\n",
    "difference = np.linalg.norm(distances - true_distances, ord='fro')\n",
    "\n",
    "print(difference)\n",
    "assert difference < 1e-10"
   ]
  },
  {
   "cell_type": "code",
   "execution_count": 31,
   "id": "69a0a04b",
   "metadata": {
    "deletable": false,
    "nbgrader": {
     "cell_type": "code",
     "checksum": "3b98a31f8ab9e6b8bd5a18ea02dd7165",
     "grade": false,
     "grade_id": "cell-05658431df004915",
     "locked": false,
     "schema_version": 3,
     "solution": true,
     "task": false
    }
   },
   "outputs": [],
   "source": [
    "def compute_distances_one_loop(X_train, X_test):\n",
    "    \"\"\"\n",
    "    Compute the distance between each test point in X_test and each training point\n",
    "    in X_train \n",
    "\n",
    "    Inputs:\n",
    "    - X_test: array of shape (num_test, D) \n",
    "\n",
    "    Returns:\n",
    "    - dists: array of shape (num_test, num_train), dists[i, j] is Euclidean distance between \n",
    "    the ith test point and the jth training point.\n",
    "    \"\"\"\n",
    "    num_test = X_test.shape[0]\n",
    "    num_train = X_train.shape[0]\n",
    "    distances = np.zeros((num_test, num_train))\n",
    "    for i in range(num_test):\n",
    "        # Ataovy ao anaty dists[i, j] ny distance entre ith test point sy th training point\n",
    "        # Aza manao boucle instony ato anatiny\n",
    "        # TSY MAHAZO MAMPIASA np.linalg.norm() :D\n",
    "            \n",
    "        # YOUR CODE HERE\n",
    "        distances[i] = np.sqrt(np.sum((X_train - X_test[i])**2, axis = 1))\n",
    "    return distances    "
   ]
  },
  {
   "cell_type": "code",
   "execution_count": 32,
   "id": "2540b717",
   "metadata": {
    "deletable": false,
    "editable": false,
    "nbgrader": {
     "cell_type": "code",
     "checksum": "6a9d09964868df2c201e48372082c2e5",
     "grade": true,
     "grade_id": "cell-cfa64f63da5511f9",
     "locked": true,
     "points": 1,
     "schema_version": 3,
     "solution": false,
     "task": false
    }
   },
   "outputs": [
    {
     "name": "stdout",
     "output_type": "stream",
     "text": [
      "0.0\n"
     ]
    }
   ],
   "source": [
    "distances = compute_distances_one_loop(X_train3, X_test3)\n",
    "true_distances = get_distances_two_loops_with_norm(X_train3, X_test3)\n",
    "\n",
    "difference = np.linalg.norm(distances - true_distances, ord='fro')\n",
    "\n",
    "print(difference)\n",
    "assert difference < 1e-10"
   ]
  },
  {
   "cell_type": "code",
   "execution_count": 33,
   "id": "c3788be0",
   "metadata": {
    "deletable": false,
    "nbgrader": {
     "cell_type": "code",
     "checksum": "e10c370f1f9c3e653fc817c883b7de0e",
     "grade": false,
     "grade_id": "cell-3cb10928a6af9889",
     "locked": false,
     "schema_version": 3,
     "solution": true,
     "task": false
    }
   },
   "outputs": [],
   "source": [
    "def get_distances_zero_loop(X_train, X_test):\n",
    "    \"\"\"\n",
    "    Compute the distance between each test point in X_test and each training point\n",
    "    in X_train \n",
    "\n",
    "    Inputs:\n",
    "    - X_test: array of shape (num_test, D) \n",
    "\n",
    "    Returns:\n",
    "    - distances: array of shape (num_test, num_train), dists[i, j] is Euclidean distance between \n",
    "    the ith test point and the jth training point.\n",
    "    \"\"\"\n",
    "    num_test = X_test.shape[0]\n",
    "    num_train = X_train.shape[0]\n",
    "    distances = np.zeros((num_test, num_train))  \n",
    "    # Ataovy ao anaty dists[i, j] ny distance entre ith test point sy th training point\n",
    "    # Aza manao boucle instony\n",
    "    # TSY MAHAZO MAMPIASA np.linalg.norm() NA FONCTIONS AO AMIN'NY SCIPY :D\n",
    "            \n",
    "    # YOUR CODE HERE\n",
    "    \n",
    "    # Using the formula (a - b)**2 = a**2 - 2*a*b + b**2 (https://medium.com/@souravdey/l2-distance-matrix-vectorization-trick-26aa3247ac6c)\n",
    "    distances = np.sum((X_train)**2, axis = 1) - 2 * X_test @ X_train.T + np.sum((X_test)**2, axis = 1)[:, np.newaxis]\n",
    "    distances = np.sqrt(distances)\n",
    "    \n",
    "    return distances"
   ]
  },
  {
   "cell_type": "code",
   "execution_count": 34,
   "id": "81a9294b",
   "metadata": {
    "deletable": false,
    "editable": false,
    "nbgrader": {
     "cell_type": "code",
     "checksum": "08a63c2a5bf229c55db5bdc793f5c885",
     "grade": true,
     "grade_id": "cell-ff999d4dddc0760f",
     "locked": true,
     "points": 2,
     "schema_version": 3,
     "solution": false,
     "task": false
    }
   },
   "outputs": [
    {
     "name": "stdout",
     "output_type": "stream",
     "text": [
      "0.0\n"
     ]
    }
   ],
   "source": [
    "distances = get_distances_zero_loop(X_train3, X_test3)\n",
    "true_distances = get_distances_two_loops_with_norm(X_train3, X_test3)\n",
    "\n",
    "difference = np.linalg.norm(distances - true_distances, ord='fro')\n",
    "\n",
    "print(difference)\n",
    "assert difference < 1e-10"
   ]
  },
  {
   "cell_type": "markdown",
   "id": "bc9c2ac6",
   "metadata": {},
   "source": [
    "## K-Nearest Neighbor (knn) classifier"
   ]
  },
  {
   "cell_type": "code",
   "execution_count": 35,
   "id": "2ce1e0f2",
   "metadata": {
    "deletable": false,
    "nbgrader": {
     "cell_type": "code",
     "checksum": "c2213945856056edb1cbc5174c98be4e",
     "grade": false,
     "grade_id": "cell-8d852d04f1f1e1c6",
     "locked": false,
     "schema_version": 3,
     "solution": true,
     "task": false
    }
   },
   "outputs": [],
   "source": [
    "from scipy.stats import mode\n",
    "\n",
    "class KNearestNeighborClassifier():\n",
    "    \"\"\" kNN classifier using L2 distance \"\"\"\n",
    "\n",
    "    def __init__(self, k=1):\n",
    "        \"\"\"\n",
    "        Inputs:\n",
    "        - k: number of nearest neighbors that vote for the predicted labels.\n",
    "        \"\"\"\n",
    "        self.k = k\n",
    "\n",
    "    def fit(self, X, y):\n",
    "        \"\"\"\n",
    "        Train the classifier. Just memorize the training data.\n",
    "\n",
    "        Inputs:\n",
    "        - X: array of shape (num_train, D) \n",
    "        - y: array of shape (N,) \n",
    "        \"\"\"\n",
    "        self.X_train = X\n",
    "        self.y_train = y\n",
    "\n",
    "    def predict(self, X):\n",
    "        \"\"\"\n",
    "        Predict labels for test data using this classifier.\n",
    "\n",
    "        Inputs:\n",
    "        - X: array of shape (num_test, D) \n",
    "\n",
    "        Returns:\n",
    "        - y: array of shape (num_test,) \n",
    "        \"\"\"\n",
    "        distances = get_distances_zero_loop(self.X_train, X)\n",
    "        return self.predict_labels(distances)\n",
    "\n",
    "    def predict_labels(self, distances):\n",
    "        \"\"\"\n",
    "        Given a matrix of distances between test points and training points,\n",
    "        predict a label for each test point.\n",
    "\n",
    "        Inputs:\n",
    "        - distances: array of shape (num_test, num_train), dists[i, j] is Euclidean distance between \n",
    "        the ith test point and the jth training point.\n",
    "\n",
    "        Returns:\n",
    "        - y:  array of shape (num_test,) \n",
    "        \"\"\"\n",
    "        num_test = distances.shape[0]\n",
    "        y_pred = np.zeros(num_test)\n",
    "        for i in range(num_test):\n",
    "            # list storing the labels of the k nearest neighbors to the ith test point.\n",
    "            closest_y = []\n",
    "\n",
    "            # Ampidirina ao anaty closest_y ny labels an'ny k neighbors akaiky indrindra\n",
    "            # Jereo fampiasana np.argsort\n",
    "            # YOUR CODE HERE\n",
    "            indice_nearest = np.argsort(distances[i])\n",
    "            closest_y = self.y_train[indice_nearest[:self.k]]\n",
    "\n",
    "            # Tadiavo ny label betsaka indrindra dia iny no atao prediction\n",
    "            # Raha misy mitovy dia izay label kely raisina\n",
    "            # YOUR CODE HERE\n",
    "            nearest_y = mode(closest_y)\n",
    "            y_pred[i] = nearest_y.mode[0]\n",
    "\n",
    "        return y_pred"
   ]
  },
  {
   "cell_type": "code",
   "execution_count": 36,
   "id": "c419c1ac",
   "metadata": {
    "deletable": false,
    "editable": false,
    "nbgrader": {
     "cell_type": "code",
     "checksum": "e5ccea2db11ef9d1310203f6b2227fbc",
     "grade": true,
     "grade_id": "cell-301db44591c60d17",
     "locked": true,
     "points": 2,
     "schema_version": 3,
     "solution": false,
     "task": false
    }
   },
   "outputs": [
    {
     "name": "stdout",
     "output_type": "stream",
     "text": [
      "Accuracy scikit-learn: 0.9831649831649831\n",
      "Accuracy gradient descent model : 0.9831649831649831\n"
     ]
    }
   ],
   "source": [
    "sk_model = KNeighborsClassifier(n_neighbors=3)\n",
    "sk_model.fit(X_train3, y_train3)\n",
    "sk_pred = sk_model.predict(X_test3)\n",
    "sk_accuracy = accuracy_score(y_test3, sk_pred)\n",
    "\n",
    "model = KNearestNeighborClassifier(k=3)\n",
    "model.fit(X_train3, y_train3)\n",
    "pred = model.predict(X_test3)\n",
    "model_accuracy = accuracy_score(y_test3, pred)\n",
    "\n",
    "print(\"Accuracy scikit-learn:\", sk_accuracy)\n",
    "print(\"Accuracy gradient descent model :\", model_accuracy)\n",
    "assert sk_accuracy - model_accuracy < 1e-10"
   ]
  },
  {
   "cell_type": "markdown",
   "id": "792bbc93",
   "metadata": {},
   "source": [
    "## cross-validation"
   ]
  },
  {
   "cell_type": "code",
   "execution_count": 37,
   "id": "d4c44832",
   "metadata": {
    "deletable": false,
    "nbgrader": {
     "cell_type": "code",
     "checksum": "0433a47c347be926b4625f181c01d120",
     "grade": false,
     "grade_id": "cell-adaaf6c0d8cdce0a",
     "locked": false,
     "schema_version": 3,
     "solution": true,
     "task": false
    }
   },
   "outputs": [],
   "source": [
    "num_folds = 5\n",
    "k_choices = [1, 3, 5, 8, 10, 12, 15, 20, 50, 100]\n",
    "\n",
    "X_train_folds = []\n",
    "y_train_folds = []\n",
    "\n",
    "# Split up the data into folds\n",
    "# X_train_folds and y_train_folds lits of length num_folds\n",
    "\n",
    "# YOUR CODE HERE\n",
    "N = X_train3.shape[0]\n",
    "# Shuffle the data with random permutation and split into num_folds data\n",
    "indice_nearest = np.array_split(np.random.permutation(N), num_folds)\n",
    "\n",
    "for i in range(num_folds):\n",
    "    X_train_folds.append(X_train3[indice_nearest[i]])\n",
    "    y_train_folds.append(y_train3[indice_nearest[i]])\n",
    "# Convert to nd.array\n",
    "X_train_folds = np.array(X_train_folds, dtype = object)\n",
    "y_train_folds = np.array(y_train_folds, dtype = object)\n",
    "\n",
    "# A dictionary of length num_folds holding the accuracies for different values of k \n",
    "k_to_accuracies = {}\n",
    "\n",
    "# Ataovy ary ilay k-fold cross validation \n",
    "# Atao ao anaty k_to_accuracies ny accuracy isaky ny valeur k\n",
    "# YOUR CODE HERE\n",
    "for i in range(num_folds):\n",
    "    # Test all folds\n",
    "    X_test_cross = X_train_folds[i]\n",
    "    y_test_cross = y_train_folds[i]\n",
    "    \n",
    "    # Separate the training data\n",
    "    mask = np.ones((num_folds,), dtype = bool)\n",
    "    mask[i] = False\n",
    "    X_train_cross = np.concatenate(X_train_folds[mask])\n",
    "    y_train_cross = np.concatenate(y_train_folds[mask])\n",
    "    \n",
    "    k_to_accuracies[i] = []\n",
    "    for k in k_choices:\n",
    "        test = KNearestNeighborClassifier(k=k)\n",
    "        test.fit(X_train_cross, y_train_cross)\n",
    "        pred = model.predict(X_test_cross)\n",
    "        k_to_accuracies[i].append(accuracy_score(y_test_cross, pred))"
   ]
  },
  {
   "cell_type": "code",
   "execution_count": 38,
   "id": "110ef5f7",
   "metadata": {
    "deletable": false,
    "editable": false,
    "nbgrader": {
     "cell_type": "code",
     "checksum": "1f539a48494772e41230a2b590897508",
     "grade": true,
     "grade_id": "cell-4d0c3c0a08ed3f82",
     "locked": true,
     "points": 2,
     "schema_version": 3,
     "solution": false,
     "task": false
    }
   },
   "outputs": [
    {
     "name": "stdout",
     "output_type": "stream",
     "text": [
      "k = 0, accuracy = 0.987552\n",
      "k = 0, accuracy = 0.983402\n",
      "k = 0, accuracy = 0.979253\n",
      "k = 0, accuracy = 0.975104\n",
      "k = 0, accuracy = 0.975104\n",
      "k = 0, accuracy = 0.975104\n",
      "k = 0, accuracy = 0.975104\n",
      "k = 0, accuracy = 0.962656\n",
      "k = 0, accuracy = 0.941909\n",
      "k = 0, accuracy = 0.908714\n",
      "k = 1, accuracy = 0.987552\n",
      "k = 1, accuracy = 0.987552\n",
      "k = 1, accuracy = 0.991701\n",
      "k = 1, accuracy = 0.983402\n",
      "k = 1, accuracy = 0.987552\n",
      "k = 1, accuracy = 0.983402\n",
      "k = 1, accuracy = 0.970954\n",
      "k = 1, accuracy = 0.966805\n",
      "k = 1, accuracy = 0.933610\n",
      "k = 1, accuracy = 0.896266\n",
      "k = 2, accuracy = 0.991701\n",
      "k = 2, accuracy = 0.995851\n",
      "k = 2, accuracy = 0.987552\n",
      "k = 2, accuracy = 0.983402\n",
      "k = 2, accuracy = 0.983402\n",
      "k = 2, accuracy = 0.983402\n",
      "k = 2, accuracy = 0.979253\n",
      "k = 2, accuracy = 0.975104\n",
      "k = 2, accuracy = 0.941909\n",
      "k = 2, accuracy = 0.925311\n",
      "k = 3, accuracy = 0.983333\n",
      "k = 3, accuracy = 0.987500\n",
      "k = 3, accuracy = 0.987500\n",
      "k = 3, accuracy = 0.991667\n",
      "k = 3, accuracy = 0.983333\n",
      "k = 3, accuracy = 0.987500\n",
      "k = 3, accuracy = 0.983333\n",
      "k = 3, accuracy = 0.983333\n",
      "k = 3, accuracy = 0.962500\n",
      "k = 3, accuracy = 0.920833\n",
      "k = 4, accuracy = 0.979167\n",
      "k = 4, accuracy = 0.966667\n",
      "k = 4, accuracy = 0.979167\n",
      "k = 4, accuracy = 0.970833\n",
      "k = 4, accuracy = 0.962500\n",
      "k = 4, accuracy = 0.954167\n",
      "k = 4, accuracy = 0.954167\n",
      "k = 4, accuracy = 0.950000\n",
      "k = 4, accuracy = 0.908333\n",
      "k = 4, accuracy = 0.875000\n"
     ]
    }
   ],
   "source": [
    "for k in sorted(k_to_accuracies):\n",
    "    for accuracy in k_to_accuracies[k]:\n",
    "        print('k = %d, accuracy = %f' % (k, accuracy))"
   ]
  }
 ],
 "metadata": {
  "kernelspec": {
   "display_name": "Python 3 (ipykernel)",
   "language": "python",
   "name": "python3"
  },
  "language_info": {
   "codemirror_mode": {
    "name": "ipython",
    "version": 3
   },
   "file_extension": ".py",
   "mimetype": "text/x-python",
   "name": "python",
   "nbconvert_exporter": "python",
   "pygments_lexer": "ipython3",
   "version": "3.8.8"
  }
 },
 "nbformat": 4,
 "nbformat_minor": 5
}
