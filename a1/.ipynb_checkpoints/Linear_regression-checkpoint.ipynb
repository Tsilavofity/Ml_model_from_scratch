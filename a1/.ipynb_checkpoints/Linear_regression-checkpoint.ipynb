{
 "cells": [
  {
   "cell_type": "markdown",
   "metadata": {},
   "source": [
    "# Least squares"
   ]
  },
  {
   "cell_type": "code",
   "execution_count": null,
   "metadata": {
    "deletable": false,
    "editable": false,
    "nbgrader": {
     "cell_type": "code",
     "checksum": "c761885983bb67597d5b71c35a0ec7dd",
     "grade": false,
     "grade_id": "cell-678763ad276cc09f",
     "locked": true,
     "schema_version": 3,
     "solution": false,
     "task": false
    }
   },
   "outputs": [],
   "source": [
    "import numpy as np\n",
    "import scipy\n",
    "from sklearn.metrics import mean_squared_error\n",
    "from sklearn import datasets\n",
    "from sklearn.linear_model import LinearRegression as LR\n",
    "\n",
    "def rel_error(x, y):\n",
    "  \"\"\" returns relative error \"\"\"\n",
    "  return np.max(np.abs(x - y) / (np.maximum(1e-8, np.abs(x) + np.abs(y))))\n",
    "\n",
    "data = datasets.load_diabetes()\n",
    "X_train, y_train = data.data, data.target"
   ]
  },
  {
   "cell_type": "code",
   "execution_count": null,
   "metadata": {
    "deletable": false,
    "nbgrader": {
     "cell_type": "code",
     "checksum": "18180df278e73e6f76e771368ec05383",
     "grade": false,
     "grade_id": "cell-b05eee3d44b96fa8",
     "locked": false,
     "schema_version": 3,
     "solution": true,
     "task": false
    }
   },
   "outputs": [],
   "source": [
    "def fit_inverse(X, y):\n",
    "    \"\"\"Direct method using the inverse\"\"\"\n",
    "    # YOUR CODE HERE\n",
    "     \n",
    "    return np.linalg.inv(X.T @ X) @ X.T @ y"
   ]
  },
  {
   "cell_type": "code",
   "execution_count": null,
   "metadata": {
    "deletable": false,
    "editable": false,
    "nbgrader": {
     "cell_type": "code",
     "checksum": "b45c5a315079b0d1d6e8315caca1e8bc",
     "grade": true,
     "grade_id": "cell-8b04c4a277023f70",
     "locked": true,
     "points": 1,
     "schema_version": 3,
     "solution": false,
     "task": false
    }
   },
   "outputs": [],
   "source": [
    "w = fit_inverse(X_train, y_train)\n",
    "\n",
    "sk_model = LR(fit_intercept=False)\n",
    "sk_model.fit(X_train, y_train)\n",
    "\n",
    "error = rel_error(sk_model.coef_, w)\n",
    "assert error <= 1e-13\n",
    "print(\"prediction error: \", error)"
   ]
  },
  {
   "cell_type": "code",
   "execution_count": null,
   "metadata": {
    "deletable": false,
    "nbgrader": {
     "cell_type": "code",
     "checksum": "0a8508caf7357c557a41778fb85eeed7",
     "grade": false,
     "grade_id": "cell-f47228b1d23c9c3d",
     "locked": false,
     "schema_version": 3,
     "solution": true,
     "task": false
    }
   },
   "outputs": [],
   "source": [
    "def fit_cholesky(X, y):\n",
    "    \"\"\" Cholesky approach \"\"\"\n",
    "    # YOUR CODE HERE\n",
    "    \n",
    "    # Using (XT.X) = L.LT\n",
    "    L = np.linalg.cholesky(X.T @ X)\n",
    "    \n",
    "    # L.LT.w = XT.y\n",
    "    y1 = X.T @ y\n",
    "    \n",
    "    # Z1 = LT.w and we solve L.Z1 = y1\n",
    "    Z1 = np.linalg.solve(L , y1)\n",
    "    \n",
    "    # We solve LT.w = Z1 \n",
    "    return np.linalg.solve(L.T , Z1)"
   ]
  },
  {
   "cell_type": "code",
   "execution_count": null,
   "metadata": {
    "deletable": false,
    "editable": false,
    "nbgrader": {
     "cell_type": "code",
     "checksum": "39571fbbebc2d0b2e4e8c9a0a9db3c34",
     "grade": true,
     "grade_id": "cell-9466dcbcbd7f8417",
     "locked": true,
     "points": 1,
     "schema_version": 3,
     "solution": false,
     "task": false
    }
   },
   "outputs": [],
   "source": [
    "w = fit_cholesky(X_train, y_train)\n",
    "\n",
    "sk_model = LR(fit_intercept=False)\n",
    "sk_model.fit(X_train, y_train)\n",
    "\n",
    "error = rel_error(sk_model.coef_, w)\n",
    "assert error <= 1e-13\n",
    "print(\"prediction error: \", error)"
   ]
  },
  {
   "cell_type": "code",
   "execution_count": null,
   "metadata": {
    "deletable": false,
    "nbgrader": {
     "cell_type": "code",
     "checksum": "41468b8caec731fca738225716663970",
     "grade": false,
     "grade_id": "cell-2877dca319d8a6a7",
     "locked": false,
     "schema_version": 3,
     "solution": true,
     "task": false
    }
   },
   "outputs": [],
   "source": [
    "def fit_qr(X, y):\n",
    "    \"\"\" QR approach\"\"\"\n",
    "    # YOUR CODE HERE\n",
    "    \n",
    "    # Using (XT.X) = q.r\n",
    "    q , r = np.linalg.qr(X.T @ X)\n",
    "    \n",
    "    # q.r.w = XT.y\n",
    "    y1 = X.T @ y\n",
    "    \n",
    "    # z1 = r.w and we solve q.z1 = y1\n",
    "    z1 = np.linalg.solve(q , y1)\n",
    "    \n",
    "    # We solve r.w = z1 \n",
    "    return np.linalg.solve(r , z1)"
   ]
  },
  {
   "cell_type": "code",
   "execution_count": null,
   "metadata": {
    "deletable": false,
    "editable": false,
    "nbgrader": {
     "cell_type": "code",
     "checksum": "f611b7bf0cf2dec0116f24e2107febc5",
     "grade": true,
     "grade_id": "cell-31e8d5d1584d650a",
     "locked": true,
     "points": 1,
     "schema_version": 3,
     "solution": false,
     "task": false
    }
   },
   "outputs": [],
   "source": [
    "w = fit_qr(X_train, y_train)\n",
    "\n",
    "sk_model = LR(fit_intercept=False)\n",
    "sk_model.fit(X_train, y_train)\n",
    "\n",
    "error = rel_error(sk_model.coef_, w)\n",
    "assert error <= 1e-13\n",
    "print(\"prediction error: \", error)"
   ]
  },
  {
   "cell_type": "code",
   "execution_count": null,
   "metadata": {
    "deletable": false,
    "nbgrader": {
     "cell_type": "code",
     "checksum": "92c365f396dd028620c0287625882ad7",
     "grade": false,
     "grade_id": "cell-5073cab85ff159fb",
     "locked": false,
     "schema_version": 3,
     "solution": true,
     "task": false
    }
   },
   "outputs": [],
   "source": [
    "def fit_svd(X, y):\n",
    "    \"\"\" SVD approach\"\"\"\n",
    "    # YOUR CODE HERE\n",
    "    \n",
    "    # Using (XT.X) = U.S.VT\n",
    "    U , S , Vt = np.linalg.svd(X.T @ X)\n",
    "    \n",
    "    # We find the inverse matrix of A_inv = V.(1/S).UT \n",
    "    A_inv = Vt.T @ np.diag(1 / S) @ U.T\n",
    "    y1 = X.T @ y\n",
    "    \n",
    "    # w = inv(U.S.VT).XT.y\n",
    "    return (A_inv @ y1)"
   ]
  },
  {
   "cell_type": "code",
   "execution_count": null,
   "metadata": {
    "deletable": false,
    "editable": false,
    "nbgrader": {
     "cell_type": "code",
     "checksum": "2aae0f7dbc36ef688742fb7d4277e74a",
     "grade": true,
     "grade_id": "cell-e2714349e15197b8",
     "locked": true,
     "points": 1,
     "schema_version": 3,
     "solution": false,
     "task": false
    }
   },
   "outputs": [],
   "source": [
    "w = fit_svd(X_train, y_train)\n",
    "\n",
    "sk_model = LR(fit_intercept=False)\n",
    "sk_model.fit(X_train, y_train)\n",
    "\n",
    "error = rel_error(sk_model.coef_, w)\n",
    "assert error <= 1e-13\n",
    "print(\"prediction error: \", error)"
   ]
  },
  {
   "cell_type": "markdown",
   "metadata": {},
   "source": [
    "## Combine everything in a class"
   ]
  },
  {
   "cell_type": "code",
   "execution_count": null,
   "metadata": {
    "deletable": false,
    "nbgrader": {
     "cell_type": "code",
     "checksum": "93bcc6ce3d01eb1ae19e2674c2089dd0",
     "grade": false,
     "grade_id": "cell-6ec30d1a23311e34",
     "locked": false,
     "schema_version": 3,
     "solution": true,
     "task": false
    }
   },
   "outputs": [],
   "source": [
    "class LinearRegression():\n",
    "    def __init__(self, fit_intercept=True, method=\"inverse\"):\n",
    "        self.w = 0\n",
    "        self.fit_intercept = fit_intercept # bias\n",
    "        self.method = method\n",
    "    \n",
    "    def fit(self, X, y):\n",
    "        # YOUR CODE HERE\n",
    "        \n",
    "        # With bias\n",
    "        if self.fit_intercept == True:\n",
    "            temp = np.ones((len(X), 1))\n",
    "            X = np.concatenate((temp, X), axis=1)\n",
    "            \n",
    "        if self.method == 'cholesky':\n",
    "            self.w = fit_cholesky(X, y)\n",
    "            \n",
    "        elif self.method == 'qr':\n",
    "            self.w = fit_qr(X, y)\n",
    "            \n",
    "        elif self.method == 'svd':\n",
    "            self.w = fit_svd(X, y)\n",
    "        \n",
    "        else:\n",
    "            self.w = fit_inverse(X, y)\n",
    "        \n",
    "    def predict(self, X):\n",
    "        # YOUR CODE HERE\n",
    "        \n",
    "        # with bias\n",
    "        if self.fit_intercept == True:\n",
    "            temp = np.ones((len(X), 1))\n",
    "            X = np.concatenate((temp, X), axis=1)\n",
    "            \n",
    "        return (X @ self.w)    "
   ]
  },
  {
   "cell_type": "markdown",
   "metadata": {},
   "source": [
    "### without the bias term"
   ]
  },
  {
   "cell_type": "code",
   "execution_count": null,
   "metadata": {
    "deletable": false,
    "editable": false,
    "nbgrader": {
     "cell_type": "code",
     "checksum": "7e2566ac9fab2095026b65f7aaed149b",
     "grade": true,
     "grade_id": "cell-8f754988c3d8f3bd",
     "locked": true,
     "points": 1,
     "schema_version": 3,
     "solution": false,
     "task": false
    }
   },
   "outputs": [],
   "source": [
    "# DIRECT INVERSE APPROACH\n",
    "sk_model = LR(fit_intercept=False)\n",
    "sk_model.fit(X_train, y_train)\n",
    "sk_pred = sk_model.predict(X_train)\n",
    "\n",
    "model = LinearRegression(fit_intercept=False)\n",
    "model.fit(X_train, y_train)\n",
    "pred = model.predict(X_train)\n",
    "\n",
    "error = rel_error(pred, sk_pred)\n",
    "assert error <= 1e-11\n",
    "print(\"prediction error: \", error)"
   ]
  },
  {
   "cell_type": "code",
   "execution_count": null,
   "metadata": {
    "deletable": false,
    "editable": false,
    "nbgrader": {
     "cell_type": "code",
     "checksum": "cb9da4d324a63d4ac6ffa9b94a9862f6",
     "grade": true,
     "grade_id": "cell-b2f69e29babd5ffa",
     "locked": true,
     "points": 2,
     "schema_version": 3,
     "solution": false,
     "task": false
    }
   },
   "outputs": [],
   "source": [
    "# OTHER APPROACHES\n",
    "sk_model = LR(fit_intercept=False)\n",
    "sk_model.fit(X_train, y_train)\n",
    "sk_pred = sk_model.predict(X_train)\n",
    "\n",
    "model_cholesky = LinearRegression(fit_intercept=False, method=\"cholesky\")\n",
    "model_cholesky.fit(X_train, y_train)\n",
    "pred_cholesky = model_cholesky.predict(X_train)\n",
    "\n",
    "error_cholesky = rel_error(pred_cholesky, sk_pred)\n",
    "assert error_cholesky <= 1e-11\n",
    "print(\"prediction error cholesky: \", error_cholesky)\n",
    "\n",
    "model_qr = LinearRegression(fit_intercept=False, method=\"qr\")\n",
    "model_qr.fit(X_train, y_train)\n",
    "pred_qr = model_qr.predict(X_train)\n",
    "\n",
    "error_qr = rel_error(pred_qr, sk_pred)\n",
    "assert error_qr <= 1e-11\n",
    "print(\"prediction error qr: \", error_qr)\n",
    "\n",
    "model_svd = LinearRegression(fit_intercept=False, method=\"svd\")\n",
    "model_svd.fit(X_train, y_train)\n",
    "pred_svd = model_cholesky.predict(X_train)\n",
    "\n",
    "error_cholesky = rel_error(pred_svd, sk_pred)\n",
    "assert error_cholesky <= 1e-11\n",
    "print(\"prediction error svd: \", error_cholesky)"
   ]
  },
  {
   "cell_type": "markdown",
   "metadata": {},
   "source": [
    "### with the bias term"
   ]
  },
  {
   "cell_type": "code",
   "execution_count": null,
   "metadata": {
    "deletable": false,
    "editable": false,
    "nbgrader": {
     "cell_type": "code",
     "checksum": "156f79e2fa426ed177d2c33c99ee2277",
     "grade": true,
     "grade_id": "cell-7271d3ca16bb71bf",
     "locked": true,
     "points": 1,
     "schema_version": 3,
     "solution": false,
     "task": false
    }
   },
   "outputs": [],
   "source": [
    "# DIRECT INVERSE APPROACH\n",
    "sk_model = LR(fit_intercept=True)\n",
    "sk_model.fit(X_train, y_train)\n",
    "sk_pred = sk_model.predict(X_train)\n",
    "\n",
    "model = LinearRegression(fit_intercept=True)\n",
    "model.fit(X_train, y_train)\n",
    "pred = model.predict(X_train)\n",
    "\n",
    "error = rel_error(pred, sk_pred)\n",
    "assert error <= 1e-14\n",
    "print(\"prediction error: \", error)"
   ]
  },
  {
   "cell_type": "code",
   "execution_count": null,
   "metadata": {
    "deletable": false,
    "editable": false,
    "nbgrader": {
     "cell_type": "code",
     "checksum": "a745a016521d45e3b82ceb09d2810cce",
     "grade": true,
     "grade_id": "cell-4b23ad5ab726d0e9",
     "locked": true,
     "points": 2,
     "schema_version": 3,
     "solution": false,
     "task": false
    }
   },
   "outputs": [],
   "source": [
    "# OTHER APPROACHES\n",
    "sk_model = LR(fit_intercept=True)\n",
    "sk_model.fit(X_train, y_train)\n",
    "sk_pred = sk_model.predict(X_train)\n",
    "\n",
    "model_cholesky = LinearRegression(fit_intercept=True, method=\"cholesky\")\n",
    "model_cholesky.fit(X_train, y_train)\n",
    "pred_cholesky = model_cholesky.predict(X_train)\n",
    "\n",
    "error_cholesky = rel_error(pred_cholesky, sk_pred)\n",
    "assert error_cholesky <= 1e-11\n",
    "print(\"prediction error cholesky: \", error_cholesky)\n",
    "\n",
    "model_qr = LinearRegression(fit_intercept=True, method=\"qr\")\n",
    "model_qr.fit(X_train, y_train)\n",
    "pred_qr = model_qr.predict(X_train)\n",
    "\n",
    "error_qr = rel_error(pred_qr, sk_pred)\n",
    "assert error_qr <= 1e-11\n",
    "print(\"prediction error qr: \", error_qr)\n",
    "\n",
    "model_svd = LinearRegression(fit_intercept=True, method=\"svd\")\n",
    "model_svd.fit(X_train, y_train)\n",
    "pred_svd = model_cholesky.predict(X_train)\n",
    "\n",
    "error_cholesky = rel_error(pred_svd, sk_pred)\n",
    "assert error_cholesky <= 1e-11\n",
    "print(\"prediction error svd: \", error_cholesky)"
   ]
  },
  {
   "cell_type": "markdown",
   "metadata": {
    "deletable": false,
    "editable": false,
    "nbgrader": {
     "cell_type": "markdown",
     "checksum": "64b273435217b384d4d560a4f85448f3",
     "grade": false,
     "grade_id": "cell-3b3e6a1f253ca9e9",
     "locked": true,
     "points": 1,
     "schema_version": 3,
     "solution": false,
     "task": true
    }
   },
   "source": [
    "Compare the running time of the different approaches on a large dataset"
   ]
  },
  {
   "cell_type": "code",
   "execution_count": null,
   "metadata": {},
   "outputs": [],
   "source": [
    "import pandas as pd\n",
    "import time\n",
    "\n",
    "# Runtime using time()\n",
    "X = pd.read_csv(\"USA_Housing.csv\")\n",
    "\n",
    "Y = X[\"Price\"]\n",
    "\n",
    "X = X[[\"Avg. Area Income\",\"Avg. Area House Age\",\"Avg. Area Number of Rooms\",\"Avg. Area Number of Bedrooms\",\n",
    "      \"Area Population\"]]\n",
    "\n",
    "start = time.time()\n",
    "model = LinearRegression(True,\"inverse\")\n",
    "model.fit(X,Y)\n",
    "end = time.time()\n",
    "\n",
    "print(\"Inverse runtime:\",end-start)\n",
    "\n",
    "start = time.time()\n",
    "model = LinearRegression(True,\"cholesky\")\n",
    "model.fit(X,Y)\n",
    "end = time.time()\n",
    "\n",
    "print(\"Cholesky runtime:\",end-start)\n",
    "\n",
    "start = time.time()\n",
    "model = LinearRegression(True,\"qr\")\n",
    "model.fit(X,Y)\n",
    "end = time.time()\n",
    "\n",
    "print(\"QR runtime:\",end-start)\n",
    "\n",
    "start = time.time()\n",
    "model = LinearRegression(True,\"svd\")\n",
    "model.fit(X,Y)\n",
    "end = time.time()\n",
    "\n",
    "print(\"SVD runtime:\",end-start)"
   ]
  }
 ],
 "metadata": {
  "kernelspec": {
   "display_name": "Python 3 (ipykernel)",
   "language": "python",
   "name": "python3"
  },
  "language_info": {
   "codemirror_mode": {
    "name": "ipython",
    "version": 3
   },
   "file_extension": ".py",
   "mimetype": "text/x-python",
   "name": "python",
   "nbconvert_exporter": "python",
   "pygments_lexer": "ipython3",
   "version": "3.8.8"
  }
 },
 "nbformat": 4,
 "nbformat_minor": 4
}
